{
 "cells": [
  {
   "cell_type": "markdown",
   "metadata": {
    "button": false,
    "deletable": true,
    "new_sheet": false,
    "run_control": {
     "read_only": false
    }
   },
   "source": [
    "<a href=\"https://cognitiveclass.ai\"><img src = \"https://ibm.box.com/shared/static/9gegpsmnsoo25ikkbl4qzlvlyjbgxs5x.png\" width = 400> </a>\n",
    "\n",
    "<h1 align=center><font size = 5>Learning FourSquare API with Python</font></h1>"
   ]
  },
  {
   "cell_type": "markdown",
   "metadata": {
    "button": false,
    "deletable": true,
    "new_sheet": false,
    "run_control": {
     "read_only": false
    }
   },
   "source": [
    "   "
   ]
  },
  {
   "cell_type": "markdown",
   "metadata": {
    "button": false,
    "deletable": true,
    "new_sheet": false,
    "run_control": {
     "read_only": false
    }
   },
   "source": [
    "## Introduction\n",
    "\n",
    "In this lab, you will learn in details how to make calls to the Foursquare API for different purposes. You will learn how to construct a URL to send a request to the API to search for a specific type of venues, to explore a particular venue, to explore a Foursquare user, to explore a geographical location, and to get trending venues around a location. Also, you will learn how to use the visualization library, Folium, to visualize the results."
   ]
  },
  {
   "cell_type": "markdown",
   "metadata": {
    "button": false,
    "deletable": true,
    "new_sheet": false,
    "run_control": {
     "read_only": false
    }
   },
   "source": [
    "## Table of Contents\n",
    "\n",
    "1. <a href=\"#item1\">Foursquare API Search Function</a>\n",
    "2. <a href=\"#item2\">Explore a Given Venue</a>  \n",
    "3. <a href=\"#item3\">Explore a User</a>  \n",
    "4. <a href=\"#item4\">Foursquare API Explore Function</a>  \n",
    "5. <a href=\"#item5\">Get Trending Venues</a>  "
   ]
  },
  {
   "cell_type": "markdown",
   "metadata": {
    "button": false,
    "deletable": true,
    "new_sheet": false,
    "run_control": {
     "read_only": false
    }
   },
   "source": [
    "### Import necessary Libraries"
   ]
  },
  {
   "cell_type": "code",
   "execution_count": 1,
   "metadata": {
    "button": false,
    "collapsed": false,
    "deletable": true,
    "jupyter": {
     "outputs_hidden": false
    },
    "new_sheet": false,
    "run_control": {
     "read_only": false
    }
   },
   "outputs": [
    {
     "name": "stdout",
     "output_type": "stream",
     "text": [
      "Collecting package metadata (current_repodata.json): ...working... done\n",
      "Solving environment: ...working... \n",
      "Warning: 2 possible package resolutions (only showing differing packages):\n",
      "  - anaconda/win-64::openssl-1.1.1d-he774522_2\n",
      "  - defaults/win-64::openssl-1.1.1d-he774522_2done\n",
      "\n",
      "## Package Plan ##\n",
      "\n",
      "  environment location: C:\\Users\\Jota_Moreno\\Anaconda3\n",
      "\n",
      "  added / updated specs:\n",
      "    - geopy\n",
      "\n",
      "\n",
      "The following packages will be downloaded:\n",
      "\n",
      "    package                    |            build\n",
      "    ---------------------------|-----------------\n",
      "    geographiclib-1.50         |             py_0          34 KB  conda-forge\n",
      "    geopy-1.21.0               |             py_0          58 KB  conda-forge\n",
      "    ------------------------------------------------------------\n",
      "                                           Total:          92 KB\n",
      "\n",
      "The following NEW packages will be INSTALLED:\n",
      "\n",
      "  geographiclib      conda-forge/noarch::geographiclib-1.50-py_0\n",
      "  geopy              conda-forge/noarch::geopy-1.21.0-py_0\n",
      "\n",
      "The following packages will be UPDATED:\n",
      "\n",
      "  conda                        anaconda::conda-4.8.3-py37_0 --> conda-forge::conda-4.8.3-py37hc8dfbb8_1\n",
      "\n",
      "\n",
      "\n",
      "Downloading and Extracting Packages\n",
      "\n",
      "geopy-1.21.0         | 58 KB     |            |   0% \n",
      "geopy-1.21.0         | 58 KB     | ##7        |  27% \n",
      "geopy-1.21.0         | 58 KB     | ########## | 100% \n",
      "\n",
      "geographiclib-1.50   | 34 KB     |            |   0% \n",
      "geographiclib-1.50   | 34 KB     | ########## | 100% \n",
      "Preparing transaction: ...working... done\n",
      "Verifying transaction: ...working... done\n",
      "Executing transaction: ...working... done\n",
      "Folium installed\n",
      "Libraries imported.\n"
     ]
    }
   ],
   "source": [
    "import requests # library to handle requests\n",
    "import pandas as pd # library for data analsysis\n",
    "import numpy as np # library to handle data in a vectorized manner\n",
    "import random # library for random number generation\n",
    "\n",
    "#conda install -c conda-forge geopy --yes \n",
    "from geopy.geocoders import Nominatim # module to convert an address into latitude and longitude values\n",
    "\n",
    "# libraries for displaying images\n",
    "from IPython.display import Image \n",
    "from IPython.core.display import HTML \n",
    "    \n",
    "# tranforming json file into a pandas dataframe library\n",
    "from pandas.io.json import json_normalize\n",
    "\n",
    "#!conda install -c conda-forge folium=0.5.0 --yes\n",
    "import folium # plotting library\n",
    "\n",
    "print('Folium installed')\n",
    "print('Libraries imported.')"
   ]
  },
  {
   "cell_type": "markdown",
   "metadata": {
    "button": false,
    "deletable": true,
    "new_sheet": false,
    "run_control": {
     "read_only": false
    }
   },
   "source": [
    "### Define Foursquare Credentials and Version"
   ]
  },
  {
   "cell_type": "markdown",
   "metadata": {
    "button": false,
    "deletable": true,
    "new_sheet": false,
    "run_control": {
     "read_only": false
    }
   },
   "source": [
    "##### Make sure that you have created a Foursquare developer account and have your credentials handy"
   ]
  },
  {
   "cell_type": "code",
   "execution_count": 139,
   "metadata": {},
   "outputs": [],
   "source": [
    "credentials = pd.read_excel(\"Foursquare.xlsx\")"
   ]
  },
  {
   "cell_type": "code",
   "execution_count": 15,
   "metadata": {
    "button": false,
    "collapsed": false,
    "deletable": true,
    "jupyter": {
     "outputs_hidden": false
    },
    "new_sheet": false,
    "run_control": {
     "read_only": false
    }
   },
   "outputs": [
    {
     "name": "stdout",
     "output_type": "stream",
     "text": [
      "Your credentails:\n",
      "CLIENT_ID: your-client-ID\n",
      "CLIENT_SECRET:your-client-secret\n"
     ]
    }
   ],
   "source": [
    "CLIENT_ID = 'your-client-ID' # your Foursquare ID\n",
    "CLIENT_SECRET = 'your-client-secret' # your Foursquare Secret\n",
    "VERSION = '20180604'\n",
    "LIMIT = 30\n",
    "print('Your credentails:')\n",
    "print('CLIENT_ID: ' + CLIENT_ID)\n",
    "print('CLIENT_SECRET:' + CLIENT_SECRET)"
   ]
  },
  {
   "cell_type": "code",
   "execution_count": 140,
   "metadata": {},
   "outputs": [],
   "source": [
    "CLIENT_ID = credentials.loc[0,\"CLIENT ID\"]\n",
    "CLIENT_SECRET = credentials.loc[0,\"CLIENT SECRET\"]\n",
    "ACCESS_TOKEN = credentials.loc[0,\"ACCESS_TOKEN\"]\n",
    "VERSION = '20180604'"
   ]
  },
  {
   "cell_type": "markdown",
   "metadata": {
    "button": false,
    "deletable": true,
    "new_sheet": false,
    "run_control": {
     "read_only": false
    }
   },
   "source": [
    "  "
   ]
  },
  {
   "cell_type": "markdown",
   "metadata": {
    "button": false,
    "deletable": true,
    "new_sheet": false,
    "run_control": {
     "read_only": false
    }
   },
   "source": [
    "#### Let's again assume that you are staying at the Conrad hotel. So let's start by converting the Contrad Hotel's address to its latitude and longitude coordinates."
   ]
  },
  {
   "cell_type": "markdown",
   "metadata": {},
   "source": [
    "In order to define an instance of the geocoder, we need to define a user_agent. We will name our agent <em>foursquare_agent</em>, as shown below."
   ]
  },
  {
   "cell_type": "code",
   "execution_count": 49,
   "metadata": {},
   "outputs": [
    {
     "name": "stdout",
     "output_type": "stream",
     "text": [
      "40.416865400000006 -3.7043021694877964\n"
     ]
    }
   ],
   "source": [
    "address = 'Puerta del Sol, Madrid, SPAIN'\n",
    "\n",
    "geolocator = Nominatim(user_agent=\"foursquare_agent\")\n",
    "location = geolocator.geocode(address)\n",
    "latitude = location.latitude\n",
    "longitude = location.longitude\n",
    "print(latitude, longitude)"
   ]
  },
  {
   "cell_type": "code",
   "execution_count": 59,
   "metadata": {
    "button": false,
    "collapsed": false,
    "deletable": true,
    "jupyter": {
     "outputs_hidden": false
    },
    "new_sheet": false,
    "run_control": {
     "read_only": false
    }
   },
   "outputs": [
    {
     "name": "stdout",
     "output_type": "stream",
     "text": [
      "40.7151482 -74.0156573\n"
     ]
    }
   ],
   "source": [
    "address = '102 North End Ave, New York, NY'\n",
    "\n",
    "geolocator = Nominatim(user_agent=\"foursquare_agent\")\n",
    "location = geolocator.geocode(address)\n",
    "latitude = location.latitude\n",
    "longitude = location.longitude\n",
    "print(latitude, longitude)"
   ]
  },
  {
   "cell_type": "markdown",
   "metadata": {
    "button": false,
    "deletable": true,
    "new_sheet": false,
    "run_control": {
     "read_only": false
    }
   },
   "source": [
    "   "
   ]
  },
  {
   "cell_type": "markdown",
   "metadata": {
    "button": false,
    "deletable": true,
    "new_sheet": false,
    "run_control": {
     "read_only": false
    }
   },
   "source": [
    "<a id=\"item1\"></a>"
   ]
  },
  {
   "cell_type": "markdown",
   "metadata": {
    "button": false,
    "deletable": true,
    "new_sheet": false,
    "run_control": {
     "read_only": false
    }
   },
   "source": [
    "## 1. Search for a specific venue category\n",
    "> `https://api.foursquare.com/v2/venues/`**search**`?client_id=`**CLIENT_ID**`&client_secret=`**CLIENT_SECRET**`&ll=`**LATITUDE**`,`**LONGITUDE**`&v=`**VERSION**`&query=`**QUERY**`&radius=`**RADIUS**`&limit=`**LIMIT**"
   ]
  },
  {
   "cell_type": "markdown",
   "metadata": {
    "button": false,
    "deletable": true,
    "new_sheet": false,
    "run_control": {
     "read_only": false
    }
   },
   "source": [
    "#### Now, let's assume that it is lunch time, and you are craving Italian food. So, let's define a query to search for Italian food that is within 500 metres from the Conrad Hotel. "
   ]
  },
  {
   "cell_type": "code",
   "execution_count": 60,
   "metadata": {
    "button": false,
    "collapsed": false,
    "deletable": true,
    "jupyter": {
     "outputs_hidden": false
    },
    "new_sheet": false,
    "run_control": {
     "read_only": false
    },
    "scrolled": true
   },
   "outputs": [
    {
     "name": "stdout",
     "output_type": "stream",
     "text": [
      "Italian .... OK!\n"
     ]
    }
   ],
   "source": [
    "search_query = 'Italian'\n",
    "radius = 500\n",
    "print(search_query + ' .... OK!')"
   ]
  },
  {
   "cell_type": "markdown",
   "metadata": {
    "button": false,
    "deletable": true,
    "new_sheet": false,
    "run_control": {
     "read_only": false
    }
   },
   "source": [
    "#### Define the corresponding URL"
   ]
  },
  {
   "cell_type": "code",
   "execution_count": 61,
   "metadata": {
    "button": false,
    "collapsed": false,
    "deletable": true,
    "jupyter": {
     "outputs_hidden": false
    },
    "new_sheet": false,
    "run_control": {
     "read_only": false
    }
   },
   "outputs": [
    {
     "data": {
      "text/plain": [
       "'https://api.foursquare.com/v2/venues/search?client_id=CCGWO22YNNJUOMYZS1AADPMWPS2J2UUB5OYAQGFJGNHWZO4K&client_secret=W4XNKMFSPF2Q2SWQJXFQN1ZTH0VBR1EIKO3ERYDNGUX55TKU&ll=40.7151482,-74.0156573&v=20180604&query=Italian&radius=1500&limit=30'"
      ]
     },
     "execution_count": 61,
     "metadata": {},
     "output_type": "execute_result"
    }
   ],
   "source": [
    "url = 'https://api.foursquare.com/v2/venues/search?client_id={}&client_secret={}&ll={},{}&v={}&query={}&radius={}&limit={}'.format(CLIENT_ID, CLIENT_SECRET, latitude, longitude, VERSION, search_query, radius, LIMIT)\n",
    "url"
   ]
  },
  {
   "cell_type": "markdown",
   "metadata": {
    "button": false,
    "deletable": true,
    "new_sheet": false,
    "run_control": {
     "read_only": false
    }
   },
   "source": [
    "#### Send the GET Request and examine the results"
   ]
  },
  {
   "cell_type": "code",
   "execution_count": 62,
   "metadata": {
    "button": false,
    "collapsed": false,
    "deletable": true,
    "jupyter": {
     "outputs_hidden": false
    },
    "new_sheet": false,
    "run_control": {
     "read_only": false
    },
    "scrolled": true
   },
   "outputs": [
    {
     "data": {
      "text/plain": [
       "{'meta': {'code': 200, 'requestId': '5eb2cc341a4b0a002874a672'},\n",
       " 'response': {'venues': [{'id': '4a4560a7f964a5201aa81fe3',\n",
       "    'name': \"Harry's Italian Pizza Bar\",\n",
       "    'location': {'address': '2 Gold St',\n",
       "     'crossStreet': 'at Maiden Ln.',\n",
       "     'lat': 40.7076335455641,\n",
       "     'lng': -74.00699585960496,\n",
       "     'labeledLatLngs': [{'label': 'display',\n",
       "       'lat': 40.7076335455641,\n",
       "       'lng': -74.00699585960496}],\n",
       "     'distance': 1110,\n",
       "     'postalCode': '10038',\n",
       "     'cc': 'US',\n",
       "     'city': 'New York',\n",
       "     'state': 'NY',\n",
       "     'country': 'United States',\n",
       "     'formattedAddress': ['2 Gold St (at Maiden Ln.)',\n",
       "      'New York, NY 10038',\n",
       "      'United States']},\n",
       "    'categories': [{'id': '4bf58dd8d48988d110941735',\n",
       "      'name': 'Italian Restaurant',\n",
       "      'pluralName': 'Italian Restaurants',\n",
       "      'shortName': 'Italian',\n",
       "      'icon': {'prefix': 'https://ss3.4sqi.net/img/categories_v2/food/italian_',\n",
       "       'suffix': '.png'},\n",
       "      'primary': True}],\n",
       "    'venuePage': {'id': '77559825'},\n",
       "    'referralId': 'v-1588775847',\n",
       "    'hasPerk': False},\n",
       "   {'id': '4e4c4e62bd413c4cc6686059',\n",
       "    'name': \"Carmela's Italian Specialties\",\n",
       "    'location': {'address': '30 Water St',\n",
       "     'lat': 40.71981178398971,\n",
       "     'lng': -74.03504130880152,\n",
       "     'labeledLatLngs': [{'label': 'display',\n",
       "       'lat': 40.71981178398971,\n",
       "       'lng': -74.03504130880152}],\n",
       "     'distance': 1715,\n",
       "     'postalCode': '10004',\n",
       "     'cc': 'US',\n",
       "     'city': 'New York',\n",
       "     'state': 'NJ',\n",
       "     'country': 'United States',\n",
       "     'formattedAddress': ['30 Water St',\n",
       "      'New York, NJ 10004',\n",
       "      'United States']},\n",
       "    'categories': [{'id': '4bf58dd8d48988d1ca941735',\n",
       "      'name': 'Pizza Place',\n",
       "      'pluralName': 'Pizza Places',\n",
       "      'shortName': 'Pizza',\n",
       "      'icon': {'prefix': 'https://ss3.4sqi.net/img/categories_v2/food/pizza_',\n",
       "       'suffix': '.png'},\n",
       "      'primary': True}],\n",
       "    'referralId': 'v-1588775847',\n",
       "    'hasPerk': False},\n",
       "   {'id': '4fa862b3e4b0ebff2f749f06',\n",
       "    'name': \"Harry's Italian Pizza Bar\",\n",
       "    'location': {'address': '225 Murray St',\n",
       "     'lat': 40.71521779064671,\n",
       "     'lng': -74.01473940209351,\n",
       "     'labeledLatLngs': [{'label': 'display',\n",
       "       'lat': 40.71521779064671,\n",
       "       'lng': -74.01473940209351},\n",
       "      {'label': 'entrance', 'lat': 40.715361, 'lng': -74.014975}],\n",
       "     'distance': 77,\n",
       "     'postalCode': '10282',\n",
       "     'cc': 'US',\n",
       "     'city': 'New York',\n",
       "     'state': 'NY',\n",
       "     'country': 'United States',\n",
       "     'formattedAddress': ['225 Murray St',\n",
       "      'New York, NY 10282',\n",
       "      'United States']},\n",
       "    'categories': [{'id': '4bf58dd8d48988d1ca941735',\n",
       "      'name': 'Pizza Place',\n",
       "      'pluralName': 'Pizza Places',\n",
       "      'shortName': 'Pizza',\n",
       "      'icon': {'prefix': 'https://ss3.4sqi.net/img/categories_v2/food/pizza_',\n",
       "       'suffix': '.png'},\n",
       "      'primary': True}],\n",
       "    'referralId': 'v-1588775847',\n",
       "    'hasPerk': False},\n",
       "   {'id': '4f3feae2e4b0ac9416a72118',\n",
       "    'name': 'Benvenuti Italian Specialties',\n",
       "    'location': {'address': '235 S End Ave',\n",
       "     'lat': 40.70968105555279,\n",
       "     'lng': -74.01652043988257,\n",
       "     'labeledLatLngs': [{'label': 'display',\n",
       "       'lat': 40.70968105555279,\n",
       "       'lng': -74.01652043988257}],\n",
       "     'distance': 612,\n",
       "     'postalCode': '10280',\n",
       "     'cc': 'US',\n",
       "     'city': 'New York',\n",
       "     'state': 'NY',\n",
       "     'country': 'United States',\n",
       "     'formattedAddress': ['235 S End Ave',\n",
       "      'New York, NY 10280',\n",
       "      'United States']},\n",
       "    'categories': [{'id': '4bf58dd8d48988d1f5941735',\n",
       "      'name': 'Gourmet Shop',\n",
       "      'pluralName': 'Gourmet Shops',\n",
       "      'shortName': 'Gourmet',\n",
       "      'icon': {'prefix': 'https://ss3.4sqi.net/img/categories_v2/shops/food_gourmet_',\n",
       "       'suffix': '.png'},\n",
       "      'primary': True}],\n",
       "    'delivery': {'id': '285069',\n",
       "     'url': 'https://www.seamless.com/menu/benvenuti-235-s-end-ave-new-york/285069?affiliate=1131&utm_source=foursquare-affiliate-network&utm_medium=affiliate&utm_campaign=1131&utm_content=285069',\n",
       "     'provider': {'name': 'seamless',\n",
       "      'icon': {'prefix': 'https://fastly.4sqi.net/img/general/cap/',\n",
       "       'sizes': [40, 50],\n",
       "       'name': '/delivery_provider_seamless_20180129.png'}}},\n",
       "    'referralId': 'v-1588775847',\n",
       "    'hasPerk': False},\n",
       "   {'id': '4f3232e219836c91c7bfde94',\n",
       "    'name': 'Conca Cucina Italian Restaurant',\n",
       "    'location': {'address': '63 W Broadway',\n",
       "     'lat': 40.714484000000006,\n",
       "     'lng': -74.00980600000001,\n",
       "     'labeledLatLngs': [{'label': 'display',\n",
       "       'lat': 40.714484000000006,\n",
       "       'lng': -74.00980600000001}],\n",
       "     'distance': 499,\n",
       "     'postalCode': '10007',\n",
       "     'cc': 'US',\n",
       "     'city': 'New York',\n",
       "     'state': 'NY',\n",
       "     'country': 'United States',\n",
       "     'formattedAddress': ['63 W Broadway',\n",
       "      'New York, NY 10007',\n",
       "      'United States']},\n",
       "    'categories': [{'id': '4d4b7105d754a06374d81259',\n",
       "      'name': 'Food',\n",
       "      'pluralName': 'Food',\n",
       "      'shortName': 'Food',\n",
       "      'icon': {'prefix': 'https://ss3.4sqi.net/img/categories_v2/food/default_',\n",
       "       'suffix': '.png'},\n",
       "      'primary': True}],\n",
       "    'referralId': 'v-1588775847',\n",
       "    'hasPerk': False},\n",
       "   {'id': '528bf16711d2b7722da6b51c',\n",
       "    'name': 'Pisillo Italian Panini',\n",
       "    'location': {'address': '97 Nassau St',\n",
       "     'crossStreet': 'at Ann St',\n",
       "     'lat': 40.710530084460785,\n",
       "     'lng': -74.00752571804911,\n",
       "     'labeledLatLngs': [{'label': 'display',\n",
       "       'lat': 40.710530084460785,\n",
       "       'lng': -74.00752571804911}],\n",
       "     'distance': 857,\n",
       "     'postalCode': '10038',\n",
       "     'cc': 'US',\n",
       "     'city': 'New York',\n",
       "     'state': 'NY',\n",
       "     'country': 'United States',\n",
       "     'formattedAddress': ['97 Nassau St (at Ann St)',\n",
       "      'New York, NY 10038',\n",
       "      'United States']},\n",
       "    'categories': [{'id': '4bf58dd8d48988d1c5941735',\n",
       "      'name': 'Sandwich Place',\n",
       "      'pluralName': 'Sandwich Places',\n",
       "      'shortName': 'Sandwiches',\n",
       "      'icon': {'prefix': 'https://ss3.4sqi.net/img/categories_v2/food/deli_',\n",
       "       'suffix': '.png'},\n",
       "      'primary': True}],\n",
       "    'delivery': {'id': '286355',\n",
       "     'url': 'https://www.seamless.com/menu/pisillo-97-nassau-st-new-york/286355?affiliate=1131&utm_source=foursquare-affiliate-network&utm_medium=affiliate&utm_campaign=1131&utm_content=286355',\n",
       "     'provider': {'name': 'seamless',\n",
       "      'icon': {'prefix': 'https://fastly.4sqi.net/img/general/cap/',\n",
       "       'sizes': [40, 50],\n",
       "       'name': '/delivery_provider_seamless_20180129.png'}}},\n",
       "    'venuePage': {'id': '105457747'},\n",
       "    'referralId': 'v-1588775847',\n",
       "    'hasPerk': False},\n",
       "   {'id': '588a4316326c5a4b60559f17',\n",
       "    'name': 'Pisillo Italian Cafe',\n",
       "    'location': {'lat': 40.71049280792626,\n",
       "     'lng': -74.00754611675153,\n",
       "     'labeledLatLngs': [{'label': 'display',\n",
       "       'lat': 40.71049280792626,\n",
       "       'lng': -74.00754611675153}],\n",
       "     'distance': 858,\n",
       "     'cc': 'US',\n",
       "     'city': 'New York',\n",
       "     'state': 'NY',\n",
       "     'country': 'United States',\n",
       "     'formattedAddress': ['New York, NY', 'United States']},\n",
       "    'categories': [{'id': '4bf58dd8d48988d16d941735',\n",
       "      'name': 'Café',\n",
       "      'pluralName': 'Cafés',\n",
       "      'shortName': 'Café',\n",
       "      'icon': {'prefix': 'https://ss3.4sqi.net/img/categories_v2/food/cafe_',\n",
       "       'suffix': '.png'},\n",
       "      'primary': True}],\n",
       "    'referralId': 'v-1588775847',\n",
       "    'hasPerk': False},\n",
       "   {'id': '4e4c4d28bd413c4cc66857a5',\n",
       "    'name': \"Caruso's Italian Restaurant\",\n",
       "    'location': {'address': '42 Broadway',\n",
       "     'lat': 40.710509099999996,\n",
       "     'lng': -74.00827615,\n",
       "     'labeledLatLngs': [{'label': 'display',\n",
       "       'lat': 40.710509099999996,\n",
       "       'lng': -74.00827615}],\n",
       "     'distance': 809,\n",
       "     'postalCode': '10004',\n",
       "     'cc': 'US',\n",
       "     'city': 'New York',\n",
       "     'state': 'NY',\n",
       "     'country': 'United States',\n",
       "     'formattedAddress': ['42 Broadway',\n",
       "      'New York, NY 10004',\n",
       "      'United States']},\n",
       "    'categories': [{'id': '4bf58dd8d48988d110941735',\n",
       "      'name': 'Italian Restaurant',\n",
       "      'pluralName': 'Italian Restaurants',\n",
       "      'shortName': 'Italian',\n",
       "      'icon': {'prefix': 'https://ss3.4sqi.net/img/categories_v2/food/italian_',\n",
       "       'suffix': '.png'},\n",
       "      'primary': True}],\n",
       "    'referralId': 'v-1588775847',\n",
       "    'hasPerk': False},\n",
       "   {'id': '4cf7d538dc40a35d26894f54',\n",
       "    'name': 'Italian Culinary Academy',\n",
       "    'location': {'address': '462 Broadway',\n",
       "     'crossStreet': 'Grand St.',\n",
       "     'lat': 40.71883786954379,\n",
       "     'lng': -73.99783518413365,\n",
       "     'labeledLatLngs': [{'label': 'display',\n",
       "       'lat': 40.71883786954379,\n",
       "       'lng': -73.99783518413365}],\n",
       "     'distance': 1558,\n",
       "     'postalCode': '10013',\n",
       "     'cc': 'US',\n",
       "     'city': 'New York',\n",
       "     'state': 'NY',\n",
       "     'country': 'United States',\n",
       "     'formattedAddress': ['462 Broadway (Grand St.)',\n",
       "      'New York, NY 10013',\n",
       "      'United States']},\n",
       "    'categories': [{'id': '4bf58dd8d48988d199941735',\n",
       "      'name': 'College Arts Building',\n",
       "      'pluralName': 'College Arts Buildings',\n",
       "      'shortName': 'Arts',\n",
       "      'icon': {'prefix': 'https://ss3.4sqi.net/img/categories_v2/arts_entertainment/default_',\n",
       "       'suffix': '.png'},\n",
       "      'primary': True}],\n",
       "    'referralId': 'v-1588775847',\n",
       "    'hasPerk': False},\n",
       "   {'id': '4c3b8244def90f478f0ffe2d',\n",
       "    'name': 'Barber Italian Shop',\n",
       "    'location': {'address': '120 Broadway',\n",
       "     'crossStreet': 'btw Cedar & Pine',\n",
       "     'lat': 40.70796968555732,\n",
       "     'lng': -74.00994920143108,\n",
       "     'labeledLatLngs': [{'label': 'display',\n",
       "       'lat': 40.70796968555732,\n",
       "       'lng': -74.00994920143108}],\n",
       "     'distance': 933,\n",
       "     'postalCode': '10271',\n",
       "     'cc': 'US',\n",
       "     'city': 'New York',\n",
       "     'state': 'NY',\n",
       "     'country': 'United States',\n",
       "     'formattedAddress': ['120 Broadway (btw Cedar & Pine)',\n",
       "      'New York, NY 10271',\n",
       "      'United States']},\n",
       "    'categories': [{'id': '4bf58dd8d48988d103951735',\n",
       "      'name': 'Clothing Store',\n",
       "      'pluralName': 'Clothing Stores',\n",
       "      'shortName': 'Apparel',\n",
       "      'icon': {'prefix': 'https://ss3.4sqi.net/img/categories_v2/shops/apparel_',\n",
       "       'suffix': '.png'},\n",
       "      'primary': True}],\n",
       "    'referralId': 'v-1588775847',\n",
       "    'hasPerk': False},\n",
       "   {'id': '50de11fde4b0a94f4e13d7cd',\n",
       "    'name': 'Italian Bakery 160 Prince',\n",
       "    'location': {'lat': 40.725955,\n",
       "     'lng': -74.001161,\n",
       "     'labeledLatLngs': [{'label': 'display',\n",
       "       'lat': 40.725955,\n",
       "       'lng': -74.001161}],\n",
       "     'distance': 1715,\n",
       "     'postalCode': '10012',\n",
       "     'cc': 'US',\n",
       "     'city': 'New York',\n",
       "     'state': 'NY',\n",
       "     'country': 'United States',\n",
       "     'formattedAddress': ['New York, NY 10012', 'United States']},\n",
       "    'categories': [{'id': '4bf58dd8d48988d16a941735',\n",
       "      'name': 'Bakery',\n",
       "      'pluralName': 'Bakeries',\n",
       "      'shortName': 'Bakery',\n",
       "      'icon': {'prefix': 'https://ss3.4sqi.net/img/categories_v2/food/bakery_',\n",
       "       'suffix': '.png'},\n",
       "      'primary': True}],\n",
       "    'referralId': 'v-1588775847',\n",
       "    'hasPerk': False},\n",
       "   {'id': '51e245e8498eb19e2e908b76',\n",
       "    'name': \"Di So's Italian Food Truck\",\n",
       "    'location': {'lat': 40.70397251406873,\n",
       "     'lng': -74.00862679659664,\n",
       "     'labeledLatLngs': [{'label': 'display',\n",
       "       'lat': 40.70397251406873,\n",
       "       'lng': -74.00862679659664}],\n",
       "     'distance': 1378,\n",
       "     'cc': 'US',\n",
       "     'neighborhood': 'Financial District',\n",
       "     'city': 'New York',\n",
       "     'state': 'NY',\n",
       "     'country': 'United States',\n",
       "     'formattedAddress': ['New York, NY', 'United States']},\n",
       "    'categories': [{'id': '4bf58dd8d48988d110941735',\n",
       "      'name': 'Italian Restaurant',\n",
       "      'pluralName': 'Italian Restaurants',\n",
       "      'shortName': 'Italian',\n",
       "      'icon': {'prefix': 'https://ss3.4sqi.net/img/categories_v2/food/italian_',\n",
       "       'suffix': '.png'},\n",
       "      'primary': True}],\n",
       "    'referralId': 'v-1588775847',\n",
       "    'hasPerk': False},\n",
       "   {'id': '51fbf7a3498e86b46099a568',\n",
       "    'name': 'Dominics Italian Sausage Truck',\n",
       "    'location': {'lat': 40.70349917092183,\n",
       "     'lng': -74.01285277894489,\n",
       "     'labeledLatLngs': [{'label': 'display',\n",
       "       'lat': 40.70349917092183,\n",
       "       'lng': -74.01285277894489}],\n",
       "     'distance': 1318,\n",
       "     'cc': 'US',\n",
       "     'neighborhood': 'Financial District',\n",
       "     'city': 'New York',\n",
       "     'state': 'NY',\n",
       "     'country': 'United States',\n",
       "     'formattedAddress': ['New York, NY', 'United States']},\n",
       "    'categories': [{'id': '4bf58dd8d48988d1cb941735',\n",
       "      'name': 'Food Truck',\n",
       "      'pluralName': 'Food Trucks',\n",
       "      'shortName': 'Food Truck',\n",
       "      'icon': {'prefix': 'https://ss3.4sqi.net/img/categories_v2/food/streetfood_',\n",
       "       'suffix': '.png'},\n",
       "      'primary': True}],\n",
       "    'referralId': 'v-1588775847',\n",
       "    'hasPerk': False},\n",
       "   {'id': '4f779e12e4b08e5a67d80bb4',\n",
       "    'name': 'Diva italian resturant',\n",
       "    'location': {'address': '341 W Broadway',\n",
       "     'crossStreet': 'None',\n",
       "     'lat': 40.72306551231227,\n",
       "     'lng': -74.00372874071756,\n",
       "     'labeledLatLngs': [{'label': 'display',\n",
       "       'lat': 40.72306551231227,\n",
       "       'lng': -74.00372874071756},\n",
       "      {'label': 'entrance', 'lat': 40.722538, 'lng': -74.003473}],\n",
       "     'distance': 1337,\n",
       "     'postalCode': '10013',\n",
       "     'cc': 'US',\n",
       "     'city': 'New York',\n",
       "     'state': 'NY',\n",
       "     'country': 'United States',\n",
       "     'formattedAddress': ['341 W Broadway (None)',\n",
       "      'New York, NY 10013',\n",
       "      'United States']},\n",
       "    'categories': [{'id': '4bf58dd8d48988d110941735',\n",
       "      'name': 'Italian Restaurant',\n",
       "      'pluralName': 'Italian Restaurants',\n",
       "      'shortName': 'Italian',\n",
       "      'icon': {'prefix': 'https://ss3.4sqi.net/img/categories_v2/food/italian_',\n",
       "       'suffix': '.png'},\n",
       "      'primary': True}],\n",
       "    'referralId': 'v-1588775847',\n",
       "    'hasPerk': False},\n",
       "   {'id': '4be0ac9398f2a593aa10c35a',\n",
       "    'name': \"Carmine's Italian Seafood\",\n",
       "    'location': {'address': '140 Beekman St',\n",
       "     'lat': 40.707375,\n",
       "     'lng': -74.0027,\n",
       "     'labeledLatLngs': [{'label': 'display',\n",
       "       'lat': 40.707375,\n",
       "       'lng': -74.0027}],\n",
       "     'distance': 1394,\n",
       "     'postalCode': '10038',\n",
       "     'cc': 'US',\n",
       "     'city': 'New York',\n",
       "     'state': 'NY',\n",
       "     'country': 'United States',\n",
       "     'formattedAddress': ['140 Beekman St',\n",
       "      'New York, NY 10038',\n",
       "      'United States']},\n",
       "    'categories': [{'id': '4bf58dd8d48988d110941735',\n",
       "      'name': 'Italian Restaurant',\n",
       "      'pluralName': 'Italian Restaurants',\n",
       "      'shortName': 'Italian',\n",
       "      'icon': {'prefix': 'https://ss3.4sqi.net/img/categories_v2/food/italian_',\n",
       "       'suffix': '.png'},\n",
       "      'primary': True}],\n",
       "    'referralId': 'v-1588775847',\n",
       "    'hasPerk': False},\n",
       "   {'id': '53132d23498eacec1e539180',\n",
       "    'name': 'Center for Italian Modern Art',\n",
       "    'location': {'address': '421 Broome St Fl 4',\n",
       "     'crossStreet': 'Crosby St',\n",
       "     'lat': 40.72118752815872,\n",
       "     'lng': -73.99851539989318,\n",
       "     'labeledLatLngs': [{'label': 'display',\n",
       "       'lat': 40.72118752815872,\n",
       "       'lng': -73.99851539989318}],\n",
       "     'distance': 1594,\n",
       "     'postalCode': '10013',\n",
       "     'cc': 'US',\n",
       "     'city': 'New York',\n",
       "     'state': 'NY',\n",
       "     'country': 'United States',\n",
       "     'formattedAddress': ['421 Broome St Fl 4 (Crosby St)',\n",
       "      'New York, NY 10013',\n",
       "      'United States']},\n",
       "    'categories': [{'id': '4bf58dd8d48988d1e2931735',\n",
       "      'name': 'Art Gallery',\n",
       "      'pluralName': 'Art Galleries',\n",
       "      'shortName': 'Art Gallery',\n",
       "      'icon': {'prefix': 'https://ss3.4sqi.net/img/categories_v2/arts_entertainment/artgallery_',\n",
       "       'suffix': '.png'},\n",
       "      'primary': True}],\n",
       "    'referralId': 'v-1588775847',\n",
       "    'hasPerk': False},\n",
       "   {'id': '5c52748435d3fc002cc413c9',\n",
       "    'name': \"Rita's Italian Ice & Frozen Custard\",\n",
       "    'location': {'address': '4 South Street, LL Space 206',\n",
       "     'lat': 40.702096999999995,\n",
       "     'lng': -74.01201800000001,\n",
       "     'labeledLatLngs': [{'label': 'display',\n",
       "       'lat': 40.702096999999995,\n",
       "       'lng': -74.01201800000001}],\n",
       "     'distance': 1484,\n",
       "     'postalCode': '10004',\n",
       "     'cc': 'US',\n",
       "     'city': 'New York',\n",
       "     'state': 'NY',\n",
       "     'country': 'United States',\n",
       "     'formattedAddress': ['4 South Street, LL Space 206',\n",
       "      'New York, NY 10004',\n",
       "      'United States']},\n",
       "    'categories': [{'id': '4bf58dd8d48988d1d0941735',\n",
       "      'name': 'Dessert Shop',\n",
       "      'pluralName': 'Dessert Shops',\n",
       "      'shortName': 'Desserts',\n",
       "      'icon': {'prefix': 'https://ss3.4sqi.net/img/categories_v2/food/dessert_',\n",
       "       'suffix': '.png'},\n",
       "      'primary': True}],\n",
       "    'referralId': 'v-1588775847',\n",
       "    'hasPerk': False},\n",
       "   {'id': '5323c9e6498e51e76d30cb8f',\n",
       "    'name': 'luca italian bar',\n",
       "    'location': {'lat': 40.723228,\n",
       "     'lng': -74.00112,\n",
       "     'labeledLatLngs': [{'label': 'display',\n",
       "       'lat': 40.723228,\n",
       "       'lng': -74.00112}],\n",
       "     'distance': 1520,\n",
       "     'cc': 'US',\n",
       "     'city': 'New York',\n",
       "     'state': 'NY',\n",
       "     'country': 'United States',\n",
       "     'formattedAddress': ['New York, NY', 'United States']},\n",
       "    'categories': [{'id': '4bf58dd8d48988d11e941735',\n",
       "      'name': 'Cocktail Bar',\n",
       "      'pluralName': 'Cocktail Bars',\n",
       "      'shortName': 'Cocktail',\n",
       "      'icon': {'prefix': 'https://ss3.4sqi.net/img/categories_v2/nightlife/cocktails_',\n",
       "       'suffix': '.png'},\n",
       "      'primary': True}],\n",
       "    'referralId': 'v-1588775847',\n",
       "    'hasPerk': False},\n",
       "   {'id': '4d97923e61a3a1cdb92ab942',\n",
       "    'name': 'Little Italian Rooftop',\n",
       "    'location': {'address': '182 Hester St',\n",
       "     'lat': 40.71823673,\n",
       "     'lng': -73.99806087,\n",
       "     'labeledLatLngs': [{'label': 'display',\n",
       "       'lat': 40.71823673,\n",
       "       'lng': -73.99806087},\n",
       "      {'label': 'entrance', 'lat': 40.71815, 'lng': -73.998127}],\n",
       "     'distance': 1523,\n",
       "     'postalCode': '10013',\n",
       "     'cc': 'US',\n",
       "     'city': 'New York',\n",
       "     'state': 'NY',\n",
       "     'country': 'United States',\n",
       "     'formattedAddress': ['182 Hester St',\n",
       "      'New York, NY 10013',\n",
       "      'United States']},\n",
       "    'categories': [{'id': '4bf58dd8d48988d165941735',\n",
       "      'name': 'Scenic Lookout',\n",
       "      'pluralName': 'Scenic Lookouts',\n",
       "      'shortName': 'Scenic Lookout',\n",
       "      'icon': {'prefix': 'https://ss3.4sqi.net/img/categories_v2/parks_outdoors/sceniclookout_',\n",
       "       'suffix': '.png'},\n",
       "      'primary': True}],\n",
       "    'referralId': 'v-1588775847',\n",
       "    'hasPerk': False},\n",
       "   {'id': '5b5a030628374e002c6ff65f',\n",
       "    'name': 'Venti Italian',\n",
       "    'location': {'lat': 40.71423117222208,\n",
       "     'lng': -74.03429542139735,\n",
       "     'labeledLatLngs': [{'label': 'display',\n",
       "       'lat': 40.71423117222208,\n",
       "       'lng': -74.03429542139735}],\n",
       "     'distance': 1575,\n",
       "     'postalCode': '07302',\n",
       "     'cc': 'US',\n",
       "     'city': 'Jersey City',\n",
       "     'state': 'NJ',\n",
       "     'country': 'United States',\n",
       "     'formattedAddress': ['Jersey City, NJ 07302', 'United States']},\n",
       "    'categories': [{'id': '4bf58dd8d48988d1cb941735',\n",
       "      'name': 'Food Truck',\n",
       "      'pluralName': 'Food Trucks',\n",
       "      'shortName': 'Food Truck',\n",
       "      'icon': {'prefix': 'https://ss3.4sqi.net/img/categories_v2/food/streetfood_',\n",
       "       'suffix': '.png'},\n",
       "      'primary': True}],\n",
       "    'referralId': 'v-1588775847',\n",
       "    'hasPerk': False},\n",
       "   {'id': '531b8463498e75a62427aa90',\n",
       "    'name': 'Carmela Italian Street Fare',\n",
       "    'location': {'crossStreet': 'Montgomery & Marin',\n",
       "     'lat': 40.714154647604396,\n",
       "     'lng': -74.03423230771361,\n",
       "     'labeledLatLngs': [{'label': 'display',\n",
       "       'lat': 40.714154647604396,\n",
       "       'lng': -74.03423230771361}],\n",
       "     'distance': 1571,\n",
       "     'cc': 'US',\n",
       "     'city': 'Jersey City',\n",
       "     'state': 'NJ',\n",
       "     'country': 'United States',\n",
       "     'formattedAddress': ['Montgomery & Marin',\n",
       "      'Jersey City, NJ',\n",
       "      'United States']},\n",
       "    'categories': [{'id': '4bf58dd8d48988d1cb941735',\n",
       "      'name': 'Food Truck',\n",
       "      'pluralName': 'Food Trucks',\n",
       "      'shortName': 'Food Truck',\n",
       "      'icon': {'prefix': 'https://ss3.4sqi.net/img/categories_v2/food/streetfood_',\n",
       "       'suffix': '.png'},\n",
       "      'primary': True}],\n",
       "    'referralId': 'v-1588775847',\n",
       "    'hasPerk': False},\n",
       "   {'id': '4f5ba587e4b0b28dd416e2c4',\n",
       "    'name': 'Avito Italian Shoes',\n",
       "    'location': {'lat': 40.72514973911606,\n",
       "     'lng': -74.00124968156945,\n",
       "     'labeledLatLngs': [{'label': 'display',\n",
       "       'lat': 40.72514973911606,\n",
       "       'lng': -74.00124968156945}],\n",
       "     'distance': 1648,\n",
       "     'cc': 'US',\n",
       "     'state': 'New York',\n",
       "     'country': 'United States',\n",
       "     'formattedAddress': ['New York', 'United States']},\n",
       "    'categories': [{'id': '4bf58dd8d48988d107951735',\n",
       "      'name': 'Shoe Store',\n",
       "      'pluralName': 'Shoe Stores',\n",
       "      'shortName': 'Shoes',\n",
       "      'icon': {'prefix': 'https://ss3.4sqi.net/img/categories_v2/shops/apparel_shoestore_',\n",
       "       'suffix': '.png'},\n",
       "      'primary': True}],\n",
       "    'referralId': 'v-1588775847',\n",
       "    'hasPerk': False},\n",
       "   {'id': '4e4c6e336284776ee1234039',\n",
       "    'name': 'El Corello Italian Cuisine, SoHo',\n",
       "    'location': {'address': 'Manhattan',\n",
       "     'lat': 40.726205585855865,\n",
       "     'lng': -74.00198995953801,\n",
       "     'labeledLatLngs': [{'label': 'display',\n",
       "       'lat': 40.726205585855865,\n",
       "       'lng': -74.00198995953801}],\n",
       "     'distance': 1686,\n",
       "     'postalCode': '10012',\n",
       "     'cc': 'US',\n",
       "     'city': 'New York',\n",
       "     'state': 'NY',\n",
       "     'country': 'United States',\n",
       "     'formattedAddress': ['Manhattan', 'New York, NY 10012', 'United States']},\n",
       "    'categories': [],\n",
       "    'referralId': 'v-1588775847',\n",
       "    'hasPerk': False},\n",
       "   {'id': '4bbf6b6430c99c74302a5511',\n",
       "    'name': 'PJ Charlton Italian Restaurant',\n",
       "    'location': {'address': '549 Greenwich St',\n",
       "     'lat': 40.72744633153894,\n",
       "     'lng': -74.00865622880806,\n",
       "     'labeledLatLngs': [{'label': 'display',\n",
       "       'lat': 40.72744633153894,\n",
       "       'lng': -74.00865622880806},\n",
       "      {'label': 'entrance', 'lat': 40.727328, 'lng': -74.008749}],\n",
       "     'distance': 1491,\n",
       "     'postalCode': '10013',\n",
       "     'cc': 'US',\n",
       "     'city': 'New York',\n",
       "     'state': 'NY',\n",
       "     'country': 'United States',\n",
       "     'formattedAddress': ['549 Greenwich St',\n",
       "      'New York, NY 10013',\n",
       "      'United States']},\n",
       "    'categories': [{'id': '4bf58dd8d48988d110941735',\n",
       "      'name': 'Italian Restaurant',\n",
       "      'pluralName': 'Italian Restaurants',\n",
       "      'shortName': 'Italian',\n",
       "      'icon': {'prefix': 'https://ss3.4sqi.net/img/categories_v2/food/italian_',\n",
       "       'suffix': '.png'},\n",
       "      'primary': True}],\n",
       "    'referralId': 'v-1588775847',\n",
       "    'hasPerk': False},\n",
       "   {'id': '4c5de89e6ebe2d7f7955d42e',\n",
       "    'name': \"Gloria's Restaurant\",\n",
       "    'location': {'address': '107 W Broadway',\n",
       "     'crossStreet': 'Reade St',\n",
       "     'lat': 40.710412,\n",
       "     'lng': -74.007998,\n",
       "     'labeledLatLngs': [{'label': 'display',\n",
       "       'lat': 40.710412,\n",
       "       'lng': -74.007998}],\n",
       "     'distance': 834,\n",
       "     'postalCode': '10013',\n",
       "     'cc': 'US',\n",
       "     'city': 'New York',\n",
       "     'state': 'NY',\n",
       "     'country': 'United States',\n",
       "     'formattedAddress': ['107 W Broadway (Reade St)',\n",
       "      'New York, NY 10013',\n",
       "      'United States']},\n",
       "    'categories': [{'id': '4bf58dd8d48988d110941735',\n",
       "      'name': 'Italian Restaurant',\n",
       "      'pluralName': 'Italian Restaurants',\n",
       "      'shortName': 'Italian',\n",
       "      'icon': {'prefix': 'https://ss3.4sqi.net/img/categories_v2/food/italian_',\n",
       "       'suffix': '.png'},\n",
       "      'primary': True}],\n",
       "    'referralId': 'v-1588775847',\n",
       "    'hasPerk': False},\n",
       "   {'id': '4b4f88adf964a5204c0a27e3',\n",
       "    'name': 'Gigino at Wagner Park',\n",
       "    'location': {'address': '20 Battery Pl',\n",
       "     'crossStreet': 'btw West St & 1st Place',\n",
       "     'lat': 40.70498427289225,\n",
       "     'lng': -74.0183273695266,\n",
       "     'labeledLatLngs': [{'label': 'display',\n",
       "       'lat': 40.70498427289225,\n",
       "       'lng': -74.0183273695266}],\n",
       "     'distance': 1153,\n",
       "     'postalCode': '10004',\n",
       "     'cc': 'US',\n",
       "     'city': 'New York',\n",
       "     'state': 'NY',\n",
       "     'country': 'United States',\n",
       "     'formattedAddress': ['20 Battery Pl (btw West St & 1st Place)',\n",
       "      'New York, NY 10004',\n",
       "      'United States']},\n",
       "    'categories': [{'id': '4bf58dd8d48988d110941735',\n",
       "      'name': 'Italian Restaurant',\n",
       "      'pluralName': 'Italian Restaurants',\n",
       "      'shortName': 'Italian',\n",
       "      'icon': {'prefix': 'https://ss3.4sqi.net/img/categories_v2/food/italian_',\n",
       "       'suffix': '.png'},\n",
       "      'primary': True}],\n",
       "    'delivery': {'id': '85009',\n",
       "     'url': 'https://www.seamless.com/menu/gigino-at-wagner-park-20-battery-pl-new-york/85009?affiliate=1131&utm_source=foursquare-affiliate-network&utm_medium=affiliate&utm_campaign=1131&utm_content=85009',\n",
       "     'provider': {'name': 'seamless',\n",
       "      'icon': {'prefix': 'https://fastly.4sqi.net/img/general/cap/',\n",
       "       'sizes': [40, 50],\n",
       "       'name': '/delivery_provider_seamless_20180129.png'}}},\n",
       "    'venuePage': {'id': '93093624'},\n",
       "    'referralId': 'v-1588775847',\n",
       "    'hasPerk': False},\n",
       "   {'id': '3fd66200f964a520f4e41ee3',\n",
       "    'name': 'Ecco',\n",
       "    'location': {'address': '124 Chambers St',\n",
       "     'crossStreet': 'btwn Church St & W Broadway',\n",
       "     'lat': 40.71533713859952,\n",
       "     'lng': -74.00884766217825,\n",
       "     'labeledLatLngs': [{'label': 'display',\n",
       "       'lat': 40.71533713859952,\n",
       "       'lng': -74.00884766217825},\n",
       "      {'label': 'entrance', 'lat': 40.715202, 'lng': -74.008779}],\n",
       "     'distance': 574,\n",
       "     'postalCode': '10007',\n",
       "     'cc': 'US',\n",
       "     'city': 'New York',\n",
       "     'state': 'NY',\n",
       "     'country': 'United States',\n",
       "     'formattedAddress': ['124 Chambers St (btwn Church St & W Broadway)',\n",
       "      'New York, NY 10007',\n",
       "      'United States']},\n",
       "    'categories': [{'id': '4bf58dd8d48988d110941735',\n",
       "      'name': 'Italian Restaurant',\n",
       "      'pluralName': 'Italian Restaurants',\n",
       "      'shortName': 'Italian',\n",
       "      'icon': {'prefix': 'https://ss3.4sqi.net/img/categories_v2/food/italian_',\n",
       "       'suffix': '.png'},\n",
       "      'primary': True}],\n",
       "    'referralId': 'v-1588775847',\n",
       "    'hasPerk': False},\n",
       "   {'id': '4d950c78647d8cfa5a2a973d',\n",
       "    'name': 'Ristorante Italiano',\n",
       "    'location': {'address': 'Mulberry',\n",
       "     'crossStreet': 'Hester',\n",
       "     'lat': 40.71827294132064,\n",
       "     'lng': -73.99793848074717,\n",
       "     'labeledLatLngs': [{'label': 'display',\n",
       "       'lat': 40.71827294132064,\n",
       "       'lng': -73.99793848074717}],\n",
       "     'distance': 1534,\n",
       "     'postalCode': '10013',\n",
       "     'cc': 'US',\n",
       "     'city': 'New York',\n",
       "     'state': 'NY',\n",
       "     'country': 'United States',\n",
       "     'formattedAddress': ['Mulberry (Hester)',\n",
       "      'New York, NY 10013',\n",
       "      'United States']},\n",
       "    'categories': [{'id': '4bf58dd8d48988d110941735',\n",
       "      'name': 'Italian Restaurant',\n",
       "      'pluralName': 'Italian Restaurants',\n",
       "      'shortName': 'Italian',\n",
       "      'icon': {'prefix': 'https://ss3.4sqi.net/img/categories_v2/food/italian_',\n",
       "       'suffix': '.png'},\n",
       "      'primary': True}],\n",
       "    'referralId': 'v-1588775847',\n",
       "    'hasPerk': False}]}}"
      ]
     },
     "execution_count": 62,
     "metadata": {},
     "output_type": "execute_result"
    }
   ],
   "source": [
    "results = requests.get(url).json()\n",
    "results"
   ]
  },
  {
   "cell_type": "markdown",
   "metadata": {
    "button": false,
    "deletable": true,
    "new_sheet": false,
    "run_control": {
     "read_only": false
    }
   },
   "source": [
    "#### Get relevant part of JSON and transform it into a *pandas* dataframe"
   ]
  },
  {
   "cell_type": "code",
   "execution_count": 83,
   "metadata": {},
   "outputs": [
    {
     "data": {
      "text/plain": [
       "dict"
      ]
     },
     "execution_count": 83,
     "metadata": {},
     "output_type": "execute_result"
    }
   ],
   "source": [
    "type(results)"
   ]
  },
  {
   "cell_type": "code",
   "execution_count": 75,
   "metadata": {},
   "outputs": [
    {
     "data": {
      "text/plain": [
       "dict_keys(['meta', 'response'])"
      ]
     },
     "execution_count": 75,
     "metadata": {},
     "output_type": "execute_result"
    }
   ],
   "source": [
    "results.keys()"
   ]
  },
  {
   "cell_type": "code",
   "execution_count": 82,
   "metadata": {},
   "outputs": [
    {
     "data": {
      "text/plain": [
       "dict_keys(['venues'])"
      ]
     },
     "execution_count": 82,
     "metadata": {},
     "output_type": "execute_result"
    }
   ],
   "source": [
    "results[\"response\"].keys()"
   ]
  },
  {
   "cell_type": "code",
   "execution_count": 89,
   "metadata": {},
   "outputs": [
    {
     "data": {
      "text/plain": [
       "[{'id': '4a4560a7f964a5201aa81fe3',\n",
       "  'name': \"Harry's Italian Pizza Bar\",\n",
       "  'location': {'address': '2 Gold St',\n",
       "   'crossStreet': 'at Maiden Ln.',\n",
       "   'lat': 40.7076335455641,\n",
       "   'lng': -74.00699585960496,\n",
       "   'labeledLatLngs': [{'label': 'display',\n",
       "     'lat': 40.7076335455641,\n",
       "     'lng': -74.00699585960496}],\n",
       "   'distance': 1110,\n",
       "   'postalCode': '10038',\n",
       "   'cc': 'US',\n",
       "   'city': 'New York',\n",
       "   'state': 'NY',\n",
       "   'country': 'United States',\n",
       "   'formattedAddress': ['2 Gold St (at Maiden Ln.)',\n",
       "    'New York, NY 10038',\n",
       "    'United States']},\n",
       "  'categories': [{'id': '4bf58dd8d48988d110941735',\n",
       "    'name': 'Italian Restaurant',\n",
       "    'pluralName': 'Italian Restaurants',\n",
       "    'shortName': 'Italian',\n",
       "    'icon': {'prefix': 'https://ss3.4sqi.net/img/categories_v2/food/italian_',\n",
       "     'suffix': '.png'},\n",
       "    'primary': True}],\n",
       "  'venuePage': {'id': '77559825'},\n",
       "  'referralId': 'v-1588775847',\n",
       "  'hasPerk': False}]"
      ]
     },
     "execution_count": 89,
     "metadata": {},
     "output_type": "execute_result"
    }
   ],
   "source": [
    "results[\"response\"][\"venues\"][:1]"
   ]
  },
  {
   "cell_type": "code",
   "execution_count": 93,
   "metadata": {
    "button": false,
    "collapsed": false,
    "deletable": true,
    "jupyter": {
     "outputs_hidden": false
    },
    "new_sheet": false,
    "run_control": {
     "read_only": false
    }
   },
   "outputs": [
    {
     "data": {
      "text/html": [
       "<div>\n",
       "<style scoped>\n",
       "    .dataframe tbody tr th:only-of-type {\n",
       "        vertical-align: middle;\n",
       "    }\n",
       "\n",
       "    .dataframe tbody tr th {\n",
       "        vertical-align: top;\n",
       "    }\n",
       "\n",
       "    .dataframe thead th {\n",
       "        text-align: right;\n",
       "    }\n",
       "</style>\n",
       "<table border=\"1\" class=\"dataframe\">\n",
       "  <thead>\n",
       "    <tr style=\"text-align: right;\">\n",
       "      <th></th>\n",
       "      <th>id</th>\n",
       "      <th>name</th>\n",
       "      <th>categories</th>\n",
       "      <th>referralId</th>\n",
       "      <th>hasPerk</th>\n",
       "      <th>location.address</th>\n",
       "      <th>location.crossStreet</th>\n",
       "      <th>location.lat</th>\n",
       "      <th>location.lng</th>\n",
       "      <th>location.labeledLatLngs</th>\n",
       "      <th>...</th>\n",
       "      <th>location.country</th>\n",
       "      <th>location.formattedAddress</th>\n",
       "      <th>venuePage.id</th>\n",
       "      <th>delivery.id</th>\n",
       "      <th>delivery.url</th>\n",
       "      <th>delivery.provider.name</th>\n",
       "      <th>delivery.provider.icon.prefix</th>\n",
       "      <th>delivery.provider.icon.sizes</th>\n",
       "      <th>delivery.provider.icon.name</th>\n",
       "      <th>location.neighborhood</th>\n",
       "    </tr>\n",
       "  </thead>\n",
       "  <tbody>\n",
       "    <tr>\n",
       "      <td>0</td>\n",
       "      <td>4a4560a7f964a5201aa81fe3</td>\n",
       "      <td>Harry's Italian Pizza Bar</td>\n",
       "      <td>[{'id': '4bf58dd8d48988d110941735', 'name': 'I...</td>\n",
       "      <td>v-1588775847</td>\n",
       "      <td>False</td>\n",
       "      <td>2 Gold St</td>\n",
       "      <td>at Maiden Ln.</td>\n",
       "      <td>40.707634</td>\n",
       "      <td>-74.006996</td>\n",
       "      <td>[{'label': 'display', 'lat': 40.7076335455641,...</td>\n",
       "      <td>...</td>\n",
       "      <td>United States</td>\n",
       "      <td>[2 Gold St (at Maiden Ln.), New York, NY 10038...</td>\n",
       "      <td>77559825</td>\n",
       "      <td>NaN</td>\n",
       "      <td>NaN</td>\n",
       "      <td>NaN</td>\n",
       "      <td>NaN</td>\n",
       "      <td>NaN</td>\n",
       "      <td>NaN</td>\n",
       "      <td>NaN</td>\n",
       "    </tr>\n",
       "    <tr>\n",
       "      <td>1</td>\n",
       "      <td>4e4c4e62bd413c4cc6686059</td>\n",
       "      <td>Carmela's Italian Specialties</td>\n",
       "      <td>[{'id': '4bf58dd8d48988d1ca941735', 'name': 'P...</td>\n",
       "      <td>v-1588775847</td>\n",
       "      <td>False</td>\n",
       "      <td>30 Water St</td>\n",
       "      <td>NaN</td>\n",
       "      <td>40.719812</td>\n",
       "      <td>-74.035041</td>\n",
       "      <td>[{'label': 'display', 'lat': 40.71981178398971...</td>\n",
       "      <td>...</td>\n",
       "      <td>United States</td>\n",
       "      <td>[30 Water St, New York, NJ 10004, United States]</td>\n",
       "      <td>NaN</td>\n",
       "      <td>NaN</td>\n",
       "      <td>NaN</td>\n",
       "      <td>NaN</td>\n",
       "      <td>NaN</td>\n",
       "      <td>NaN</td>\n",
       "      <td>NaN</td>\n",
       "      <td>NaN</td>\n",
       "    </tr>\n",
       "    <tr>\n",
       "      <td>2</td>\n",
       "      <td>4fa862b3e4b0ebff2f749f06</td>\n",
       "      <td>Harry's Italian Pizza Bar</td>\n",
       "      <td>[{'id': '4bf58dd8d48988d1ca941735', 'name': 'P...</td>\n",
       "      <td>v-1588775847</td>\n",
       "      <td>False</td>\n",
       "      <td>225 Murray St</td>\n",
       "      <td>NaN</td>\n",
       "      <td>40.715218</td>\n",
       "      <td>-74.014739</td>\n",
       "      <td>[{'label': 'display', 'lat': 40.71521779064671...</td>\n",
       "      <td>...</td>\n",
       "      <td>United States</td>\n",
       "      <td>[225 Murray St, New York, NY 10282, United Sta...</td>\n",
       "      <td>NaN</td>\n",
       "      <td>NaN</td>\n",
       "      <td>NaN</td>\n",
       "      <td>NaN</td>\n",
       "      <td>NaN</td>\n",
       "      <td>NaN</td>\n",
       "      <td>NaN</td>\n",
       "      <td>NaN</td>\n",
       "    </tr>\n",
       "    <tr>\n",
       "      <td>3</td>\n",
       "      <td>4f3feae2e4b0ac9416a72118</td>\n",
       "      <td>Benvenuti Italian Specialties</td>\n",
       "      <td>[{'id': '4bf58dd8d48988d1f5941735', 'name': 'G...</td>\n",
       "      <td>v-1588775847</td>\n",
       "      <td>False</td>\n",
       "      <td>235 S End Ave</td>\n",
       "      <td>NaN</td>\n",
       "      <td>40.709681</td>\n",
       "      <td>-74.016520</td>\n",
       "      <td>[{'label': 'display', 'lat': 40.70968105555279...</td>\n",
       "      <td>...</td>\n",
       "      <td>United States</td>\n",
       "      <td>[235 S End Ave, New York, NY 10280, United Sta...</td>\n",
       "      <td>NaN</td>\n",
       "      <td>285069</td>\n",
       "      <td>https://www.seamless.com/menu/benvenuti-235-s-...</td>\n",
       "      <td>seamless</td>\n",
       "      <td>https://fastly.4sqi.net/img/general/cap/</td>\n",
       "      <td>[40, 50]</td>\n",
       "      <td>/delivery_provider_seamless_20180129.png</td>\n",
       "      <td>NaN</td>\n",
       "    </tr>\n",
       "    <tr>\n",
       "      <td>4</td>\n",
       "      <td>4f3232e219836c91c7bfde94</td>\n",
       "      <td>Conca Cucina Italian Restaurant</td>\n",
       "      <td>[{'id': '4d4b7105d754a06374d81259', 'name': 'F...</td>\n",
       "      <td>v-1588775847</td>\n",
       "      <td>False</td>\n",
       "      <td>63 W Broadway</td>\n",
       "      <td>NaN</td>\n",
       "      <td>40.714484</td>\n",
       "      <td>-74.009806</td>\n",
       "      <td>[{'label': 'display', 'lat': 40.71448400000000...</td>\n",
       "      <td>...</td>\n",
       "      <td>United States</td>\n",
       "      <td>[63 W Broadway, New York, NY 10007, United Sta...</td>\n",
       "      <td>NaN</td>\n",
       "      <td>NaN</td>\n",
       "      <td>NaN</td>\n",
       "      <td>NaN</td>\n",
       "      <td>NaN</td>\n",
       "      <td>NaN</td>\n",
       "      <td>NaN</td>\n",
       "      <td>NaN</td>\n",
       "    </tr>\n",
       "  </tbody>\n",
       "</table>\n",
       "<p>5 rows × 25 columns</p>\n",
       "</div>"
      ],
      "text/plain": [
       "                         id                             name  \\\n",
       "0  4a4560a7f964a5201aa81fe3        Harry's Italian Pizza Bar   \n",
       "1  4e4c4e62bd413c4cc6686059    Carmela's Italian Specialties   \n",
       "2  4fa862b3e4b0ebff2f749f06        Harry's Italian Pizza Bar   \n",
       "3  4f3feae2e4b0ac9416a72118    Benvenuti Italian Specialties   \n",
       "4  4f3232e219836c91c7bfde94  Conca Cucina Italian Restaurant   \n",
       "\n",
       "                                          categories    referralId  hasPerk  \\\n",
       "0  [{'id': '4bf58dd8d48988d110941735', 'name': 'I...  v-1588775847    False   \n",
       "1  [{'id': '4bf58dd8d48988d1ca941735', 'name': 'P...  v-1588775847    False   \n",
       "2  [{'id': '4bf58dd8d48988d1ca941735', 'name': 'P...  v-1588775847    False   \n",
       "3  [{'id': '4bf58dd8d48988d1f5941735', 'name': 'G...  v-1588775847    False   \n",
       "4  [{'id': '4d4b7105d754a06374d81259', 'name': 'F...  v-1588775847    False   \n",
       "\n",
       "  location.address location.crossStreet  location.lat  location.lng  \\\n",
       "0        2 Gold St        at Maiden Ln.     40.707634    -74.006996   \n",
       "1      30 Water St                  NaN     40.719812    -74.035041   \n",
       "2    225 Murray St                  NaN     40.715218    -74.014739   \n",
       "3    235 S End Ave                  NaN     40.709681    -74.016520   \n",
       "4    63 W Broadway                  NaN     40.714484    -74.009806   \n",
       "\n",
       "                             location.labeledLatLngs  ...  location.country  \\\n",
       "0  [{'label': 'display', 'lat': 40.7076335455641,...  ...     United States   \n",
       "1  [{'label': 'display', 'lat': 40.71981178398971...  ...     United States   \n",
       "2  [{'label': 'display', 'lat': 40.71521779064671...  ...     United States   \n",
       "3  [{'label': 'display', 'lat': 40.70968105555279...  ...     United States   \n",
       "4  [{'label': 'display', 'lat': 40.71448400000000...  ...     United States   \n",
       "\n",
       "                           location.formattedAddress venuePage.id delivery.id  \\\n",
       "0  [2 Gold St (at Maiden Ln.), New York, NY 10038...     77559825         NaN   \n",
       "1   [30 Water St, New York, NJ 10004, United States]          NaN         NaN   \n",
       "2  [225 Murray St, New York, NY 10282, United Sta...          NaN         NaN   \n",
       "3  [235 S End Ave, New York, NY 10280, United Sta...          NaN      285069   \n",
       "4  [63 W Broadway, New York, NY 10007, United Sta...          NaN         NaN   \n",
       "\n",
       "                                        delivery.url delivery.provider.name  \\\n",
       "0                                                NaN                    NaN   \n",
       "1                                                NaN                    NaN   \n",
       "2                                                NaN                    NaN   \n",
       "3  https://www.seamless.com/menu/benvenuti-235-s-...               seamless   \n",
       "4                                                NaN                    NaN   \n",
       "\n",
       "              delivery.provider.icon.prefix delivery.provider.icon.sizes  \\\n",
       "0                                       NaN                          NaN   \n",
       "1                                       NaN                          NaN   \n",
       "2                                       NaN                          NaN   \n",
       "3  https://fastly.4sqi.net/img/general/cap/                     [40, 50]   \n",
       "4                                       NaN                          NaN   \n",
       "\n",
       "                delivery.provider.icon.name location.neighborhood  \n",
       "0                                       NaN                   NaN  \n",
       "1                                       NaN                   NaN  \n",
       "2                                       NaN                   NaN  \n",
       "3  /delivery_provider_seamless_20180129.png                   NaN  \n",
       "4                                       NaN                   NaN  \n",
       "\n",
       "[5 rows x 25 columns]"
      ]
     },
     "execution_count": 93,
     "metadata": {},
     "output_type": "execute_result"
    }
   ],
   "source": [
    "# assign relevant part of JSON to venues\n",
    "venues = results['response']['venues']\n",
    "\n",
    "# tranform venues into a dataframe\n",
    "dataframe = json_normalize(venues)\n",
    "dataframe.head()"
   ]
  },
  {
   "cell_type": "markdown",
   "metadata": {
    "button": false,
    "deletable": true,
    "new_sheet": false,
    "run_control": {
     "read_only": false
    }
   },
   "source": [
    "#### Define information of interest and filter dataframe"
   ]
  },
  {
   "cell_type": "code",
   "execution_count": 94,
   "metadata": {
    "button": false,
    "collapsed": false,
    "deletable": true,
    "jupyter": {
     "outputs_hidden": false
    },
    "new_sheet": false,
    "run_control": {
     "read_only": false
    },
    "scrolled": true
   },
   "outputs": [],
   "source": [
    "# keep only columns that include venue name, and anything that is associated with location\n",
    "filtered_columns = ['name', 'categories'] + [col for col in dataframe.columns if col.startswith('location.')] + ['id']\n",
    "dataframe_filtered = dataframe.loc[:, filtered_columns]"
   ]
  },
  {
   "cell_type": "code",
   "execution_count": 95,
   "metadata": {},
   "outputs": [
    {
     "data": {
      "text/plain": [
       "['name',\n",
       " 'categories',\n",
       " 'location.address',\n",
       " 'location.crossStreet',\n",
       " 'location.lat',\n",
       " 'location.lng',\n",
       " 'location.labeledLatLngs',\n",
       " 'location.distance',\n",
       " 'location.postalCode',\n",
       " 'location.cc',\n",
       " 'location.city',\n",
       " 'location.state',\n",
       " 'location.country',\n",
       " 'location.formattedAddress',\n",
       " 'location.neighborhood',\n",
       " 'id']"
      ]
     },
     "execution_count": 95,
     "metadata": {},
     "output_type": "execute_result"
    }
   ],
   "source": [
    "filtered_columns"
   ]
  },
  {
   "cell_type": "code",
   "execution_count": 96,
   "metadata": {
    "button": false,
    "collapsed": false,
    "deletable": true,
    "jupyter": {
     "outputs_hidden": false
    },
    "new_sheet": false,
    "run_control": {
     "read_only": false
    },
    "scrolled": true
   },
   "outputs": [
    {
     "data": {
      "text/html": [
       "<div>\n",
       "<style scoped>\n",
       "    .dataframe tbody tr th:only-of-type {\n",
       "        vertical-align: middle;\n",
       "    }\n",
       "\n",
       "    .dataframe tbody tr th {\n",
       "        vertical-align: top;\n",
       "    }\n",
       "\n",
       "    .dataframe thead th {\n",
       "        text-align: right;\n",
       "    }\n",
       "</style>\n",
       "<table border=\"1\" class=\"dataframe\">\n",
       "  <thead>\n",
       "    <tr style=\"text-align: right;\">\n",
       "      <th></th>\n",
       "      <th>name</th>\n",
       "      <th>categories</th>\n",
       "      <th>address</th>\n",
       "      <th>crossStreet</th>\n",
       "      <th>lat</th>\n",
       "      <th>lng</th>\n",
       "      <th>labeledLatLngs</th>\n",
       "      <th>distance</th>\n",
       "      <th>postalCode</th>\n",
       "      <th>cc</th>\n",
       "      <th>city</th>\n",
       "      <th>state</th>\n",
       "      <th>country</th>\n",
       "      <th>formattedAddress</th>\n",
       "      <th>neighborhood</th>\n",
       "      <th>id</th>\n",
       "    </tr>\n",
       "  </thead>\n",
       "  <tbody>\n",
       "    <tr>\n",
       "      <td>0</td>\n",
       "      <td>Harry's Italian Pizza Bar</td>\n",
       "      <td>Italian Restaurant</td>\n",
       "      <td>2 Gold St</td>\n",
       "      <td>at Maiden Ln.</td>\n",
       "      <td>40.707634</td>\n",
       "      <td>-74.006996</td>\n",
       "      <td>[{'label': 'display', 'lat': 40.7076335455641,...</td>\n",
       "      <td>1110</td>\n",
       "      <td>10038</td>\n",
       "      <td>US</td>\n",
       "      <td>New York</td>\n",
       "      <td>NY</td>\n",
       "      <td>United States</td>\n",
       "      <td>[2 Gold St (at Maiden Ln.), New York, NY 10038...</td>\n",
       "      <td>NaN</td>\n",
       "      <td>4a4560a7f964a5201aa81fe3</td>\n",
       "    </tr>\n",
       "    <tr>\n",
       "      <td>1</td>\n",
       "      <td>Carmela's Italian Specialties</td>\n",
       "      <td>Pizza Place</td>\n",
       "      <td>30 Water St</td>\n",
       "      <td>NaN</td>\n",
       "      <td>40.719812</td>\n",
       "      <td>-74.035041</td>\n",
       "      <td>[{'label': 'display', 'lat': 40.71981178398971...</td>\n",
       "      <td>1715</td>\n",
       "      <td>10004</td>\n",
       "      <td>US</td>\n",
       "      <td>New York</td>\n",
       "      <td>NJ</td>\n",
       "      <td>United States</td>\n",
       "      <td>[30 Water St, New York, NJ 10004, United States]</td>\n",
       "      <td>NaN</td>\n",
       "      <td>4e4c4e62bd413c4cc6686059</td>\n",
       "    </tr>\n",
       "    <tr>\n",
       "      <td>2</td>\n",
       "      <td>Harry's Italian Pizza Bar</td>\n",
       "      <td>Pizza Place</td>\n",
       "      <td>225 Murray St</td>\n",
       "      <td>NaN</td>\n",
       "      <td>40.715218</td>\n",
       "      <td>-74.014739</td>\n",
       "      <td>[{'label': 'display', 'lat': 40.71521779064671...</td>\n",
       "      <td>77</td>\n",
       "      <td>10282</td>\n",
       "      <td>US</td>\n",
       "      <td>New York</td>\n",
       "      <td>NY</td>\n",
       "      <td>United States</td>\n",
       "      <td>[225 Murray St, New York, NY 10282, United Sta...</td>\n",
       "      <td>NaN</td>\n",
       "      <td>4fa862b3e4b0ebff2f749f06</td>\n",
       "    </tr>\n",
       "    <tr>\n",
       "      <td>3</td>\n",
       "      <td>Benvenuti Italian Specialties</td>\n",
       "      <td>Gourmet Shop</td>\n",
       "      <td>235 S End Ave</td>\n",
       "      <td>NaN</td>\n",
       "      <td>40.709681</td>\n",
       "      <td>-74.016520</td>\n",
       "      <td>[{'label': 'display', 'lat': 40.70968105555279...</td>\n",
       "      <td>612</td>\n",
       "      <td>10280</td>\n",
       "      <td>US</td>\n",
       "      <td>New York</td>\n",
       "      <td>NY</td>\n",
       "      <td>United States</td>\n",
       "      <td>[235 S End Ave, New York, NY 10280, United Sta...</td>\n",
       "      <td>NaN</td>\n",
       "      <td>4f3feae2e4b0ac9416a72118</td>\n",
       "    </tr>\n",
       "    <tr>\n",
       "      <td>4</td>\n",
       "      <td>Conca Cucina Italian Restaurant</td>\n",
       "      <td>Food</td>\n",
       "      <td>63 W Broadway</td>\n",
       "      <td>NaN</td>\n",
       "      <td>40.714484</td>\n",
       "      <td>-74.009806</td>\n",
       "      <td>[{'label': 'display', 'lat': 40.71448400000000...</td>\n",
       "      <td>499</td>\n",
       "      <td>10007</td>\n",
       "      <td>US</td>\n",
       "      <td>New York</td>\n",
       "      <td>NY</td>\n",
       "      <td>United States</td>\n",
       "      <td>[63 W Broadway, New York, NY 10007, United Sta...</td>\n",
       "      <td>NaN</td>\n",
       "      <td>4f3232e219836c91c7bfde94</td>\n",
       "    </tr>\n",
       "    <tr>\n",
       "      <td>5</td>\n",
       "      <td>Pisillo Italian Panini</td>\n",
       "      <td>Sandwich Place</td>\n",
       "      <td>97 Nassau St</td>\n",
       "      <td>at Ann St</td>\n",
       "      <td>40.710530</td>\n",
       "      <td>-74.007526</td>\n",
       "      <td>[{'label': 'display', 'lat': 40.71053008446078...</td>\n",
       "      <td>857</td>\n",
       "      <td>10038</td>\n",
       "      <td>US</td>\n",
       "      <td>New York</td>\n",
       "      <td>NY</td>\n",
       "      <td>United States</td>\n",
       "      <td>[97 Nassau St (at Ann St), New York, NY 10038,...</td>\n",
       "      <td>NaN</td>\n",
       "      <td>528bf16711d2b7722da6b51c</td>\n",
       "    </tr>\n",
       "    <tr>\n",
       "      <td>6</td>\n",
       "      <td>Pisillo Italian Cafe</td>\n",
       "      <td>Café</td>\n",
       "      <td>NaN</td>\n",
       "      <td>NaN</td>\n",
       "      <td>40.710493</td>\n",
       "      <td>-74.007546</td>\n",
       "      <td>[{'label': 'display', 'lat': 40.71049280792626...</td>\n",
       "      <td>858</td>\n",
       "      <td>NaN</td>\n",
       "      <td>US</td>\n",
       "      <td>New York</td>\n",
       "      <td>NY</td>\n",
       "      <td>United States</td>\n",
       "      <td>[New York, NY, United States]</td>\n",
       "      <td>NaN</td>\n",
       "      <td>588a4316326c5a4b60559f17</td>\n",
       "    </tr>\n",
       "    <tr>\n",
       "      <td>7</td>\n",
       "      <td>Caruso's Italian Restaurant</td>\n",
       "      <td>Italian Restaurant</td>\n",
       "      <td>42 Broadway</td>\n",
       "      <td>NaN</td>\n",
       "      <td>40.710509</td>\n",
       "      <td>-74.008276</td>\n",
       "      <td>[{'label': 'display', 'lat': 40.71050909999999...</td>\n",
       "      <td>809</td>\n",
       "      <td>10004</td>\n",
       "      <td>US</td>\n",
       "      <td>New York</td>\n",
       "      <td>NY</td>\n",
       "      <td>United States</td>\n",
       "      <td>[42 Broadway, New York, NY 10004, United States]</td>\n",
       "      <td>NaN</td>\n",
       "      <td>4e4c4d28bd413c4cc66857a5</td>\n",
       "    </tr>\n",
       "    <tr>\n",
       "      <td>8</td>\n",
       "      <td>Italian Culinary Academy</td>\n",
       "      <td>College Arts Building</td>\n",
       "      <td>462 Broadway</td>\n",
       "      <td>Grand St.</td>\n",
       "      <td>40.718838</td>\n",
       "      <td>-73.997835</td>\n",
       "      <td>[{'label': 'display', 'lat': 40.71883786954379...</td>\n",
       "      <td>1558</td>\n",
       "      <td>10013</td>\n",
       "      <td>US</td>\n",
       "      <td>New York</td>\n",
       "      <td>NY</td>\n",
       "      <td>United States</td>\n",
       "      <td>[462 Broadway (Grand St.), New York, NY 10013,...</td>\n",
       "      <td>NaN</td>\n",
       "      <td>4cf7d538dc40a35d26894f54</td>\n",
       "    </tr>\n",
       "    <tr>\n",
       "      <td>9</td>\n",
       "      <td>Barber Italian Shop</td>\n",
       "      <td>Clothing Store</td>\n",
       "      <td>120 Broadway</td>\n",
       "      <td>btw Cedar &amp; Pine</td>\n",
       "      <td>40.707970</td>\n",
       "      <td>-74.009949</td>\n",
       "      <td>[{'label': 'display', 'lat': 40.70796968555732...</td>\n",
       "      <td>933</td>\n",
       "      <td>10271</td>\n",
       "      <td>US</td>\n",
       "      <td>New York</td>\n",
       "      <td>NY</td>\n",
       "      <td>United States</td>\n",
       "      <td>[120 Broadway (btw Cedar &amp; Pine), New York, NY...</td>\n",
       "      <td>NaN</td>\n",
       "      <td>4c3b8244def90f478f0ffe2d</td>\n",
       "    </tr>\n",
       "    <tr>\n",
       "      <td>10</td>\n",
       "      <td>Italian Bakery 160 Prince</td>\n",
       "      <td>Bakery</td>\n",
       "      <td>NaN</td>\n",
       "      <td>NaN</td>\n",
       "      <td>40.725955</td>\n",
       "      <td>-74.001161</td>\n",
       "      <td>[{'label': 'display', 'lat': 40.725955, 'lng':...</td>\n",
       "      <td>1715</td>\n",
       "      <td>10012</td>\n",
       "      <td>US</td>\n",
       "      <td>New York</td>\n",
       "      <td>NY</td>\n",
       "      <td>United States</td>\n",
       "      <td>[New York, NY 10012, United States]</td>\n",
       "      <td>NaN</td>\n",
       "      <td>50de11fde4b0a94f4e13d7cd</td>\n",
       "    </tr>\n",
       "    <tr>\n",
       "      <td>11</td>\n",
       "      <td>Di So's Italian Food Truck</td>\n",
       "      <td>Italian Restaurant</td>\n",
       "      <td>NaN</td>\n",
       "      <td>NaN</td>\n",
       "      <td>40.703973</td>\n",
       "      <td>-74.008627</td>\n",
       "      <td>[{'label': 'display', 'lat': 40.70397251406873...</td>\n",
       "      <td>1378</td>\n",
       "      <td>NaN</td>\n",
       "      <td>US</td>\n",
       "      <td>New York</td>\n",
       "      <td>NY</td>\n",
       "      <td>United States</td>\n",
       "      <td>[New York, NY, United States]</td>\n",
       "      <td>Financial District</td>\n",
       "      <td>51e245e8498eb19e2e908b76</td>\n",
       "    </tr>\n",
       "    <tr>\n",
       "      <td>12</td>\n",
       "      <td>Dominics Italian Sausage Truck</td>\n",
       "      <td>Food Truck</td>\n",
       "      <td>NaN</td>\n",
       "      <td>NaN</td>\n",
       "      <td>40.703499</td>\n",
       "      <td>-74.012853</td>\n",
       "      <td>[{'label': 'display', 'lat': 40.70349917092183...</td>\n",
       "      <td>1318</td>\n",
       "      <td>NaN</td>\n",
       "      <td>US</td>\n",
       "      <td>New York</td>\n",
       "      <td>NY</td>\n",
       "      <td>United States</td>\n",
       "      <td>[New York, NY, United States]</td>\n",
       "      <td>Financial District</td>\n",
       "      <td>51fbf7a3498e86b46099a568</td>\n",
       "    </tr>\n",
       "    <tr>\n",
       "      <td>13</td>\n",
       "      <td>Diva italian resturant</td>\n",
       "      <td>Italian Restaurant</td>\n",
       "      <td>341 W Broadway</td>\n",
       "      <td>None</td>\n",
       "      <td>40.723066</td>\n",
       "      <td>-74.003729</td>\n",
       "      <td>[{'label': 'display', 'lat': 40.72306551231227...</td>\n",
       "      <td>1337</td>\n",
       "      <td>10013</td>\n",
       "      <td>US</td>\n",
       "      <td>New York</td>\n",
       "      <td>NY</td>\n",
       "      <td>United States</td>\n",
       "      <td>[341 W Broadway (None), New York, NY 10013, Un...</td>\n",
       "      <td>NaN</td>\n",
       "      <td>4f779e12e4b08e5a67d80bb4</td>\n",
       "    </tr>\n",
       "    <tr>\n",
       "      <td>14</td>\n",
       "      <td>Carmine's Italian Seafood</td>\n",
       "      <td>Italian Restaurant</td>\n",
       "      <td>140 Beekman St</td>\n",
       "      <td>NaN</td>\n",
       "      <td>40.707375</td>\n",
       "      <td>-74.002700</td>\n",
       "      <td>[{'label': 'display', 'lat': 40.707375, 'lng':...</td>\n",
       "      <td>1394</td>\n",
       "      <td>10038</td>\n",
       "      <td>US</td>\n",
       "      <td>New York</td>\n",
       "      <td>NY</td>\n",
       "      <td>United States</td>\n",
       "      <td>[140 Beekman St, New York, NY 10038, United St...</td>\n",
       "      <td>NaN</td>\n",
       "      <td>4be0ac9398f2a593aa10c35a</td>\n",
       "    </tr>\n",
       "    <tr>\n",
       "      <td>15</td>\n",
       "      <td>Center for Italian Modern Art</td>\n",
       "      <td>Art Gallery</td>\n",
       "      <td>421 Broome St Fl 4</td>\n",
       "      <td>Crosby St</td>\n",
       "      <td>40.721188</td>\n",
       "      <td>-73.998515</td>\n",
       "      <td>[{'label': 'display', 'lat': 40.72118752815872...</td>\n",
       "      <td>1594</td>\n",
       "      <td>10013</td>\n",
       "      <td>US</td>\n",
       "      <td>New York</td>\n",
       "      <td>NY</td>\n",
       "      <td>United States</td>\n",
       "      <td>[421 Broome St Fl 4 (Crosby St), New York, NY ...</td>\n",
       "      <td>NaN</td>\n",
       "      <td>53132d23498eacec1e539180</td>\n",
       "    </tr>\n",
       "    <tr>\n",
       "      <td>16</td>\n",
       "      <td>Rita's Italian Ice &amp; Frozen Custard</td>\n",
       "      <td>Dessert Shop</td>\n",
       "      <td>4 South Street, LL Space 206</td>\n",
       "      <td>NaN</td>\n",
       "      <td>40.702097</td>\n",
       "      <td>-74.012018</td>\n",
       "      <td>[{'label': 'display', 'lat': 40.70209699999999...</td>\n",
       "      <td>1484</td>\n",
       "      <td>10004</td>\n",
       "      <td>US</td>\n",
       "      <td>New York</td>\n",
       "      <td>NY</td>\n",
       "      <td>United States</td>\n",
       "      <td>[4 South Street, LL Space 206, New York, NY 10...</td>\n",
       "      <td>NaN</td>\n",
       "      <td>5c52748435d3fc002cc413c9</td>\n",
       "    </tr>\n",
       "    <tr>\n",
       "      <td>17</td>\n",
       "      <td>luca italian bar</td>\n",
       "      <td>Cocktail Bar</td>\n",
       "      <td>NaN</td>\n",
       "      <td>NaN</td>\n",
       "      <td>40.723228</td>\n",
       "      <td>-74.001120</td>\n",
       "      <td>[{'label': 'display', 'lat': 40.723228, 'lng':...</td>\n",
       "      <td>1520</td>\n",
       "      <td>NaN</td>\n",
       "      <td>US</td>\n",
       "      <td>New York</td>\n",
       "      <td>NY</td>\n",
       "      <td>United States</td>\n",
       "      <td>[New York, NY, United States]</td>\n",
       "      <td>NaN</td>\n",
       "      <td>5323c9e6498e51e76d30cb8f</td>\n",
       "    </tr>\n",
       "    <tr>\n",
       "      <td>18</td>\n",
       "      <td>Little Italian Rooftop</td>\n",
       "      <td>Scenic Lookout</td>\n",
       "      <td>182 Hester St</td>\n",
       "      <td>NaN</td>\n",
       "      <td>40.718237</td>\n",
       "      <td>-73.998061</td>\n",
       "      <td>[{'label': 'display', 'lat': 40.71823673, 'lng...</td>\n",
       "      <td>1523</td>\n",
       "      <td>10013</td>\n",
       "      <td>US</td>\n",
       "      <td>New York</td>\n",
       "      <td>NY</td>\n",
       "      <td>United States</td>\n",
       "      <td>[182 Hester St, New York, NY 10013, United Sta...</td>\n",
       "      <td>NaN</td>\n",
       "      <td>4d97923e61a3a1cdb92ab942</td>\n",
       "    </tr>\n",
       "    <tr>\n",
       "      <td>19</td>\n",
       "      <td>Venti Italian</td>\n",
       "      <td>Food Truck</td>\n",
       "      <td>NaN</td>\n",
       "      <td>NaN</td>\n",
       "      <td>40.714231</td>\n",
       "      <td>-74.034295</td>\n",
       "      <td>[{'label': 'display', 'lat': 40.71423117222208...</td>\n",
       "      <td>1575</td>\n",
       "      <td>07302</td>\n",
       "      <td>US</td>\n",
       "      <td>Jersey City</td>\n",
       "      <td>NJ</td>\n",
       "      <td>United States</td>\n",
       "      <td>[Jersey City, NJ 07302, United States]</td>\n",
       "      <td>NaN</td>\n",
       "      <td>5b5a030628374e002c6ff65f</td>\n",
       "    </tr>\n",
       "    <tr>\n",
       "      <td>20</td>\n",
       "      <td>Carmela Italian Street Fare</td>\n",
       "      <td>Food Truck</td>\n",
       "      <td>NaN</td>\n",
       "      <td>Montgomery &amp; Marin</td>\n",
       "      <td>40.714155</td>\n",
       "      <td>-74.034232</td>\n",
       "      <td>[{'label': 'display', 'lat': 40.71415464760439...</td>\n",
       "      <td>1571</td>\n",
       "      <td>NaN</td>\n",
       "      <td>US</td>\n",
       "      <td>Jersey City</td>\n",
       "      <td>NJ</td>\n",
       "      <td>United States</td>\n",
       "      <td>[Montgomery &amp; Marin, Jersey City, NJ, United S...</td>\n",
       "      <td>NaN</td>\n",
       "      <td>531b8463498e75a62427aa90</td>\n",
       "    </tr>\n",
       "    <tr>\n",
       "      <td>21</td>\n",
       "      <td>Avito Italian Shoes</td>\n",
       "      <td>Shoe Store</td>\n",
       "      <td>NaN</td>\n",
       "      <td>NaN</td>\n",
       "      <td>40.725150</td>\n",
       "      <td>-74.001250</td>\n",
       "      <td>[{'label': 'display', 'lat': 40.72514973911606...</td>\n",
       "      <td>1648</td>\n",
       "      <td>NaN</td>\n",
       "      <td>US</td>\n",
       "      <td>NaN</td>\n",
       "      <td>New York</td>\n",
       "      <td>United States</td>\n",
       "      <td>[New York, United States]</td>\n",
       "      <td>NaN</td>\n",
       "      <td>4f5ba587e4b0b28dd416e2c4</td>\n",
       "    </tr>\n",
       "    <tr>\n",
       "      <td>22</td>\n",
       "      <td>El Corello Italian Cuisine, SoHo</td>\n",
       "      <td>None</td>\n",
       "      <td>Manhattan</td>\n",
       "      <td>NaN</td>\n",
       "      <td>40.726206</td>\n",
       "      <td>-74.001990</td>\n",
       "      <td>[{'label': 'display', 'lat': 40.72620558585586...</td>\n",
       "      <td>1686</td>\n",
       "      <td>10012</td>\n",
       "      <td>US</td>\n",
       "      <td>New York</td>\n",
       "      <td>NY</td>\n",
       "      <td>United States</td>\n",
       "      <td>[Manhattan, New York, NY 10012, United States]</td>\n",
       "      <td>NaN</td>\n",
       "      <td>4e4c6e336284776ee1234039</td>\n",
       "    </tr>\n",
       "    <tr>\n",
       "      <td>23</td>\n",
       "      <td>PJ Charlton Italian Restaurant</td>\n",
       "      <td>Italian Restaurant</td>\n",
       "      <td>549 Greenwich St</td>\n",
       "      <td>NaN</td>\n",
       "      <td>40.727446</td>\n",
       "      <td>-74.008656</td>\n",
       "      <td>[{'label': 'display', 'lat': 40.72744633153894...</td>\n",
       "      <td>1491</td>\n",
       "      <td>10013</td>\n",
       "      <td>US</td>\n",
       "      <td>New York</td>\n",
       "      <td>NY</td>\n",
       "      <td>United States</td>\n",
       "      <td>[549 Greenwich St, New York, NY 10013, United ...</td>\n",
       "      <td>NaN</td>\n",
       "      <td>4bbf6b6430c99c74302a5511</td>\n",
       "    </tr>\n",
       "    <tr>\n",
       "      <td>24</td>\n",
       "      <td>Gloria's Restaurant</td>\n",
       "      <td>Italian Restaurant</td>\n",
       "      <td>107 W Broadway</td>\n",
       "      <td>Reade St</td>\n",
       "      <td>40.710412</td>\n",
       "      <td>-74.007998</td>\n",
       "      <td>[{'label': 'display', 'lat': 40.710412, 'lng':...</td>\n",
       "      <td>834</td>\n",
       "      <td>10013</td>\n",
       "      <td>US</td>\n",
       "      <td>New York</td>\n",
       "      <td>NY</td>\n",
       "      <td>United States</td>\n",
       "      <td>[107 W Broadway (Reade St), New York, NY 10013...</td>\n",
       "      <td>NaN</td>\n",
       "      <td>4c5de89e6ebe2d7f7955d42e</td>\n",
       "    </tr>\n",
       "    <tr>\n",
       "      <td>25</td>\n",
       "      <td>Gigino at Wagner Park</td>\n",
       "      <td>Italian Restaurant</td>\n",
       "      <td>20 Battery Pl</td>\n",
       "      <td>btw West St &amp; 1st Place</td>\n",
       "      <td>40.704984</td>\n",
       "      <td>-74.018327</td>\n",
       "      <td>[{'label': 'display', 'lat': 40.70498427289225...</td>\n",
       "      <td>1153</td>\n",
       "      <td>10004</td>\n",
       "      <td>US</td>\n",
       "      <td>New York</td>\n",
       "      <td>NY</td>\n",
       "      <td>United States</td>\n",
       "      <td>[20 Battery Pl (btw West St &amp; 1st Place), New ...</td>\n",
       "      <td>NaN</td>\n",
       "      <td>4b4f88adf964a5204c0a27e3</td>\n",
       "    </tr>\n",
       "    <tr>\n",
       "      <td>26</td>\n",
       "      <td>Ecco</td>\n",
       "      <td>Italian Restaurant</td>\n",
       "      <td>124 Chambers St</td>\n",
       "      <td>btwn Church St &amp; W Broadway</td>\n",
       "      <td>40.715337</td>\n",
       "      <td>-74.008848</td>\n",
       "      <td>[{'label': 'display', 'lat': 40.71533713859952...</td>\n",
       "      <td>574</td>\n",
       "      <td>10007</td>\n",
       "      <td>US</td>\n",
       "      <td>New York</td>\n",
       "      <td>NY</td>\n",
       "      <td>United States</td>\n",
       "      <td>[124 Chambers St (btwn Church St &amp; W Broadway)...</td>\n",
       "      <td>NaN</td>\n",
       "      <td>3fd66200f964a520f4e41ee3</td>\n",
       "    </tr>\n",
       "    <tr>\n",
       "      <td>27</td>\n",
       "      <td>Ristorante Italiano</td>\n",
       "      <td>Italian Restaurant</td>\n",
       "      <td>Mulberry</td>\n",
       "      <td>Hester</td>\n",
       "      <td>40.718273</td>\n",
       "      <td>-73.997938</td>\n",
       "      <td>[{'label': 'display', 'lat': 40.71827294132064...</td>\n",
       "      <td>1534</td>\n",
       "      <td>10013</td>\n",
       "      <td>US</td>\n",
       "      <td>New York</td>\n",
       "      <td>NY</td>\n",
       "      <td>United States</td>\n",
       "      <td>[Mulberry (Hester), New York, NY 10013, United...</td>\n",
       "      <td>NaN</td>\n",
       "      <td>4d950c78647d8cfa5a2a973d</td>\n",
       "    </tr>\n",
       "  </tbody>\n",
       "</table>\n",
       "</div>"
      ],
      "text/plain": [
       "                                   name             categories  \\\n",
       "0             Harry's Italian Pizza Bar     Italian Restaurant   \n",
       "1         Carmela's Italian Specialties            Pizza Place   \n",
       "2             Harry's Italian Pizza Bar            Pizza Place   \n",
       "3         Benvenuti Italian Specialties           Gourmet Shop   \n",
       "4       Conca Cucina Italian Restaurant                   Food   \n",
       "5                Pisillo Italian Panini         Sandwich Place   \n",
       "6                  Pisillo Italian Cafe                   Café   \n",
       "7           Caruso's Italian Restaurant     Italian Restaurant   \n",
       "8              Italian Culinary Academy  College Arts Building   \n",
       "9                   Barber Italian Shop         Clothing Store   \n",
       "10            Italian Bakery 160 Prince                 Bakery   \n",
       "11           Di So's Italian Food Truck     Italian Restaurant   \n",
       "12       Dominics Italian Sausage Truck             Food Truck   \n",
       "13               Diva italian resturant     Italian Restaurant   \n",
       "14            Carmine's Italian Seafood     Italian Restaurant   \n",
       "15        Center for Italian Modern Art            Art Gallery   \n",
       "16  Rita's Italian Ice & Frozen Custard           Dessert Shop   \n",
       "17                     luca italian bar           Cocktail Bar   \n",
       "18               Little Italian Rooftop         Scenic Lookout   \n",
       "19                        Venti Italian             Food Truck   \n",
       "20          Carmela Italian Street Fare             Food Truck   \n",
       "21                  Avito Italian Shoes             Shoe Store   \n",
       "22     El Corello Italian Cuisine, SoHo                   None   \n",
       "23       PJ Charlton Italian Restaurant     Italian Restaurant   \n",
       "24                  Gloria's Restaurant     Italian Restaurant   \n",
       "25                Gigino at Wagner Park     Italian Restaurant   \n",
       "26                                 Ecco     Italian Restaurant   \n",
       "27                  Ristorante Italiano     Italian Restaurant   \n",
       "\n",
       "                         address                  crossStreet        lat  \\\n",
       "0                      2 Gold St                at Maiden Ln.  40.707634   \n",
       "1                    30 Water St                          NaN  40.719812   \n",
       "2                  225 Murray St                          NaN  40.715218   \n",
       "3                  235 S End Ave                          NaN  40.709681   \n",
       "4                  63 W Broadway                          NaN  40.714484   \n",
       "5                   97 Nassau St                    at Ann St  40.710530   \n",
       "6                            NaN                          NaN  40.710493   \n",
       "7                    42 Broadway                          NaN  40.710509   \n",
       "8                   462 Broadway                    Grand St.  40.718838   \n",
       "9                   120 Broadway             btw Cedar & Pine  40.707970   \n",
       "10                           NaN                          NaN  40.725955   \n",
       "11                           NaN                          NaN  40.703973   \n",
       "12                           NaN                          NaN  40.703499   \n",
       "13                341 W Broadway                         None  40.723066   \n",
       "14                140 Beekman St                          NaN  40.707375   \n",
       "15            421 Broome St Fl 4                    Crosby St  40.721188   \n",
       "16  4 South Street, LL Space 206                          NaN  40.702097   \n",
       "17                           NaN                          NaN  40.723228   \n",
       "18                 182 Hester St                          NaN  40.718237   \n",
       "19                           NaN                          NaN  40.714231   \n",
       "20                           NaN           Montgomery & Marin  40.714155   \n",
       "21                           NaN                          NaN  40.725150   \n",
       "22                     Manhattan                          NaN  40.726206   \n",
       "23              549 Greenwich St                          NaN  40.727446   \n",
       "24                107 W Broadway                     Reade St  40.710412   \n",
       "25                 20 Battery Pl      btw West St & 1st Place  40.704984   \n",
       "26               124 Chambers St  btwn Church St & W Broadway  40.715337   \n",
       "27                      Mulberry                       Hester  40.718273   \n",
       "\n",
       "          lng                                     labeledLatLngs  distance  \\\n",
       "0  -74.006996  [{'label': 'display', 'lat': 40.7076335455641,...      1110   \n",
       "1  -74.035041  [{'label': 'display', 'lat': 40.71981178398971...      1715   \n",
       "2  -74.014739  [{'label': 'display', 'lat': 40.71521779064671...        77   \n",
       "3  -74.016520  [{'label': 'display', 'lat': 40.70968105555279...       612   \n",
       "4  -74.009806  [{'label': 'display', 'lat': 40.71448400000000...       499   \n",
       "5  -74.007526  [{'label': 'display', 'lat': 40.71053008446078...       857   \n",
       "6  -74.007546  [{'label': 'display', 'lat': 40.71049280792626...       858   \n",
       "7  -74.008276  [{'label': 'display', 'lat': 40.71050909999999...       809   \n",
       "8  -73.997835  [{'label': 'display', 'lat': 40.71883786954379...      1558   \n",
       "9  -74.009949  [{'label': 'display', 'lat': 40.70796968555732...       933   \n",
       "10 -74.001161  [{'label': 'display', 'lat': 40.725955, 'lng':...      1715   \n",
       "11 -74.008627  [{'label': 'display', 'lat': 40.70397251406873...      1378   \n",
       "12 -74.012853  [{'label': 'display', 'lat': 40.70349917092183...      1318   \n",
       "13 -74.003729  [{'label': 'display', 'lat': 40.72306551231227...      1337   \n",
       "14 -74.002700  [{'label': 'display', 'lat': 40.707375, 'lng':...      1394   \n",
       "15 -73.998515  [{'label': 'display', 'lat': 40.72118752815872...      1594   \n",
       "16 -74.012018  [{'label': 'display', 'lat': 40.70209699999999...      1484   \n",
       "17 -74.001120  [{'label': 'display', 'lat': 40.723228, 'lng':...      1520   \n",
       "18 -73.998061  [{'label': 'display', 'lat': 40.71823673, 'lng...      1523   \n",
       "19 -74.034295  [{'label': 'display', 'lat': 40.71423117222208...      1575   \n",
       "20 -74.034232  [{'label': 'display', 'lat': 40.71415464760439...      1571   \n",
       "21 -74.001250  [{'label': 'display', 'lat': 40.72514973911606...      1648   \n",
       "22 -74.001990  [{'label': 'display', 'lat': 40.72620558585586...      1686   \n",
       "23 -74.008656  [{'label': 'display', 'lat': 40.72744633153894...      1491   \n",
       "24 -74.007998  [{'label': 'display', 'lat': 40.710412, 'lng':...       834   \n",
       "25 -74.018327  [{'label': 'display', 'lat': 40.70498427289225...      1153   \n",
       "26 -74.008848  [{'label': 'display', 'lat': 40.71533713859952...       574   \n",
       "27 -73.997938  [{'label': 'display', 'lat': 40.71827294132064...      1534   \n",
       "\n",
       "   postalCode  cc         city     state        country  \\\n",
       "0       10038  US     New York        NY  United States   \n",
       "1       10004  US     New York        NJ  United States   \n",
       "2       10282  US     New York        NY  United States   \n",
       "3       10280  US     New York        NY  United States   \n",
       "4       10007  US     New York        NY  United States   \n",
       "5       10038  US     New York        NY  United States   \n",
       "6         NaN  US     New York        NY  United States   \n",
       "7       10004  US     New York        NY  United States   \n",
       "8       10013  US     New York        NY  United States   \n",
       "9       10271  US     New York        NY  United States   \n",
       "10      10012  US     New York        NY  United States   \n",
       "11        NaN  US     New York        NY  United States   \n",
       "12        NaN  US     New York        NY  United States   \n",
       "13      10013  US     New York        NY  United States   \n",
       "14      10038  US     New York        NY  United States   \n",
       "15      10013  US     New York        NY  United States   \n",
       "16      10004  US     New York        NY  United States   \n",
       "17        NaN  US     New York        NY  United States   \n",
       "18      10013  US     New York        NY  United States   \n",
       "19      07302  US  Jersey City        NJ  United States   \n",
       "20        NaN  US  Jersey City        NJ  United States   \n",
       "21        NaN  US          NaN  New York  United States   \n",
       "22      10012  US     New York        NY  United States   \n",
       "23      10013  US     New York        NY  United States   \n",
       "24      10013  US     New York        NY  United States   \n",
       "25      10004  US     New York        NY  United States   \n",
       "26      10007  US     New York        NY  United States   \n",
       "27      10013  US     New York        NY  United States   \n",
       "\n",
       "                                     formattedAddress        neighborhood  \\\n",
       "0   [2 Gold St (at Maiden Ln.), New York, NY 10038...                 NaN   \n",
       "1    [30 Water St, New York, NJ 10004, United States]                 NaN   \n",
       "2   [225 Murray St, New York, NY 10282, United Sta...                 NaN   \n",
       "3   [235 S End Ave, New York, NY 10280, United Sta...                 NaN   \n",
       "4   [63 W Broadway, New York, NY 10007, United Sta...                 NaN   \n",
       "5   [97 Nassau St (at Ann St), New York, NY 10038,...                 NaN   \n",
       "6                       [New York, NY, United States]                 NaN   \n",
       "7    [42 Broadway, New York, NY 10004, United States]                 NaN   \n",
       "8   [462 Broadway (Grand St.), New York, NY 10013,...                 NaN   \n",
       "9   [120 Broadway (btw Cedar & Pine), New York, NY...                 NaN   \n",
       "10                [New York, NY 10012, United States]                 NaN   \n",
       "11                      [New York, NY, United States]  Financial District   \n",
       "12                      [New York, NY, United States]  Financial District   \n",
       "13  [341 W Broadway (None), New York, NY 10013, Un...                 NaN   \n",
       "14  [140 Beekman St, New York, NY 10038, United St...                 NaN   \n",
       "15  [421 Broome St Fl 4 (Crosby St), New York, NY ...                 NaN   \n",
       "16  [4 South Street, LL Space 206, New York, NY 10...                 NaN   \n",
       "17                      [New York, NY, United States]                 NaN   \n",
       "18  [182 Hester St, New York, NY 10013, United Sta...                 NaN   \n",
       "19             [Jersey City, NJ 07302, United States]                 NaN   \n",
       "20  [Montgomery & Marin, Jersey City, NJ, United S...                 NaN   \n",
       "21                          [New York, United States]                 NaN   \n",
       "22     [Manhattan, New York, NY 10012, United States]                 NaN   \n",
       "23  [549 Greenwich St, New York, NY 10013, United ...                 NaN   \n",
       "24  [107 W Broadway (Reade St), New York, NY 10013...                 NaN   \n",
       "25  [20 Battery Pl (btw West St & 1st Place), New ...                 NaN   \n",
       "26  [124 Chambers St (btwn Church St & W Broadway)...                 NaN   \n",
       "27  [Mulberry (Hester), New York, NY 10013, United...                 NaN   \n",
       "\n",
       "                          id  \n",
       "0   4a4560a7f964a5201aa81fe3  \n",
       "1   4e4c4e62bd413c4cc6686059  \n",
       "2   4fa862b3e4b0ebff2f749f06  \n",
       "3   4f3feae2e4b0ac9416a72118  \n",
       "4   4f3232e219836c91c7bfde94  \n",
       "5   528bf16711d2b7722da6b51c  \n",
       "6   588a4316326c5a4b60559f17  \n",
       "7   4e4c4d28bd413c4cc66857a5  \n",
       "8   4cf7d538dc40a35d26894f54  \n",
       "9   4c3b8244def90f478f0ffe2d  \n",
       "10  50de11fde4b0a94f4e13d7cd  \n",
       "11  51e245e8498eb19e2e908b76  \n",
       "12  51fbf7a3498e86b46099a568  \n",
       "13  4f779e12e4b08e5a67d80bb4  \n",
       "14  4be0ac9398f2a593aa10c35a  \n",
       "15  53132d23498eacec1e539180  \n",
       "16  5c52748435d3fc002cc413c9  \n",
       "17  5323c9e6498e51e76d30cb8f  \n",
       "18  4d97923e61a3a1cdb92ab942  \n",
       "19  5b5a030628374e002c6ff65f  \n",
       "20  531b8463498e75a62427aa90  \n",
       "21  4f5ba587e4b0b28dd416e2c4  \n",
       "22  4e4c6e336284776ee1234039  \n",
       "23  4bbf6b6430c99c74302a5511  \n",
       "24  4c5de89e6ebe2d7f7955d42e  \n",
       "25  4b4f88adf964a5204c0a27e3  \n",
       "26  3fd66200f964a520f4e41ee3  \n",
       "27  4d950c78647d8cfa5a2a973d  "
      ]
     },
     "execution_count": 96,
     "metadata": {},
     "output_type": "execute_result"
    }
   ],
   "source": [
    "# function that extracts the category of the venue\n",
    "def get_category_type(row):\n",
    "    try:\n",
    "        categories_list = row['categories']\n",
    "    except:\n",
    "        categories_list = row['venue.categories']\n",
    "        \n",
    "    if len(categories_list) == 0:\n",
    "        return None\n",
    "    else:\n",
    "        return categories_list[0]['name']    #Como se verá en un ejemplo de abajo, el 0 es para meterse en el diccionario de dentro de la lista\n",
    "\n",
    "    \n",
    "# filter the category for each row\n",
    "dataframe_filtered['categories'] = dataframe_filtered.apply(get_category_type, axis=1)\n",
    "\n",
    "# clean column names by keeping only last term\n",
    "dataframe_filtered.columns = [column.split('.')[-1] for column in dataframe_filtered.columns]\n",
    "\n",
    "dataframe_filtered"
   ]
  },
  {
   "cell_type": "markdown",
   "metadata": {},
   "source": [
    "En el fondo, l"
   ]
  },
  {
   "cell_type": "code",
   "execution_count": 112,
   "metadata": {},
   "outputs": [
    {
     "data": {
      "text/plain": [
       "0    [{'label': 'display', 'lat': 40.7076335455641,...\n",
       "1    [{'label': 'display', 'lat': 40.71981178398971...\n",
       "2    [{'label': 'display', 'lat': 40.71521779064671...\n",
       "3    [{'label': 'display', 'lat': 40.70968105555279...\n",
       "4    [{'label': 'display', 'lat': 40.71448400000000...\n",
       "Name: labeledLatLngs, dtype: object"
      ]
     },
     "execution_count": 112,
     "metadata": {},
     "output_type": "execute_result"
    }
   ],
   "source": [
    "dataframe_filtered[\"labeledLatLngs\"].head(5)"
   ]
  },
  {
   "cell_type": "code",
   "execution_count": 117,
   "metadata": {},
   "outputs": [
    {
     "data": {
      "text/plain": [
       "[{'label': 'display', 'lat': 40.7076335455641, 'lng': -74.00699585960496}]"
      ]
     },
     "execution_count": 117,
     "metadata": {},
     "output_type": "execute_result"
    }
   ],
   "source": [
    "dataframe_filtered[\"labeledLatLngs\"][0]"
   ]
  },
  {
   "cell_type": "code",
   "execution_count": 118,
   "metadata": {},
   "outputs": [
    {
     "data": {
      "text/plain": [
       "{'label': 'display', 'lat': 40.7076335455641, 'lng': -74.00699585960496}"
      ]
     },
     "execution_count": 118,
     "metadata": {},
     "output_type": "execute_result"
    }
   ],
   "source": [
    "dataframe_filtered[\"labeledLatLngs\"][0][0]"
   ]
  },
  {
   "cell_type": "code",
   "execution_count": 119,
   "metadata": {},
   "outputs": [
    {
     "data": {
      "text/plain": [
       "dict_keys(['label', 'lat', 'lng'])"
      ]
     },
     "execution_count": 119,
     "metadata": {},
     "output_type": "execute_result"
    }
   ],
   "source": [
    "dataframe_filtered[\"labeledLatLngs\"][0][0].keys()"
   ]
  },
  {
   "cell_type": "code",
   "execution_count": 120,
   "metadata": {},
   "outputs": [
    {
     "data": {
      "text/plain": [
       "40.7076335455641"
      ]
     },
     "execution_count": 120,
     "metadata": {},
     "output_type": "execute_result"
    }
   ],
   "source": [
    "dataframe_filtered[\"labeledLatLngs\"][0][0][\"lat\"]"
   ]
  },
  {
   "cell_type": "markdown",
   "metadata": {
    "button": false,
    "deletable": true,
    "new_sheet": false,
    "run_control": {
     "read_only": false
    }
   },
   "source": [
    "#### Let's visualize the Italian restaurants that are nearby"
   ]
  },
  {
   "cell_type": "code",
   "execution_count": 65,
   "metadata": {
    "button": false,
    "collapsed": false,
    "deletable": true,
    "jupyter": {
     "outputs_hidden": false
    },
    "new_sheet": false,
    "run_control": {
     "read_only": false
    }
   },
   "outputs": [
    {
     "data": {
      "text/plain": [
       "0               Harry's Italian Pizza Bar\n",
       "1           Carmela's Italian Specialties\n",
       "2               Harry's Italian Pizza Bar\n",
       "3           Benvenuti Italian Specialties\n",
       "4         Conca Cucina Italian Restaurant\n",
       "5                  Pisillo Italian Panini\n",
       "6                    Pisillo Italian Cafe\n",
       "7             Caruso's Italian Restaurant\n",
       "8                Italian Culinary Academy\n",
       "9                     Barber Italian Shop\n",
       "10              Italian Bakery 160 Prince\n",
       "11             Di So's Italian Food Truck\n",
       "12         Dominics Italian Sausage Truck\n",
       "13                 Diva italian resturant\n",
       "14              Carmine's Italian Seafood\n",
       "15          Center for Italian Modern Art\n",
       "16    Rita's Italian Ice & Frozen Custard\n",
       "17                       luca italian bar\n",
       "18                 Little Italian Rooftop\n",
       "19                          Venti Italian\n",
       "20            Carmela Italian Street Fare\n",
       "21                    Avito Italian Shoes\n",
       "22       El Corello Italian Cuisine, SoHo\n",
       "23         PJ Charlton Italian Restaurant\n",
       "24                    Gloria's Restaurant\n",
       "25                  Gigino at Wagner Park\n",
       "26                                   Ecco\n",
       "27                    Ristorante Italiano\n",
       "Name: name, dtype: object"
      ]
     },
     "execution_count": 65,
     "metadata": {},
     "output_type": "execute_result"
    }
   ],
   "source": [
    "dataframe_filtered.name"
   ]
  },
  {
   "cell_type": "code",
   "execution_count": 125,
   "metadata": {
    "button": false,
    "collapsed": false,
    "deletable": true,
    "jupyter": {
     "outputs_hidden": false
    },
    "new_sheet": false,
    "run_control": {
     "read_only": false
    }
   },
   "outputs": [
    {
     "data": {
      "text/html": [
       "<div style=\"width:100%;\"><div style=\"position:relative;width:100%;height:0;padding-bottom:60%;\"><iframe src=\"about:blank\" style=\"position:absolute;width:100%;height:100%;left:0;top:0;border:none !important;\" data-html=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 onload=\"this.contentDocument.open();this.contentDocument.write(atob(this.getAttribute('data-html')));this.contentDocument.close();\" allowfullscreen webkitallowfullscreen mozallowfullscreen></iframe></div></div>"
      ],
      "text/plain": [
       "<folium.folium.Map at 0x1db9c8e6608>"
      ]
     },
     "execution_count": 125,
     "metadata": {},
     "output_type": "execute_result"
    }
   ],
   "source": [
    "venues_map = folium.Map(location=[latitude, longitude], zoom_start=15) # generate map centred around the Conrad Hotel\n",
    "\n",
    "# add a red circle marker to represent the Conrad Hotel\n",
    "folium.features.CircleMarker(\n",
    "    [latitude, longitude],\n",
    "    radius=10,\n",
    "    color='red',\n",
    "    popup=address,\n",
    "    fill = True,\n",
    "    fill_color = 'red',\n",
    "    fill_opacity = 0.6\n",
    ").add_to(venues_map)\n",
    "\n",
    "# add the Italian restaurants as blue circle markers\n",
    "for lat, lng, label in zip(dataframe_filtered.lat, dataframe_filtered.lng, dataframe_filtered.categories):\n",
    "    folium.features.CircleMarker(\n",
    "        [lat, lng],\n",
    "        radius=5,\n",
    "        color='blue',\n",
    "        popup=label,\n",
    "        fill = True,\n",
    "        fill_color='blue',\n",
    "        fill_opacity=0.6\n",
    "    ).add_to(venues_map)\n",
    "\n",
    "# display map\n",
    "venues_map"
   ]
  },
  {
   "cell_type": "markdown",
   "metadata": {
    "button": false,
    "deletable": true,
    "new_sheet": false,
    "run_control": {
     "read_only": false
    }
   },
   "source": [
    "   "
   ]
  },
  {
   "cell_type": "markdown",
   "metadata": {
    "button": false,
    "deletable": true,
    "new_sheet": false,
    "run_control": {
     "read_only": false
    }
   },
   "source": [
    "<a id=\"item2\"></a>"
   ]
  },
  {
   "cell_type": "markdown",
   "metadata": {
    "button": false,
    "deletable": true,
    "new_sheet": false,
    "run_control": {
     "read_only": false
    }
   },
   "source": [
    "## 2. Explore a Given Venue\n",
    "> `https://api.foursquare.com/v2/venues/`**VENUE_ID**`?client_id=`**CLIENT_ID**`&client_secret=`**CLIENT_SECRET**`&v=`**VERSION**"
   ]
  },
  {
   "cell_type": "markdown",
   "metadata": {
    "button": false,
    "deletable": true,
    "new_sheet": false,
    "run_control": {
     "read_only": false
    }
   },
   "source": [
    "### A. Let's explore the closest Italian restaurant -- _Harry's Italian Pizza Bar_"
   ]
  },
  {
   "cell_type": "code",
   "execution_count": 126,
   "metadata": {
    "button": false,
    "collapsed": false,
    "deletable": true,
    "jupyter": {
     "outputs_hidden": false
    },
    "new_sheet": false,
    "run_control": {
     "read_only": false
    }
   },
   "outputs": [
    {
     "data": {
      "text/plain": [
       "'https://api.foursquare.com/v2/venues/4fa862b3e4b0ebff2f749f06?client_id=CCGWO22YNNJUOMYZS1AADPMWPS2J2UUB5OYAQGFJGNHWZO4K&client_secret=W4XNKMFSPF2Q2SWQJXFQN1ZTH0VBR1EIKO3ERYDNGUX55TKU&v=20180604'"
      ]
     },
     "execution_count": 126,
     "metadata": {},
     "output_type": "execute_result"
    }
   ],
   "source": [
    "venue_id = '4fa862b3e4b0ebff2f749f06' # ID of Harry's Italian Pizza Bar\n",
    "url = 'https://api.foursquare.com/v2/venues/{}?client_id={}&client_secret={}&v={}'.format(venue_id, CLIENT_ID, CLIENT_SECRET, VERSION)\n",
    "url"
   ]
  },
  {
   "cell_type": "markdown",
   "metadata": {
    "button": false,
    "deletable": true,
    "new_sheet": false,
    "run_control": {
     "read_only": false
    }
   },
   "source": [
    "#### Send GET request for result"
   ]
  },
  {
   "cell_type": "code",
   "execution_count": 127,
   "metadata": {
    "button": false,
    "collapsed": false,
    "deletable": true,
    "jupyter": {
     "outputs_hidden": false
    },
    "new_sheet": false,
    "run_control": {
     "read_only": false
    }
   },
   "outputs": [
    {
     "name": "stdout",
     "output_type": "stream",
     "text": [
      "dict_keys(['id', 'name', 'contact', 'location', 'canonicalUrl', 'categories', 'verified', 'stats', 'url', 'price', 'hasMenu', 'likes', 'dislike', 'ok', 'rating', 'ratingColor', 'ratingSignals', 'menu', 'allowMenuUrlEdit', 'beenHere', 'specials', 'photos', 'reasons', 'hereNow', 'createdAt', 'tips', 'shortUrl', 'timeZone', 'listed', 'hours', 'popular', 'seasonalHours', 'defaultHours', 'pageUpdates', 'inbox', 'attributes', 'bestPhoto', 'colors'])\n"
     ]
    },
    {
     "data": {
      "text/plain": [
       "{'id': '4fa862b3e4b0ebff2f749f06',\n",
       " 'name': \"Harry's Italian Pizza Bar\",\n",
       " 'contact': {'phone': '2126081007', 'formattedPhone': '(212) 608-1007'},\n",
       " 'location': {'address': '225 Murray St',\n",
       "  'lat': 40.71521779064671,\n",
       "  'lng': -74.01473940209351,\n",
       "  'labeledLatLngs': [{'label': 'display',\n",
       "    'lat': 40.71521779064671,\n",
       "    'lng': -74.01473940209351},\n",
       "   {'label': 'entrance', 'lat': 40.715361, 'lng': -74.014975}],\n",
       "  'postalCode': '10282',\n",
       "  'cc': 'US',\n",
       "  'city': 'New York',\n",
       "  'state': 'NY',\n",
       "  'country': 'United States',\n",
       "  'formattedAddress': ['225 Murray St',\n",
       "   'New York, NY 10282',\n",
       "   'United States']},\n",
       " 'canonicalUrl': 'https://foursquare.com/v/harrys-italian-pizza-bar/4fa862b3e4b0ebff2f749f06',\n",
       " 'categories': [{'id': '4bf58dd8d48988d1ca941735',\n",
       "   'name': 'Pizza Place',\n",
       "   'pluralName': 'Pizza Places',\n",
       "   'shortName': 'Pizza',\n",
       "   'icon': {'prefix': 'https://ss3.4sqi.net/img/categories_v2/food/pizza_',\n",
       "    'suffix': '.png'},\n",
       "   'primary': True},\n",
       "  {'id': '4bf58dd8d48988d110941735',\n",
       "   'name': 'Italian Restaurant',\n",
       "   'pluralName': 'Italian Restaurants',\n",
       "   'shortName': 'Italian',\n",
       "   'icon': {'prefix': 'https://ss3.4sqi.net/img/categories_v2/food/italian_',\n",
       "    'suffix': '.png'}}],\n",
       " 'verified': False,\n",
       " 'stats': {'tipCount': 57},\n",
       " 'url': 'http://harrysitalian.com',\n",
       " 'price': {'tier': 2, 'message': 'Moderate', 'currency': '$'},\n",
       " 'hasMenu': True,\n",
       " 'likes': {'count': 120,\n",
       "  'groups': [{'type': 'others', 'count': 120, 'items': []}],\n",
       "  'summary': '120 Likes'},\n",
       " 'dislike': False,\n",
       " 'ok': False,\n",
       " 'rating': 6.4,\n",
       " 'ratingColor': 'FFC800',\n",
       " 'ratingSignals': 212,\n",
       " 'menu': {'type': 'Menu',\n",
       "  'label': 'Menu',\n",
       "  'anchor': 'View Menu',\n",
       "  'url': 'https://foursquare.com/v/harrys-italian-pizza-bar/4fa862b3e4b0ebff2f749f06/menu',\n",
       "  'mobileUrl': 'https://foursquare.com/v/4fa862b3e4b0ebff2f749f06/device_menu'},\n",
       " 'allowMenuUrlEdit': True,\n",
       " 'beenHere': {'count': 0,\n",
       "  'unconfirmedCount': 0,\n",
       "  'marked': False,\n",
       "  'lastCheckinExpiredAt': 0},\n",
       " 'specials': {'count': 0, 'items': []},\n",
       " 'photos': {'count': 146,\n",
       "  'groups': [{'type': 'venue',\n",
       "    'name': 'Venue photos',\n",
       "    'count': 146,\n",
       "    'items': [{'id': '4fad980de4b091b4626c3633',\n",
       "      'createdAt': 1336776717,\n",
       "      'source': {'name': 'Foursquare for Android',\n",
       "       'url': 'https://foursquare.com/download/#/android'},\n",
       "      'prefix': 'https://fastly.4sqi.net/img/general/',\n",
       "      'suffix': '/ya1iQFI7pLjuIJp1PGDKlrZS3OJdHCF7tpILMmjv_2w.jpg',\n",
       "      'width': 480,\n",
       "      'height': 640,\n",
       "      'user': {'id': '13676709',\n",
       "       'firstName': 'Leony',\n",
       "       'lastName': 'N',\n",
       "       'photo': {'prefix': 'https://fastly.4sqi.net/img/user/',\n",
       "        'suffix': '/T0ANFNGNMCHUDEUE.jpg'}},\n",
       "      'visibility': 'public'}]}]},\n",
       " 'reasons': {'count': 1,\n",
       "  'items': [{'summary': 'Lots of people like this place',\n",
       "    'type': 'general',\n",
       "    'reasonName': 'rawLikesReason'}]},\n",
       " 'hereNow': {'count': 0, 'summary': 'Nobody here', 'groups': []},\n",
       " 'createdAt': 1336435379,\n",
       " 'tips': {'count': 57,\n",
       "  'groups': [{'type': 'others',\n",
       "    'name': 'All tips',\n",
       "    'count': 57,\n",
       "    'items': [{'id': '53d27909498e0523841340b6',\n",
       "      'createdAt': 1406302473,\n",
       "      'text': \"Harry's Italian Pizza bar is known for it's amazing pizza, but did you know that the brunches here are amazing too? Try the Nutella French toast and we know you'll be sold.\",\n",
       "      'type': 'user',\n",
       "      'canonicalUrl': 'https://foursquare.com/item/53d27909498e0523841340b6',\n",
       "      'lang': 'en',\n",
       "      'likes': {'count': 4,\n",
       "       'groups': [{'type': 'others',\n",
       "         'count': 4,\n",
       "         'items': [{'id': '369426',\n",
       "           'firstName': 'P.',\n",
       "           'lastName': 'M',\n",
       "           'photo': {'prefix': 'https://fastly.4sqi.net/img/user/',\n",
       "            'suffix': '/JPQYUWJKUT0H2OO4.jpg'}},\n",
       "          {'id': '87587879',\n",
       "           'firstName': 'Diane',\n",
       "           'lastName': 'D',\n",
       "           'photo': {'prefix': 'https://fastly.4sqi.net/img/user/',\n",
       "            'suffix': '/87587879-ESLRSZLQ2CBE2P4W.jpg'}},\n",
       "          {'id': '87591341',\n",
       "           'firstName': 'Tim',\n",
       "           'lastName': 'S',\n",
       "           'photo': {'prefix': 'https://fastly.4sqi.net/img/user/',\n",
       "            'suffix': '/-Z4YK4VKE0JSVXIY1.jpg'}},\n",
       "          {'id': '87473404',\n",
       "           'firstName': 'TenantKing.com',\n",
       "           'photo': {'prefix': 'https://fastly.4sqi.net/img/user/',\n",
       "            'suffix': '/87473404-HI5DTBTK0HX401CA.png'},\n",
       "           'type': 'page'}]}],\n",
       "       'summary': '4 likes'},\n",
       "      'logView': True,\n",
       "      'agreeCount': 4,\n",
       "      'disagreeCount': 0,\n",
       "      'todo': {'count': 0},\n",
       "      'user': {'id': '87473404',\n",
       "       'firstName': 'TenantKing.com',\n",
       "       'photo': {'prefix': 'https://fastly.4sqi.net/img/user/',\n",
       "        'suffix': '/87473404-HI5DTBTK0HX401CA.png'},\n",
       "       'type': 'page'}}]}]},\n",
       " 'shortUrl': 'http://4sq.com/JNblHV',\n",
       " 'timeZone': 'America/New_York',\n",
       " 'listed': {'count': 54,\n",
       "  'groups': [{'type': 'others',\n",
       "    'name': 'Lists from other people',\n",
       "    'count': 54,\n",
       "    'items': [{'id': '4fa32fd0e4b04193744746b1',\n",
       "      'name': 'Manhattan Haunts',\n",
       "      'description': '',\n",
       "      'type': 'others',\n",
       "      'user': {'id': '24592223',\n",
       "       'firstName': 'Becca',\n",
       "       'lastName': 'M',\n",
       "       'photo': {'prefix': 'https://fastly.4sqi.net/img/user/',\n",
       "        'suffix': '/24592223-RAW2UYM0GIB1U40K.jpg'}},\n",
       "      'editable': False,\n",
       "      'public': True,\n",
       "      'collaborative': False,\n",
       "      'url': '/becca_mcarthur/list/manhattan-haunts',\n",
       "      'canonicalUrl': 'https://foursquare.com/becca_mcarthur/list/manhattan-haunts',\n",
       "      'createdAt': 1336094672,\n",
       "      'updatedAt': 1380845377,\n",
       "      'photo': {'id': '4e8cc9461081e3b3544e12e5',\n",
       "       'createdAt': 1317849414,\n",
       "       'prefix': 'https://fastly.4sqi.net/img/general/',\n",
       "       'suffix': '/0NLVU2HC1JF4DXIMKWUFW3QBUT31DC11EFNYYHMJG3NDWAPS.jpg',\n",
       "       'width': 492,\n",
       "       'height': 330,\n",
       "       'user': {'id': '742542',\n",
       "        'firstName': 'Time Out New York',\n",
       "        'photo': {'prefix': 'https://fastly.4sqi.net/img/user/',\n",
       "         'suffix': '/XXHKCBSQHBORZNSR.jpg'},\n",
       "        'type': 'page'},\n",
       "       'visibility': 'public'},\n",
       "      'followers': {'count': 22},\n",
       "      'listItems': {'count': 187,\n",
       "       'items': [{'id': 'v4fa862b3e4b0ebff2f749f06',\n",
       "         'createdAt': 1342934485}]}},\n",
       "     {'id': '4fae817be4b085f6b2a74d19',\n",
       "      'name': 'USA NYC MAN FiDi',\n",
       "      'description': 'Where to go for decent eats in the restaurant wasteland of Downtown NYC aka FiDi, along with Tribeca & Battery Park City.',\n",
       "      'type': 'others',\n",
       "      'user': {'id': '12113441',\n",
       "       'firstName': 'Kino',\n",
       "       'photo': {'prefix': 'https://fastly.4sqi.net/img/user/',\n",
       "        'suffix': '/12113441-K5HTHFLU2MUCM0CM.jpg'}},\n",
       "      'editable': False,\n",
       "      'public': True,\n",
       "      'collaborative': False,\n",
       "      'url': '/kinosfault/list/usa-nyc-man-fidi',\n",
       "      'canonicalUrl': 'https://foursquare.com/kinosfault/list/usa-nyc-man-fidi',\n",
       "      'createdAt': 1336836475,\n",
       "      'updatedAt': 1556754919,\n",
       "      'photo': {'id': '55984992498e13ba75e353bb',\n",
       "       'createdAt': 1436043666,\n",
       "       'prefix': 'https://fastly.4sqi.net/img/general/',\n",
       "       'suffix': '/12113441_iOa6Uh-Xi8bhj2-gpzkkw8MKiAIs7RmOcz_RM7m8ink.jpg',\n",
       "       'width': 540,\n",
       "       'height': 960,\n",
       "       'user': {'id': '12113441',\n",
       "        'firstName': 'Kino',\n",
       "        'photo': {'prefix': 'https://fastly.4sqi.net/img/user/',\n",
       "         'suffix': '/12113441-K5HTHFLU2MUCM0CM.jpg'}},\n",
       "       'visibility': 'public'},\n",
       "      'followers': {'count': 20},\n",
       "      'listItems': {'count': 273,\n",
       "       'items': [{'id': 'v4fa862b3e4b0ebff2f749f06',\n",
       "         'createdAt': 1373909433}]}},\n",
       "     {'id': '4fddeff0e4b0e078037ac0d3',\n",
       "      'name': 'NYC Resturants',\n",
       "      'description': '',\n",
       "      'type': 'others',\n",
       "      'user': {'id': '21563126',\n",
       "       'firstName': 'Richard',\n",
       "       'lastName': 'R',\n",
       "       'photo': {'prefix': 'https://fastly.4sqi.net/img/user/',\n",
       "        'suffix': '/21563126_v05J1KPw_SVj6Ehq9g8B9jeAGjFUMsU5QGl-NZ8inUQ7pKQm5bKplW37EmR7jS2A7GYPBBAtl.jpg'}},\n",
       "      'editable': False,\n",
       "      'public': True,\n",
       "      'collaborative': True,\n",
       "      'url': '/rickr7/list/nyc-resturants',\n",
       "      'canonicalUrl': 'https://foursquare.com/rickr7/list/nyc-resturants',\n",
       "      'createdAt': 1339944944,\n",
       "      'updatedAt': 1582232663,\n",
       "      'photo': {'id': '5072dd13e4b09145cdf782d1',\n",
       "       'createdAt': 1349704979,\n",
       "       'prefix': 'https://fastly.4sqi.net/img/general/',\n",
       "       'suffix': '/208205_fGh2OuAZ9qJ4agbAA5wMVNOSIm9kNUlRtNwj1N-adqg.jpg',\n",
       "       'width': 800,\n",
       "       'height': 800,\n",
       "       'user': {'id': '208205',\n",
       "        'firstName': 'Thalia',\n",
       "        'lastName': 'K',\n",
       "        'photo': {'prefix': 'https://fastly.4sqi.net/img/user/',\n",
       "         'suffix': '/SNOOLCAW2AG04ZKD.jpg'}},\n",
       "       'visibility': 'public'},\n",
       "      'followers': {'count': 12},\n",
       "      'listItems': {'count': 194,\n",
       "       'items': [{'id': 'v4fa862b3e4b0ebff2f749f06',\n",
       "         'createdAt': 1581655865}]}},\n",
       "     {'id': '5266c68a498e7c667807fe09',\n",
       "      'name': 'Foodie Love in NY - 02',\n",
       "      'description': '',\n",
       "      'type': 'others',\n",
       "      'user': {'id': '547977',\n",
       "       'firstName': 'WiLL',\n",
       "       'photo': {'prefix': 'https://fastly.4sqi.net/img/user/',\n",
       "        'suffix': '/-Q5NYGDMFDMOITQRR.jpg'}},\n",
       "      'editable': False,\n",
       "      'public': True,\n",
       "      'collaborative': False,\n",
       "      'url': '/sweetiewill/list/foodie-love-in-ny--02',\n",
       "      'canonicalUrl': 'https://foursquare.com/sweetiewill/list/foodie-love-in-ny--02',\n",
       "      'createdAt': 1382467210,\n",
       "      'updatedAt': 1391995585,\n",
       "      'followers': {'count': 7},\n",
       "      'listItems': {'count': 200,\n",
       "       'items': [{'id': 'v4fa862b3e4b0ebff2f749f06',\n",
       "         'createdAt': 1386809936}]}}]}]},\n",
       " 'hours': {'status': 'Closed until 11:30 AM',\n",
       "  'richStatus': {'entities': [], 'text': 'Closed until 11:30 AM'},\n",
       "  'isOpen': False,\n",
       "  'isLocalHoliday': False,\n",
       "  'dayData': [],\n",
       "  'timeframes': [{'days': 'Mon–Wed, Sun',\n",
       "    'includesToday': True,\n",
       "    'open': [{'renderedTime': '11:30 AM–11:00 PM'}],\n",
       "    'segments': []},\n",
       "   {'days': 'Thu–Sat',\n",
       "    'open': [{'renderedTime': '11:30 AM–Midnight'}],\n",
       "    'segments': []}]},\n",
       " 'popular': {'isOpen': False,\n",
       "  'isLocalHoliday': False,\n",
       "  'timeframes': [{'days': 'Today',\n",
       "    'includesToday': True,\n",
       "    'open': [{'renderedTime': 'Noon–2:00 PM'},\n",
       "     {'renderedTime': '5:00 PM–10:00 PM'}],\n",
       "    'segments': []},\n",
       "   {'days': 'Thu',\n",
       "    'open': [{'renderedTime': 'Noon–2:00 PM'},\n",
       "     {'renderedTime': '5:00 PM–10:00 PM'}],\n",
       "    'segments': []},\n",
       "   {'days': 'Fri',\n",
       "    'open': [{'renderedTime': 'Noon–3:00 PM'},\n",
       "     {'renderedTime': '5:00 PM–11:00 PM'}],\n",
       "    'segments': []},\n",
       "   {'days': 'Sat',\n",
       "    'open': [{'renderedTime': 'Noon–11:00 PM'}],\n",
       "    'segments': []},\n",
       "   {'days': 'Sun',\n",
       "    'open': [{'renderedTime': 'Noon–3:00 PM'},\n",
       "     {'renderedTime': '5:00 PM–8:00 PM'}],\n",
       "    'segments': []},\n",
       "   {'days': 'Mon',\n",
       "    'open': [{'renderedTime': 'Noon–2:00 PM'},\n",
       "     {'renderedTime': '6:00 PM–8:00 PM'}],\n",
       "    'segments': []},\n",
       "   {'days': 'Tue',\n",
       "    'open': [{'renderedTime': 'Noon–2:00 PM'},\n",
       "     {'renderedTime': '5:00 PM–10:00 PM'}],\n",
       "    'segments': []}]},\n",
       " 'seasonalHours': [],\n",
       " 'defaultHours': {'status': 'Closed until 11:30 AM',\n",
       "  'richStatus': {'entities': [], 'text': 'Closed until 11:30 AM'},\n",
       "  'isOpen': False,\n",
       "  'isLocalHoliday': False,\n",
       "  'dayData': [],\n",
       "  'timeframes': [{'days': 'Mon–Wed, Sun',\n",
       "    'includesToday': True,\n",
       "    'open': [{'renderedTime': '11:30 AM–11:00 PM'}],\n",
       "    'segments': []},\n",
       "   {'days': 'Thu–Sat',\n",
       "    'open': [{'renderedTime': '11:30 AM–Midnight'}],\n",
       "    'segments': []}]},\n",
       " 'pageUpdates': {'count': 0, 'items': []},\n",
       " 'inbox': {'count': 0, 'items': []},\n",
       " 'attributes': {'groups': [{'type': 'price',\n",
       "    'name': 'Price',\n",
       "    'summary': '$$',\n",
       "    'count': 1,\n",
       "    'items': [{'displayName': 'Price', 'displayValue': '$$', 'priceTier': 2}]},\n",
       "   {'type': 'payments',\n",
       "    'name': 'Credit Cards',\n",
       "    'summary': 'Credit Cards',\n",
       "    'count': 7,\n",
       "    'items': [{'displayName': 'Credit Cards',\n",
       "      'displayValue': 'Yes (incl. American Express)'}]},\n",
       "   {'type': 'outdoorSeating',\n",
       "    'name': 'Outdoor Seating',\n",
       "    'summary': 'Outdoor Seating',\n",
       "    'count': 1,\n",
       "    'items': [{'displayName': 'Outdoor Seating', 'displayValue': 'Yes'}]},\n",
       "   {'type': 'serves',\n",
       "    'name': 'Menus',\n",
       "    'summary': 'Happy Hour, Brunch & more',\n",
       "    'count': 8,\n",
       "    'items': [{'displayName': 'Brunch', 'displayValue': 'Brunch'},\n",
       "     {'displayName': 'Lunch', 'displayValue': 'Lunch'},\n",
       "     {'displayName': 'Dinner', 'displayValue': 'Dinner'},\n",
       "     {'displayName': 'Happy Hour', 'displayValue': 'Happy Hour'}]},\n",
       "   {'type': 'drinks',\n",
       "    'name': 'Drinks',\n",
       "    'summary': 'Beer, Wine & Cocktails',\n",
       "    'count': 5,\n",
       "    'items': [{'displayName': 'Beer', 'displayValue': 'Beer'},\n",
       "     {'displayName': 'Wine', 'displayValue': 'Wine'},\n",
       "     {'displayName': 'Cocktails', 'displayValue': 'Cocktails'}]},\n",
       "   {'type': 'diningOptions',\n",
       "    'name': 'Dining Options',\n",
       "    'summary': 'Delivery',\n",
       "    'count': 5,\n",
       "    'items': [{'displayName': 'Delivery', 'displayValue': 'Delivery'}]}]},\n",
       " 'bestPhoto': {'id': '4fad980de4b091b4626c3633',\n",
       "  'createdAt': 1336776717,\n",
       "  'source': {'name': 'Foursquare for Android',\n",
       "   'url': 'https://foursquare.com/download/#/android'},\n",
       "  'prefix': 'https://fastly.4sqi.net/img/general/',\n",
       "  'suffix': '/ya1iQFI7pLjuIJp1PGDKlrZS3OJdHCF7tpILMmjv_2w.jpg',\n",
       "  'width': 480,\n",
       "  'height': 640,\n",
       "  'visibility': 'public'},\n",
       " 'colors': {'highlightColor': {'photoId': '4fad980de4b091b4626c3633',\n",
       "   'value': -13619152},\n",
       "  'highlightTextColor': {'photoId': '4fad980de4b091b4626c3633', 'value': -1},\n",
       "  'algoVersion': 3}}"
      ]
     },
     "execution_count": 127,
     "metadata": {},
     "output_type": "execute_result"
    }
   ],
   "source": [
    "result = requests.get(url).json()\n",
    "print(result['response']['venue'].keys())\n",
    "result['response']['venue']"
   ]
  },
  {
   "cell_type": "markdown",
   "metadata": {
    "button": false,
    "deletable": true,
    "new_sheet": false,
    "run_control": {
     "read_only": false
    }
   },
   "source": [
    "### B. Get the venue's overall rating"
   ]
  },
  {
   "cell_type": "code",
   "execution_count": 128,
   "metadata": {
    "button": false,
    "collapsed": false,
    "deletable": true,
    "jupyter": {
     "outputs_hidden": false
    },
    "new_sheet": false,
    "run_control": {
     "read_only": false
    }
   },
   "outputs": [
    {
     "name": "stdout",
     "output_type": "stream",
     "text": [
      "6.4\n"
     ]
    }
   ],
   "source": [
    "try:\n",
    "    print(result['response']['venue']['rating'])\n",
    "except:\n",
    "    print('This venue has not been rated yet.')"
   ]
  },
  {
   "cell_type": "markdown",
   "metadata": {
    "button": false,
    "deletable": true,
    "new_sheet": false,
    "run_control": {
     "read_only": false
    }
   },
   "source": [
    "That is not a very good rating. Let's check the rating of the second closest Italian restaurant."
   ]
  },
  {
   "cell_type": "code",
   "execution_count": null,
   "metadata": {
    "button": false,
    "collapsed": false,
    "deletable": true,
    "jupyter": {
     "outputs_hidden": false
    },
    "new_sheet": false,
    "run_control": {
     "read_only": false
    }
   },
   "outputs": [],
   "source": [
    "venue_id = '4f3232e219836c91c7bfde94' # ID of Conca Cucina Italian Restaurant\n",
    "url = 'https://api.foursquare.com/v2/venues/{}?client_id={}&client_secret={}&v={}'.format(venue_id, CLIENT_ID, CLIENT_SECRET, VERSION)\n",
    "\n",
    "result = requests.get(url).json()\n",
    "try:\n",
    "    print(result['response']['venue']['rating'])\n",
    "except:\n",
    "    print('This venue has not been rated yet.')"
   ]
  },
  {
   "cell_type": "markdown",
   "metadata": {
    "button": false,
    "deletable": true,
    "new_sheet": false,
    "run_control": {
     "read_only": false
    }
   },
   "source": [
    "Since this restaurant has no ratings, let's check the third restaurant."
   ]
  },
  {
   "cell_type": "code",
   "execution_count": null,
   "metadata": {
    "button": false,
    "collapsed": false,
    "deletable": true,
    "jupyter": {
     "outputs_hidden": false
    },
    "new_sheet": false,
    "run_control": {
     "read_only": false
    }
   },
   "outputs": [],
   "source": [
    "venue_id = '3fd66200f964a520f4e41ee3' # ID of Ecco\n",
    "url = 'https://api.foursquare.com/v2/venues/{}?client_id={}&client_secret={}&v={}'.format(venue_id, CLIENT_ID, CLIENT_SECRET, VERSION)\n",
    "\n",
    "result = requests.get(url).json()\n",
    "try:\n",
    "    print(result['response']['venue']['rating'])\n",
    "except:\n",
    "    print('This venue has not been rated yet.')"
   ]
  },
  {
   "cell_type": "markdown",
   "metadata": {
    "button": false,
    "deletable": true,
    "new_sheet": false,
    "run_control": {
     "read_only": false
    }
   },
   "source": [
    "Since this restaurant has a slightly better rating, let's explore it further."
   ]
  },
  {
   "cell_type": "markdown",
   "metadata": {
    "button": false,
    "deletable": true,
    "new_sheet": false,
    "run_control": {
     "read_only": false
    }
   },
   "source": [
    "### C. Get the number of tips"
   ]
  },
  {
   "cell_type": "code",
   "execution_count": 129,
   "metadata": {
    "button": false,
    "collapsed": false,
    "deletable": true,
    "jupyter": {
     "outputs_hidden": false
    },
    "new_sheet": false,
    "run_control": {
     "read_only": false
    }
   },
   "outputs": [
    {
     "data": {
      "text/plain": [
       "57"
      ]
     },
     "execution_count": 129,
     "metadata": {},
     "output_type": "execute_result"
    }
   ],
   "source": [
    "result['response']['venue']['tips']['count']"
   ]
  },
  {
   "cell_type": "markdown",
   "metadata": {
    "button": false,
    "deletable": true,
    "new_sheet": false,
    "run_control": {
     "read_only": false
    }
   },
   "source": [
    "### D. Get the venue's tips\n",
    "> `https://api.foursquare.com/v2/venues/`**VENUE_ID**`/tips?client_id=`**CLIENT_ID**`&client_secret=`**CLIENT_SECRET**`&v=`**VERSION**`&limit=`**LIMIT**"
   ]
  },
  {
   "cell_type": "markdown",
   "metadata": {
    "button": false,
    "deletable": true,
    "new_sheet": false,
    "run_control": {
     "read_only": false
    }
   },
   "source": [
    "#### Create URL and send GET request. Make sure to set limit to get all tips"
   ]
  },
  {
   "cell_type": "code",
   "execution_count": 130,
   "metadata": {
    "button": false,
    "collapsed": false,
    "deletable": true,
    "jupyter": {
     "outputs_hidden": false
    },
    "new_sheet": false,
    "run_control": {
     "read_only": false
    }
   },
   "outputs": [
    {
     "data": {
      "text/plain": [
       "{'meta': {'code': 200, 'requestId': '5eb2d538be61c9001b9b97b7'},\n",
       " 'response': {'tips': {'count': 57,\n",
       "   'items': [{'id': '513b95ade4b0ef9359ef0cda',\n",
       "     'createdAt': 1362859437,\n",
       "     'text': 'Great spot! Has a legit bar with a ton of flat screens and plenty of room for drinking, socializing and pizza eating. The food is great. A must go in Financial District!',\n",
       "     'type': 'user',\n",
       "     'canonicalUrl': 'https://foursquare.com/item/513b95ade4b0ef9359ef0cda',\n",
       "     'lang': 'en',\n",
       "     'likes': {'count': 1,\n",
       "      'groups': [{'type': 'others',\n",
       "        'count': 1,\n",
       "        'items': [{'id': '1802920',\n",
       "          'firstName': 'Kailey',\n",
       "          'lastName': 'M',\n",
       "          'photo': {'prefix': 'https://fastly.4sqi.net/img/user/',\n",
       "           'suffix': '/FSCOBUBEIHNEIGCP.jpg'}}]}],\n",
       "      'summary': '1 like'},\n",
       "     'logView': True,\n",
       "     'agreeCount': 2,\n",
       "     'disagreeCount': 0,\n",
       "     'todo': {'count': 0},\n",
       "     'user': {'id': '6343050',\n",
       "      'firstName': 'Heather',\n",
       "      'lastName': 'C',\n",
       "      'photo': {'prefix': 'https://fastly.4sqi.net/img/user/',\n",
       "       'suffix': '/CMRXTUXQAIZBQQEX.jpg'}}}]}}}"
      ]
     },
     "execution_count": 130,
     "metadata": {},
     "output_type": "execute_result"
    }
   ],
   "source": [
    "## Ecco Tips\n",
    "limit = 15 # set limit to be greater than or equal to the total number of tips\n",
    "url = 'https://api.foursquare.com/v2/venues/{}/tips?client_id={}&client_secret={}&v={}&limit={}'.format(venue_id, CLIENT_ID, CLIENT_SECRET, VERSION, limit)\n",
    "\n",
    "results = requests.get(url).json()\n",
    "results"
   ]
  },
  {
   "cell_type": "markdown",
   "metadata": {
    "button": false,
    "deletable": true,
    "new_sheet": false,
    "run_control": {
     "read_only": false
    }
   },
   "source": [
    "#### Get tips and list of associated features"
   ]
  },
  {
   "cell_type": "code",
   "execution_count": 131,
   "metadata": {
    "button": false,
    "collapsed": false,
    "deletable": true,
    "jupyter": {
     "outputs_hidden": false
    },
    "new_sheet": false,
    "run_control": {
     "read_only": false
    }
   },
   "outputs": [
    {
     "data": {
      "text/plain": [
       "dict_keys(['id', 'createdAt', 'text', 'type', 'canonicalUrl', 'lang', 'likes', 'logView', 'agreeCount', 'disagreeCount', 'todo', 'user'])"
      ]
     },
     "execution_count": 131,
     "metadata": {},
     "output_type": "execute_result"
    }
   ],
   "source": [
    "tips = results['response']['tips']['items']\n",
    "\n",
    "tip = results['response']['tips']['items'][0]\n",
    "tip.keys()"
   ]
  },
  {
   "cell_type": "markdown",
   "metadata": {
    "button": false,
    "deletable": true,
    "new_sheet": false,
    "run_control": {
     "read_only": false
    }
   },
   "source": [
    "#### Format column width and display all tips"
   ]
  },
  {
   "cell_type": "code",
   "execution_count": 132,
   "metadata": {
    "button": false,
    "collapsed": false,
    "deletable": true,
    "jupyter": {
     "outputs_hidden": false
    },
    "new_sheet": false,
    "run_control": {
     "read_only": false
    }
   },
   "outputs": [
    {
     "name": "stderr",
     "output_type": "stream",
     "text": [
      "C:\\Users\\Jota_Moreno\\Anaconda3\\lib\\site-packages\\pandas\\core\\indexing.py:1418: FutureWarning: \n",
      "Passing list-likes to .loc or [] with any missing label will raise\n",
      "KeyError in the future, you can use .reindex() as an alternative.\n",
      "\n",
      "See the documentation here:\n",
      "https://pandas.pydata.org/pandas-docs/stable/user_guide/indexing.html#deprecate-loc-reindex-listlike\n",
      "  return self._getitem_tuple(key)\n"
     ]
    },
    {
     "data": {
      "text/html": [
       "<div>\n",
       "<style scoped>\n",
       "    .dataframe tbody tr th:only-of-type {\n",
       "        vertical-align: middle;\n",
       "    }\n",
       "\n",
       "    .dataframe tbody tr th {\n",
       "        vertical-align: top;\n",
       "    }\n",
       "\n",
       "    .dataframe thead th {\n",
       "        text-align: right;\n",
       "    }\n",
       "</style>\n",
       "<table border=\"1\" class=\"dataframe\">\n",
       "  <thead>\n",
       "    <tr style=\"text-align: right;\">\n",
       "      <th></th>\n",
       "      <th>text</th>\n",
       "      <th>agreeCount</th>\n",
       "      <th>disagreeCount</th>\n",
       "      <th>id</th>\n",
       "      <th>user.firstName</th>\n",
       "      <th>user.lastName</th>\n",
       "      <th>user.gender</th>\n",
       "      <th>user.id</th>\n",
       "    </tr>\n",
       "  </thead>\n",
       "  <tbody>\n",
       "    <tr>\n",
       "      <td>0</td>\n",
       "      <td>Great spot! Has a legit bar with a ton of flat screens and plenty of room for drinking, socializing and pizza eating. The food is great. A must go in Financial District!</td>\n",
       "      <td>2</td>\n",
       "      <td>0</td>\n",
       "      <td>513b95ade4b0ef9359ef0cda</td>\n",
       "      <td>Heather</td>\n",
       "      <td>C</td>\n",
       "      <td>NaN</td>\n",
       "      <td>6343050</td>\n",
       "    </tr>\n",
       "  </tbody>\n",
       "</table>\n",
       "</div>"
      ],
      "text/plain": [
       "                                                                                                                                                                        text  \\\n",
       "0  Great spot! Has a legit bar with a ton of flat screens and plenty of room for drinking, socializing and pizza eating. The food is great. A must go in Financial District!   \n",
       "\n",
       "   agreeCount  disagreeCount                        id user.firstName  \\\n",
       "0  2           0              513b95ade4b0ef9359ef0cda  Heather         \n",
       "\n",
       "  user.lastName  user.gender  user.id  \n",
       "0  C            NaN           6343050  "
      ]
     },
     "execution_count": 132,
     "metadata": {},
     "output_type": "execute_result"
    }
   ],
   "source": [
    "pd.set_option('display.max_colwidth', -1)\n",
    "\n",
    "tips_df = json_normalize(tips) # json normalize tips\n",
    "\n",
    "# columns to keep\n",
    "filtered_columns = ['text', 'agreeCount', 'disagreeCount', 'id', 'user.firstName', 'user.lastName', 'user.gender', 'user.id']\n",
    "tips_filtered = tips_df.loc[:, filtered_columns]\n",
    "\n",
    "# display tips\n",
    "tips_filtered"
   ]
  },
  {
   "cell_type": "markdown",
   "metadata": {
    "button": false,
    "deletable": true,
    "new_sheet": false,
    "run_control": {
     "read_only": false
    }
   },
   "source": [
    "Now remember that because we are using a personal developer account, then we can access only 2 of the restaurant's tips, instead of all 15 tips."
   ]
  },
  {
   "cell_type": "markdown",
   "metadata": {
    "button": false,
    "deletable": true,
    "new_sheet": false,
    "run_control": {
     "read_only": false
    }
   },
   "source": [
    "   "
   ]
  },
  {
   "cell_type": "markdown",
   "metadata": {
    "button": false,
    "deletable": true,
    "new_sheet": false,
    "run_control": {
     "read_only": false
    }
   },
   "source": [
    "<a id=\"item3\"></a>"
   ]
  },
  {
   "cell_type": "markdown",
   "metadata": {
    "button": false,
    "deletable": true,
    "new_sheet": false,
    "run_control": {
     "read_only": false
    }
   },
   "source": [
    "## 3. Search a Foursquare User\n",
    "> `https://api.foursquare.com/v2/users/`**USER_ID**`?client_id=`**CLIENT_ID**`&client_secret=`**CLIENT_SECRET**`&v=`**VERSION**"
   ]
  },
  {
   "cell_type": "markdown",
   "metadata": {
    "button": false,
    "deletable": true,
    "new_sheet": false,
    "run_control": {
     "read_only": false
    }
   },
   "source": [
    "### Define URL, send GET request and display features associated with user"
   ]
  },
  {
   "cell_type": "markdown",
   "metadata": {},
   "source": [
    "##FAQ\n",
    "\n",
    "Many people are having trouble with the 3rd section of the Week 2 Lab where they search for a Foursquare User. The below steps should resolve the issue.\n",
    "\n",
    "Go to your \"App Settings\" page on the developer console of Foursquare.com\n",
    "Set the \"Redirect URL\" under \"Web Addresses\" to https://www.google.com (see Oleksandr Bogach's post in link below if you want an image illustration)\n",
    "Paste and enter the following into your web browser (replace YOUR_CLIENT_ID with your actual client id): https://foursquare.com/oauth2/authenticate?client_id=YOUR_CLIENT_ID&response_type=code&redirect_uri=https://www.google.com\n",
    "This should redirect you to a google page requesting permission to make the connection. Accept and then look at the url of your web browser (take note at the CODE part of the url to use in step 5). It should look like https://www.google.com/?code=CODE\n",
    "Paste and enter the following into your web browser (replace placeholders with actual values): https://foursquare.com/oauth2/access_token?client_id=YOUR_CLIENT_ID&client_secret=YOUR_CLIENT_SECRET&grant_type=authorization_code&redirect_uri=https://www.google.com&code=CODE\n",
    "This should lead you to a page that gives you your access token\n",
    "Replace the code in the first cell of Section 3 of the Jupyter Notebook (\"3. Search a Foursquare User\") with the code below, substituting YOUR_ACCESS_TOKEN_HERE with the access token obtained in steps 5-6:\n",
    "\u0001\u0001\n",
    "Notice that the only changes from the original code are:\n",
    "\n",
    "Defining the ACCESS_TOKEN variable\n",
    "Appending &oauth_token={} to the url\n",
    "Adding the ACCESS_TOKEN variable to the format method being applied on url\n",
    "URL Appendix\n",
    "\n",
    "It seems there can be some formatting error when copying the URLs above (additional blank spaces are added) so here are the URLs for direct copy/pasting.\n",
    "\n",
    "\u0001\u0001\n",
    "References and Acknowledgements\n",
    "\n",
    "Steps 1 to 6 above were derived from this webpage: https://developer.foursquare.com/docs/api/configuration/authentication\n",
    "\n",
    "Thanks to Jahyun Kim and Oleksandr Bogach for their original work in solving this problem on this thread: https://www.coursera.org/learn/applied-data-science-capstone/discussions/weeks/2/threads/Wp65CP2HSBueuQj9hzgb0A\n",
    "\n",
    "Another thread by Jahyun Kim: https://www.coursera.org/learn/applied-data-science-capstone/discussions/weeks/2/threads/X3tNErRnQLy7TRK0ZzC8Mg\n",
    "\n",
    "This current thread is just a summary of their ideas."
   ]
  },
  {
   "cell_type": "code",
   "execution_count": 138,
   "metadata": {},
   "outputs": [
    {
     "data": {
      "text/plain": [
       "dict_keys(['id', 'firstName', 'lastName', 'gender', 'canonicalUrl', 'photo', 'friends', 'tips', 'homeCity', 'bio', 'contact', 'photos', 'checkinPings', 'pings', 'type', 'mayorships', 'checkins', 'lists', 'blockedStatus', 'lenses'])"
      ]
     },
     "execution_count": 138,
     "metadata": {},
     "output_type": "execute_result"
    }
   ],
   "source": [
    "user_id = '484542633' # user ID with most agree counts and complete profile\n",
    "ACCESS_TOKEN = access_token\n",
    "\n",
    "url = 'https://api.foursquare.com/v2/users/{}?client_id={}&client_secret={}&oauth_token={}&v={}'.format(user_id, CLIENT_ID, CLIENT_SECRET, ACCESS_TOKEN, VERSION) # define URL\n",
    "\n",
    "# send GET request\n",
    "results = requests.get(url).json()\n",
    "user_data = results['response']['user']\n",
    "\n",
    "# display features associated with user\n",
    "user_data.keys()"
   ]
  },
  {
   "cell_type": "code",
   "execution_count": 141,
   "metadata": {
    "button": false,
    "collapsed": false,
    "deletable": true,
    "jupyter": {
     "outputs_hidden": false
    },
    "new_sheet": false,
    "run_control": {
     "read_only": false
    }
   },
   "outputs": [
    {
     "name": "stdout",
     "output_type": "stream",
     "text": [
      "First Name: Nick\n",
      "Last Name: El-Tawil\n",
      "Home City: New York, NY\n"
     ]
    }
   ],
   "source": [
    "print('First Name: ' + user_data['firstName'])\n",
    "print('Last Name: ' + user_data['lastName'])\n",
    "print('Home City: ' + user_data['homeCity'])"
   ]
  },
  {
   "cell_type": "markdown",
   "metadata": {
    "button": false,
    "deletable": true,
    "new_sheet": false,
    "run_control": {
     "read_only": false
    }
   },
   "source": [
    "#### How many tips has this user submitted?"
   ]
  },
  {
   "cell_type": "code",
   "execution_count": 142,
   "metadata": {
    "button": false,
    "collapsed": false,
    "deletable": true,
    "jupyter": {
     "outputs_hidden": false
    },
    "new_sheet": false,
    "run_control": {
     "read_only": false
    }
   },
   "outputs": [
    {
     "data": {
      "text/plain": [
       "{'count': 98}"
      ]
     },
     "execution_count": 142,
     "metadata": {},
     "output_type": "execute_result"
    }
   ],
   "source": [
    "user_data['tips']"
   ]
  },
  {
   "cell_type": "markdown",
   "metadata": {
    "button": false,
    "deletable": true,
    "new_sheet": false,
    "run_control": {
     "read_only": false
    }
   },
   "source": [
    "Wow! So it turns out that Nick is a very active Foursquare user, with more than 250 tips."
   ]
  },
  {
   "cell_type": "markdown",
   "metadata": {
    "button": false,
    "deletable": true,
    "new_sheet": false,
    "run_control": {
     "read_only": false
    }
   },
   "source": [
    "### Get User's tips"
   ]
  },
  {
   "cell_type": "code",
   "execution_count": 143,
   "metadata": {
    "button": false,
    "collapsed": false,
    "deletable": true,
    "jupyter": {
     "outputs_hidden": false
    },
    "new_sheet": false,
    "run_control": {
     "read_only": false
    }
   },
   "outputs": [
    {
     "data": {
      "text/html": [
       "<div>\n",
       "<style scoped>\n",
       "    .dataframe tbody tr th:only-of-type {\n",
       "        vertical-align: middle;\n",
       "    }\n",
       "\n",
       "    .dataframe tbody tr th {\n",
       "        vertical-align: top;\n",
       "    }\n",
       "\n",
       "    .dataframe thead th {\n",
       "        text-align: right;\n",
       "    }\n",
       "</style>\n",
       "<table border=\"1\" class=\"dataframe\">\n",
       "  <thead>\n",
       "    <tr style=\"text-align: right;\">\n",
       "      <th></th>\n",
       "      <th>text</th>\n",
       "      <th>agreeCount</th>\n",
       "      <th>disagreeCount</th>\n",
       "      <th>id</th>\n",
       "    </tr>\n",
       "  </thead>\n",
       "  <tbody>\n",
       "    <tr>\n",
       "      <td>0</td>\n",
       "      <td>They serve coffee!!!!!!</td>\n",
       "      <td>1</td>\n",
       "      <td>0</td>\n",
       "      <td>5accc98c0313204c9d7ec157</td>\n",
       "    </tr>\n",
       "    <tr>\n",
       "      <td>1</td>\n",
       "      <td>Quick, cheap lunch that tastes good! Way shorter line than Chipotle, too.</td>\n",
       "      <td>2</td>\n",
       "      <td>0</td>\n",
       "      <td>5acbec70a0215b732e264fe8</td>\n",
       "    </tr>\n",
       "    <tr>\n",
       "      <td>2</td>\n",
       "      <td>You’re not a real New Yorker until you’ve shame-ordered Insomnia Cookies for delivery at 3am</td>\n",
       "      <td>1</td>\n",
       "      <td>0</td>\n",
       "      <td>5acbbd4eb1538e45373b07f5</td>\n",
       "    </tr>\n",
       "    <tr>\n",
       "      <td>3</td>\n",
       "      <td>Good for you yet still tasty! Clean green protein is my go-to after I hit the gym 💪</td>\n",
       "      <td>2</td>\n",
       "      <td>0</td>\n",
       "      <td>5acbbcda01235808d5d6dc75</td>\n",
       "    </tr>\n",
       "    <tr>\n",
       "      <td>4</td>\n",
       "      <td>Burger game strong 💪</td>\n",
       "      <td>1</td>\n",
       "      <td>0</td>\n",
       "      <td>5ab575fb6bdee65f759da8c1</td>\n",
       "    </tr>\n",
       "    <tr>\n",
       "      <td>5</td>\n",
       "      <td>Great burgers &amp; fries! Also, this place is exactly what it’s like when you go to a bar in the Southwest. Source: I’m from Arizona.</td>\n",
       "      <td>2</td>\n",
       "      <td>0</td>\n",
       "      <td>5ab5575d73fe2516ad8f363b</td>\n",
       "    </tr>\n",
       "    <tr>\n",
       "      <td>6</td>\n",
       "      <td>Açaí bowl + peanut butter + whey protein = 💪💪💪</td>\n",
       "      <td>1</td>\n",
       "      <td>0</td>\n",
       "      <td>5ab42db53c858d64af2688a4</td>\n",
       "    </tr>\n",
       "    <tr>\n",
       "      <td>7</td>\n",
       "      <td>Highly underrated and way less crowded than Central Park!</td>\n",
       "      <td>3</td>\n",
       "      <td>0</td>\n",
       "      <td>5ab42c396f706a29f53ad1a8</td>\n",
       "    </tr>\n",
       "    <tr>\n",
       "      <td>8</td>\n",
       "      <td>Way easier to navigate than the Met proper, plus the Met Breuer focuses on modern art. If I only have a limited amount of time to spend in a museum, I would rather go here than anywhere else!</td>\n",
       "      <td>6</td>\n",
       "      <td>0</td>\n",
       "      <td>5ab42b987dc9e17930e5ff5b</td>\n",
       "    </tr>\n",
       "    <tr>\n",
       "      <td>9</td>\n",
       "      <td>Get the açaí bowl with peanut butter after your work out and thank me later 👌</td>\n",
       "      <td>1</td>\n",
       "      <td>0</td>\n",
       "      <td>5ab42aca2a7ab6333652b266</td>\n",
       "    </tr>\n",
       "    <tr>\n",
       "      <td>10</td>\n",
       "      <td>When you want a burger, this should be the first thing that comes to mind. A+!</td>\n",
       "      <td>1</td>\n",
       "      <td>0</td>\n",
       "      <td>5ab42a28da5e5617d18e3a6a</td>\n",
       "    </tr>\n",
       "    <tr>\n",
       "      <td>11</td>\n",
       "      <td>Way less crowded than Central Park! People who live in the neighborhood rave about Carl Schurz Park.</td>\n",
       "      <td>3</td>\n",
       "      <td>0</td>\n",
       "      <td>5ab429db1ffe971b060083f5</td>\n",
       "    </tr>\n",
       "    <tr>\n",
       "      <td>12</td>\n",
       "      <td>The best Mexican food in the Murray Hill / Kips Bay area!</td>\n",
       "      <td>1</td>\n",
       "      <td>0</td>\n",
       "      <td>5ab3f53f8496ca57542d5549</td>\n",
       "    </tr>\n",
       "    <tr>\n",
       "      <td>13</td>\n",
       "      <td>Best coffee shop in the neighborhood!</td>\n",
       "      <td>1</td>\n",
       "      <td>0</td>\n",
       "      <td>5ab3f428da5e5617d17d1475</td>\n",
       "    </tr>\n",
       "    <tr>\n",
       "      <td>14</td>\n",
       "      <td>When there’s nice weather, the rooftop at Tonic East is the best place to watch the game. Perfect for March Madness &amp; NBA finals!</td>\n",
       "      <td>2</td>\n",
       "      <td>0</td>\n",
       "      <td>5ab3f3fedd70c572de886c9d</td>\n",
       "    </tr>\n",
       "  </tbody>\n",
       "</table>\n",
       "</div>"
      ],
      "text/plain": [
       "                                                                                                                                                                                               text  \\\n",
       "0   They serve coffee!!!!!!                                                                                                                                                                           \n",
       "1   Quick, cheap lunch that tastes good! Way shorter line than Chipotle, too.                                                                                                                         \n",
       "2   You’re not a real New Yorker until you’ve shame-ordered Insomnia Cookies for delivery at 3am                                                                                                      \n",
       "3   Good for you yet still tasty! Clean green protein is my go-to after I hit the gym 💪                                                                                                               \n",
       "4   Burger game strong 💪                                                                                                                                                                              \n",
       "5   Great burgers & fries! Also, this place is exactly what it’s like when you go to a bar in the Southwest. Source: I’m from Arizona.                                                                \n",
       "6   Açaí bowl + peanut butter + whey protein = 💪💪💪                                                                                                                                                    \n",
       "7   Highly underrated and way less crowded than Central Park!                                                                                                                                         \n",
       "8   Way easier to navigate than the Met proper, plus the Met Breuer focuses on modern art. If I only have a limited amount of time to spend in a museum, I would rather go here than anywhere else!   \n",
       "9   Get the açaí bowl with peanut butter after your work out and thank me later 👌                                                                                                                     \n",
       "10  When you want a burger, this should be the first thing that comes to mind. A+!                                                                                                                    \n",
       "11  Way less crowded than Central Park! People who live in the neighborhood rave about Carl Schurz Park.                                                                                              \n",
       "12  The best Mexican food in the Murray Hill / Kips Bay area!                                                                                                                                         \n",
       "13  Best coffee shop in the neighborhood!                                                                                                                                                             \n",
       "14  When there’s nice weather, the rooftop at Tonic East is the best place to watch the game. Perfect for March Madness & NBA finals!                                                                 \n",
       "\n",
       "    agreeCount  disagreeCount                        id  \n",
       "0   1           0              5accc98c0313204c9d7ec157  \n",
       "1   2           0              5acbec70a0215b732e264fe8  \n",
       "2   1           0              5acbbd4eb1538e45373b07f5  \n",
       "3   2           0              5acbbcda01235808d5d6dc75  \n",
       "4   1           0              5ab575fb6bdee65f759da8c1  \n",
       "5   2           0              5ab5575d73fe2516ad8f363b  \n",
       "6   1           0              5ab42db53c858d64af2688a4  \n",
       "7   3           0              5ab42c396f706a29f53ad1a8  \n",
       "8   6           0              5ab42b987dc9e17930e5ff5b  \n",
       "9   1           0              5ab42aca2a7ab6333652b266  \n",
       "10  1           0              5ab42a28da5e5617d18e3a6a  \n",
       "11  3           0              5ab429db1ffe971b060083f5  \n",
       "12  1           0              5ab3f53f8496ca57542d5549  \n",
       "13  1           0              5ab3f428da5e5617d17d1475  \n",
       "14  2           0              5ab3f3fedd70c572de886c9d  "
      ]
     },
     "execution_count": 143,
     "metadata": {},
     "output_type": "execute_result"
    }
   ],
   "source": [
    "# define tips URL\n",
    "url = 'https://api.foursquare.com/v2/users/{}/tips?client_id={}&client_secret={}&v={}&limit={}'.format(user_id, CLIENT_ID, CLIENT_SECRET, VERSION, limit)\n",
    "\n",
    "# send GET request and get user's tips\n",
    "results = requests.get(url).json()\n",
    "tips = results['response']['tips']['items']\n",
    "\n",
    "# format column width\n",
    "pd.set_option('display.max_colwidth', -1)\n",
    "\n",
    "tips_df = json_normalize(tips)\n",
    "\n",
    "# filter columns\n",
    "filtered_columns = ['text', 'agreeCount', 'disagreeCount', 'id']\n",
    "tips_filtered = tips_df.loc[:, filtered_columns]\n",
    "\n",
    "# display user's tips\n",
    "tips_filtered"
   ]
  },
  {
   "cell_type": "markdown",
   "metadata": {
    "button": false,
    "deletable": true,
    "new_sheet": false,
    "run_control": {
     "read_only": false
    }
   },
   "source": [
    "#### Let's get the venue for the tip with the greatest number of agree counts"
   ]
  },
  {
   "cell_type": "code",
   "execution_count": 144,
   "metadata": {
    "button": false,
    "collapsed": false,
    "deletable": true,
    "jupyter": {
     "outputs_hidden": false
    },
    "new_sheet": false,
    "run_control": {
     "read_only": false
    }
   },
   "outputs": [
    {
     "name": "stdout",
     "output_type": "stream",
     "text": [
      "Cowgirl\n",
      "{'address': '519 Hudson St', 'crossStreet': 'at W 10th St', 'lat': 40.73373338282062, 'lng': -74.0062998849649, 'labeledLatLngs': [{'label': 'display', 'lat': 40.73373338282062, 'lng': -74.0062998849649}], 'postalCode': '10014', 'cc': 'US', 'city': 'New York', 'state': 'NY', 'country': 'United States', 'formattedAddress': ['519 Hudson St (at W 10th St)', 'New York, NY 10014', 'United States']}\n"
     ]
    }
   ],
   "source": [
    "tip_id = '5ab5575d73fe2516ad8f363b' # tip id\n",
    "\n",
    "# define URL\n",
    "url = 'http://api.foursquare.com/v2/tips/{}?client_id={}&client_secret={}&v={}'.format(tip_id, CLIENT_ID, CLIENT_SECRET, VERSION)\n",
    "\n",
    "# send GET Request and examine results\n",
    "result = requests.get(url).json()\n",
    "print(result['response']['tip']['venue']['name'])\n",
    "print(result['response']['tip']['venue']['location'])"
   ]
  },
  {
   "cell_type": "markdown",
   "metadata": {
    "button": false,
    "deletable": true,
    "new_sheet": false,
    "run_control": {
     "read_only": false
    }
   },
   "source": [
    "### Get User's friends"
   ]
  },
  {
   "cell_type": "code",
   "execution_count": 145,
   "metadata": {
    "button": false,
    "collapsed": false,
    "deletable": true,
    "jupyter": {
     "outputs_hidden": false
    },
    "new_sheet": false,
    "run_control": {
     "read_only": false
    }
   },
   "outputs": [
    {
     "data": {
      "text/html": [
       "<div>\n",
       "<style scoped>\n",
       "    .dataframe tbody tr th:only-of-type {\n",
       "        vertical-align: middle;\n",
       "    }\n",
       "\n",
       "    .dataframe tbody tr th {\n",
       "        vertical-align: top;\n",
       "    }\n",
       "\n",
       "    .dataframe thead th {\n",
       "        text-align: right;\n",
       "    }\n",
       "</style>\n",
       "<table border=\"1\" class=\"dataframe\">\n",
       "  <thead>\n",
       "    <tr style=\"text-align: right;\">\n",
       "      <th></th>\n",
       "    </tr>\n",
       "  </thead>\n",
       "  <tbody>\n",
       "  </tbody>\n",
       "</table>\n",
       "</div>"
      ],
      "text/plain": [
       "Empty DataFrame\n",
       "Columns: []\n",
       "Index: []"
      ]
     },
     "execution_count": 145,
     "metadata": {},
     "output_type": "execute_result"
    }
   ],
   "source": [
    "user_friends = json_normalize(user_data['friends']['groups'][0]['items'])\n",
    "user_friends"
   ]
  },
  {
   "cell_type": "markdown",
   "metadata": {
    "button": false,
    "deletable": true,
    "new_sheet": false,
    "run_control": {
     "read_only": false
    }
   },
   "source": [
    "Interesting. Despite being very active, it turns out that Nick does not have any friends on Foursquare. This might definitely change in the future."
   ]
  },
  {
   "cell_type": "markdown",
   "metadata": {
    "button": false,
    "deletable": true,
    "new_sheet": false,
    "run_control": {
     "read_only": false
    }
   },
   "source": [
    "### Retrieve the User's Profile Image"
   ]
  },
  {
   "cell_type": "code",
   "execution_count": 146,
   "metadata": {
    "button": false,
    "collapsed": false,
    "deletable": true,
    "jupyter": {
     "outputs_hidden": false
    },
    "new_sheet": false,
    "run_control": {
     "read_only": false
    },
    "scrolled": true
   },
   "outputs": [
    {
     "data": {
      "text/plain": [
       "{'id': '484542633',\n",
       " 'firstName': 'Nick',\n",
       " 'lastName': 'El-Tawil',\n",
       " 'gender': 'male',\n",
       " 'canonicalUrl': 'https://foursquare.com/user/484542633',\n",
       " 'photo': {'prefix': 'https://fastly.4sqi.net/img/user/',\n",
       "  'suffix': '/484542633_unymNUmw_FdPs3GjXHujmHcYnN4hf8kEPADlOZuIrdcdm97VX3tFqL7fFNMNA_8Gl9NlU1GYg.jpg'},\n",
       " 'friends': {'count': 0,\n",
       "  'groups': [{'type': 'friends',\n",
       "    'name': 'Mutual friends',\n",
       "    'count': 0,\n",
       "    'items': []},\n",
       "   {'type': 'others', 'name': 'Other friends', 'count': 0, 'items': []}]},\n",
       " 'tips': {'count': 98},\n",
       " 'homeCity': 'New York, NY',\n",
       " 'bio': 'https://www.tawil.team/nick-el-tawil/',\n",
       " 'contact': {'twitter': 'nickeltawil'},\n",
       " 'photos': {'count': 2,\n",
       "  'items': [{'id': '5e41a7ce346b7c00085b0f70',\n",
       "    'createdAt': 1581361102,\n",
       "    'source': {'name': 'Foursquare for iOS',\n",
       "     'url': 'https://foursquare.com/download/#/iphone'},\n",
       "    'prefix': 'https://fastly.4sqi.net/img/general/',\n",
       "    'suffix': '/484542633_cF12vc8JQJTd-hyznst-CsHHTdSoi4XwCGKhTuQXNfo.jpg',\n",
       "    'width': 1440,\n",
       "    'height': 1440,\n",
       "    'visibility': 'public',\n",
       "    'venue': {'id': '5ab194451ffed736e329b365',\n",
       "     'name': 'Tawil & Team',\n",
       "     'location': {'address': '413 W 14th St # 200',\n",
       "      'crossStreet': '9th Avenue',\n",
       "      'lat': 40.739614,\n",
       "      'lng': -74.005877,\n",
       "      'labeledLatLngs': [{'label': 'display',\n",
       "        'lat': 40.739614,\n",
       "        'lng': -74.005877}],\n",
       "      'postalCode': '10014',\n",
       "      'cc': 'US',\n",
       "      'city': 'New York',\n",
       "      'state': 'NY',\n",
       "      'country': 'United States',\n",
       "      'formattedAddress': ['413 W 14th St # 200 (9th Avenue)',\n",
       "       'New York, NY 10014',\n",
       "       'United States']},\n",
       "     'categories': [{'id': '5032885091d4c4b30a586d66',\n",
       "       'name': 'Real Estate Office',\n",
       "       'pluralName': 'Real Estate Offices',\n",
       "       'shortName': 'Real Estate',\n",
       "       'icon': {'prefix': 'https://ss3.4sqi.net/img/categories_v2/shops/realestate_',\n",
       "        'suffix': '.png'},\n",
       "       'primary': True}],\n",
       "     'like': False}}]},\n",
       " 'checkinPings': 'off',\n",
       " 'pings': False,\n",
       " 'type': 'user',\n",
       " 'mayorships': {'count': 0, 'items': []},\n",
       " 'checkins': {'count': 1, 'items': []},\n",
       " 'lists': {'count': 2,\n",
       "  'groups': [{'type': 'created', 'count': 0, 'items': []},\n",
       "   {'type': 'followed', 'count': 0, 'items': []},\n",
       "   {'type': 'yours',\n",
       "    'count': 2,\n",
       "    'items': [{'id': '484542633/todos',\n",
       "      'name': \"Nick's Saved Places\",\n",
       "      'description': '',\n",
       "      'type': 'todos',\n",
       "      'editable': False,\n",
       "      'public': True,\n",
       "      'collaborative': False,\n",
       "      'url': '/nickeltawil/list/todos',\n",
       "      'canonicalUrl': 'https://foursquare.com/nickeltawil/list/todos',\n",
       "      'listItems': {'count': 1}},\n",
       "     {'id': '484542633/venuelikes',\n",
       "      'name': 'Nick’s Liked Places',\n",
       "      'description': '',\n",
       "      'type': 'likes',\n",
       "      'editable': False,\n",
       "      'public': True,\n",
       "      'collaborative': False,\n",
       "      'url': '/nickeltawil/list/venuelikes',\n",
       "      'canonicalUrl': 'https://foursquare.com/nickeltawil/list/venuelikes',\n",
       "      'listItems': {'count': 0}}]}]},\n",
       " 'blockedStatus': 'none',\n",
       " 'lenses': []}"
      ]
     },
     "execution_count": 146,
     "metadata": {},
     "output_type": "execute_result"
    }
   ],
   "source": [
    "user_data"
   ]
  },
  {
   "cell_type": "code",
   "execution_count": 157,
   "metadata": {},
   "outputs": [
    {
     "data": {
      "text/html": [
       "<img src=\"https://fastly.4sqi.net/img/user/300x300/484542633_unymNUmw_FdPs3GjXHujmHcYnN4hf8kEPADlOZuIrdcdm97VX3tFqL7fFNMNA_8Gl9NlU1GYg.jpg\"/>"
      ],
      "text/plain": [
       "<IPython.core.display.Image object>"
      ]
     },
     "execution_count": 157,
     "metadata": {},
     "output_type": "execute_result"
    }
   ],
   "source": [
    "# 1. grab prefix of photo\n",
    "# 2. grab suffix of photo\n",
    "# 3. concatenate them using the image size \n",
    "\n",
    "foto = user_data[\"photo\"][\"prefix\"]+\"300x300\"+user_data[\"photo\"][\"suffix\"]\n",
    "Image(url=foto)"
   ]
  },
  {
   "cell_type": "markdown",
   "metadata": {
    "button": false,
    "deletable": true,
    "new_sheet": false,
    "run_control": {
     "read_only": false
    }
   },
   "source": [
    "  "
   ]
  },
  {
   "cell_type": "markdown",
   "metadata": {
    "button": false,
    "deletable": true,
    "new_sheet": false,
    "run_control": {
     "read_only": false
    }
   },
   "source": [
    "<a id=\"item4\"></a>"
   ]
  },
  {
   "cell_type": "markdown",
   "metadata": {
    "button": false,
    "deletable": true,
    "new_sheet": false,
    "run_control": {
     "read_only": false
    }
   },
   "source": [
    "## 4. Explore a location\n",
    "> `https://api.foursquare.com/v2/venues/`**explore**`?client_id=`**CLIENT_ID**`&client_secret=`**CLIENT_SECRET**`&ll=`**LATITUDE**`,`**LONGITUDE**`&v=`**VERSION**`&limit=`**LIMIT**"
   ]
  },
  {
   "cell_type": "markdown",
   "metadata": {
    "button": false,
    "deletable": true,
    "new_sheet": false,
    "run_control": {
     "read_only": false
    }
   },
   "source": [
    "#### So, you just finished your gourmet dish at Ecco, and are just curious about the popular spots around the restaurant. In order to explore the area, let's start by getting the latitude and longitude values of Ecco Restaurant."
   ]
  },
  {
   "cell_type": "code",
   "execution_count": 158,
   "metadata": {
    "button": false,
    "deletable": true,
    "new_sheet": false,
    "run_control": {
     "read_only": false
    }
   },
   "outputs": [],
   "source": [
    "latitude = 40.715337\n",
    "longitude = -74.008848"
   ]
  },
  {
   "cell_type": "markdown",
   "metadata": {
    "button": false,
    "deletable": true,
    "new_sheet": false,
    "run_control": {
     "read_only": false
    }
   },
   "source": [
    "#### Define URL"
   ]
  },
  {
   "cell_type": "code",
   "execution_count": 159,
   "metadata": {
    "button": false,
    "collapsed": false,
    "deletable": true,
    "jupyter": {
     "outputs_hidden": false
    },
    "new_sheet": false,
    "run_control": {
     "read_only": false
    }
   },
   "outputs": [
    {
     "data": {
      "text/plain": [
       "'https://api.foursquare.com/v2/venues/explore?client_id=CCGWO22YNNJUOMYZS1AADPMWPS2J2UUB5OYAQGFJGNHWZO4K&client_secret=W4XNKMFSPF2Q2SWQJXFQN1ZTH0VBR1EIKO3ERYDNGUX55TKU&ll=40.715337,-74.008848&v=20180604&radius=1500&limit=30'"
      ]
     },
     "execution_count": 159,
     "metadata": {},
     "output_type": "execute_result"
    }
   ],
   "source": [
    "url = 'https://api.foursquare.com/v2/venues/explore?client_id={}&client_secret={}&ll={},{}&v={}&radius={}&limit={}'.format(CLIENT_ID, CLIENT_SECRET, latitude, longitude, VERSION, radius, LIMIT)\n",
    "url"
   ]
  },
  {
   "cell_type": "markdown",
   "metadata": {
    "button": false,
    "deletable": true,
    "new_sheet": false,
    "run_control": {
     "read_only": false
    }
   },
   "source": [
    "#### Send GET request and examine results"
   ]
  },
  {
   "cell_type": "code",
   "execution_count": 160,
   "metadata": {
    "button": false,
    "deletable": true,
    "new_sheet": false,
    "run_control": {
     "read_only": false
    }
   },
   "outputs": [],
   "source": [
    "import requests"
   ]
  },
  {
   "cell_type": "code",
   "execution_count": 161,
   "metadata": {
    "button": false,
    "collapsed": false,
    "deletable": true,
    "jupyter": {
     "outputs_hidden": false
    },
    "new_sheet": false,
    "run_control": {
     "read_only": false
    }
   },
   "outputs": [
    {
     "data": {
      "text/plain": [
       "'There are 30 around Ecco restaurant.'"
      ]
     },
     "execution_count": 161,
     "metadata": {},
     "output_type": "execute_result"
    }
   ],
   "source": [
    "results = requests.get(url).json()\n",
    "'There are {} around Ecco restaurant.'.format(len(results['response']['groups'][0]['items']))"
   ]
  },
  {
   "cell_type": "markdown",
   "metadata": {
    "button": false,
    "deletable": true,
    "new_sheet": false,
    "run_control": {
     "read_only": false
    }
   },
   "source": [
    "#### Get relevant part of JSON"
   ]
  },
  {
   "cell_type": "code",
   "execution_count": 162,
   "metadata": {
    "button": false,
    "collapsed": false,
    "deletable": true,
    "jupyter": {
     "outputs_hidden": false
    },
    "new_sheet": false,
    "run_control": {
     "read_only": false
    }
   },
   "outputs": [
    {
     "data": {
      "text/plain": [
       "{'reasons': {'count': 0,\n",
       "  'items': [{'summary': 'This spot is popular',\n",
       "    'type': 'general',\n",
       "    'reasonName': 'globalInteractionReason'}]},\n",
       " 'venue': {'id': '54148bc6498ea7bb8c05b70a',\n",
       "  'name': 'Juice Press',\n",
       "  'location': {'address': '83 Murray St',\n",
       "   'crossStreet': 'btwn Greenwich St & W Broadway',\n",
       "   'lat': 40.71478769908051,\n",
       "   'lng': -74.0111317502157,\n",
       "   'labeledLatLngs': [{'label': 'display',\n",
       "     'lat': 40.71478769908051,\n",
       "     'lng': -74.0111317502157}],\n",
       "   'distance': 202,\n",
       "   'postalCode': '10007',\n",
       "   'cc': 'US',\n",
       "   'city': 'New York',\n",
       "   'state': 'NY',\n",
       "   'country': 'United States',\n",
       "   'formattedAddress': ['83 Murray St (btwn Greenwich St & W Broadway)',\n",
       "    'New York, NY 10007',\n",
       "    'United States']},\n",
       "  'categories': [{'id': '4bf58dd8d48988d1d3941735',\n",
       "    'name': 'Vegetarian / Vegan Restaurant',\n",
       "    'pluralName': 'Vegetarian / Vegan Restaurants',\n",
       "    'shortName': 'Vegetarian / Vegan',\n",
       "    'icon': {'prefix': 'https://ss3.4sqi.net/img/categories_v2/food/vegetarian_',\n",
       "     'suffix': '.png'},\n",
       "    'primary': True}],\n",
       "  'photos': {'count': 0, 'groups': []}},\n",
       " 'referralId': 'e-0-54148bc6498ea7bb8c05b70a-0'}"
      ]
     },
     "execution_count": 162,
     "metadata": {},
     "output_type": "execute_result"
    }
   ],
   "source": [
    "items = results['response']['groups'][0]['items']\n",
    "items[0]"
   ]
  },
  {
   "cell_type": "markdown",
   "metadata": {
    "button": false,
    "deletable": true,
    "new_sheet": false,
    "run_control": {
     "read_only": false
    }
   },
   "source": [
    "#### Process JSON and convert it to a clean dataframe"
   ]
  },
  {
   "cell_type": "code",
   "execution_count": 163,
   "metadata": {
    "button": false,
    "collapsed": false,
    "deletable": true,
    "jupyter": {
     "outputs_hidden": false
    },
    "new_sheet": false,
    "run_control": {
     "read_only": false
    }
   },
   "outputs": [
    {
     "data": {
      "text/html": [
       "<div>\n",
       "<style scoped>\n",
       "    .dataframe tbody tr th:only-of-type {\n",
       "        vertical-align: middle;\n",
       "    }\n",
       "\n",
       "    .dataframe tbody tr th {\n",
       "        vertical-align: top;\n",
       "    }\n",
       "\n",
       "    .dataframe thead th {\n",
       "        text-align: right;\n",
       "    }\n",
       "</style>\n",
       "<table border=\"1\" class=\"dataframe\">\n",
       "  <thead>\n",
       "    <tr style=\"text-align: right;\">\n",
       "      <th></th>\n",
       "      <th>name</th>\n",
       "      <th>categories</th>\n",
       "      <th>address</th>\n",
       "      <th>crossStreet</th>\n",
       "      <th>lat</th>\n",
       "      <th>lng</th>\n",
       "      <th>labeledLatLngs</th>\n",
       "      <th>distance</th>\n",
       "      <th>postalCode</th>\n",
       "      <th>cc</th>\n",
       "      <th>city</th>\n",
       "      <th>state</th>\n",
       "      <th>country</th>\n",
       "      <th>formattedAddress</th>\n",
       "      <th>neighborhood</th>\n",
       "      <th>id</th>\n",
       "    </tr>\n",
       "  </thead>\n",
       "  <tbody>\n",
       "    <tr>\n",
       "      <td>0</td>\n",
       "      <td>Juice Press</td>\n",
       "      <td>Vegetarian / Vegan Restaurant</td>\n",
       "      <td>83 Murray St</td>\n",
       "      <td>btwn Greenwich St &amp; W Broadway</td>\n",
       "      <td>40.714788</td>\n",
       "      <td>-74.011132</td>\n",
       "      <td>[{'label': 'display', 'lat': 40.71478769908051, 'lng': -74.0111317502157}]</td>\n",
       "      <td>202</td>\n",
       "      <td>10007</td>\n",
       "      <td>US</td>\n",
       "      <td>New York</td>\n",
       "      <td>NY</td>\n",
       "      <td>United States</td>\n",
       "      <td>[83 Murray St (btwn Greenwich St &amp; W Broadway), New York, NY 10007, United States]</td>\n",
       "      <td>NaN</td>\n",
       "      <td>54148bc6498ea7bb8c05b70a</td>\n",
       "    </tr>\n",
       "    <tr>\n",
       "      <td>1</td>\n",
       "      <td>Korin</td>\n",
       "      <td>Furniture / Home Store</td>\n",
       "      <td>57 Warren St</td>\n",
       "      <td>Church St</td>\n",
       "      <td>40.714824</td>\n",
       "      <td>-74.009404</td>\n",
       "      <td>[{'label': 'display', 'lat': 40.71482437714839, 'lng': -74.00940425461492}, {'label': 'entrance', 'lat': 40.714727, 'lng': -74.009399}]</td>\n",
       "      <td>73</td>\n",
       "      <td>10007</td>\n",
       "      <td>US</td>\n",
       "      <td>New York</td>\n",
       "      <td>NY</td>\n",
       "      <td>United States</td>\n",
       "      <td>[57 Warren St (Church St), New York, NY 10007, United States]</td>\n",
       "      <td>Tribeca</td>\n",
       "      <td>4af5d65ff964a52091fd21e3</td>\n",
       "    </tr>\n",
       "    <tr>\n",
       "      <td>2</td>\n",
       "      <td>Los Tacos No. 1</td>\n",
       "      <td>Taco Place</td>\n",
       "      <td>136 Church St</td>\n",
       "      <td>NaN</td>\n",
       "      <td>40.714267</td>\n",
       "      <td>-74.008756</td>\n",
       "      <td>[{'label': 'display', 'lat': 40.714267, 'lng': -74.008756}]</td>\n",
       "      <td>119</td>\n",
       "      <td>10007</td>\n",
       "      <td>US</td>\n",
       "      <td>New York</td>\n",
       "      <td>NY</td>\n",
       "      <td>United States</td>\n",
       "      <td>[136 Church St, New York, NY 10007, United States]</td>\n",
       "      <td>NaN</td>\n",
       "      <td>5d5f24ec09484500079aee00</td>\n",
       "    </tr>\n",
       "    <tr>\n",
       "      <td>3</td>\n",
       "      <td>Takahachi Bakery</td>\n",
       "      <td>Bakery</td>\n",
       "      <td>25 Murray St</td>\n",
       "      <td>at Church St</td>\n",
       "      <td>40.713653</td>\n",
       "      <td>-74.008804</td>\n",
       "      <td>[{'label': 'display', 'lat': 40.713652845301894, 'lng': -74.0088038953017}, {'label': 'entrance', 'lat': 40.713716, 'lng': -74.008443}]</td>\n",
       "      <td>187</td>\n",
       "      <td>10007</td>\n",
       "      <td>US</td>\n",
       "      <td>New York</td>\n",
       "      <td>NY</td>\n",
       "      <td>United States</td>\n",
       "      <td>[25 Murray St (at Church St), New York, NY 10007, United States]</td>\n",
       "      <td>NaN</td>\n",
       "      <td>4c154c9a77cea593c401d260</td>\n",
       "    </tr>\n",
       "    <tr>\n",
       "      <td>4</td>\n",
       "      <td>Whole Foods Market</td>\n",
       "      <td>Grocery Store</td>\n",
       "      <td>270 Greenwich Street</td>\n",
       "      <td>at Warren St</td>\n",
       "      <td>40.715579</td>\n",
       "      <td>-74.011368</td>\n",
       "      <td>[{'label': 'display', 'lat': 40.715579155420606, 'lng': -74.01136823958119}]</td>\n",
       "      <td>214</td>\n",
       "      <td>10007</td>\n",
       "      <td>US</td>\n",
       "      <td>New York</td>\n",
       "      <td>NY</td>\n",
       "      <td>United States</td>\n",
       "      <td>[270 Greenwich Street (at Warren St), New York, NY 10007, United States]</td>\n",
       "      <td>Tribeca</td>\n",
       "      <td>49bc3b0af964a52020541fe3</td>\n",
       "    </tr>\n",
       "    <tr>\n",
       "      <td>5</td>\n",
       "      <td>Washington Market Park</td>\n",
       "      <td>Playground</td>\n",
       "      <td>Greenwich St</td>\n",
       "      <td>at Reade St</td>\n",
       "      <td>40.717046</td>\n",
       "      <td>-74.011095</td>\n",
       "      <td>[{'label': 'display', 'lat': 40.71704598853704, 'lng': -74.01109457015991}]</td>\n",
       "      <td>268</td>\n",
       "      <td>NaN</td>\n",
       "      <td>US</td>\n",
       "      <td>New York</td>\n",
       "      <td>NY</td>\n",
       "      <td>United States</td>\n",
       "      <td>[Greenwich St (at Reade St), New York, NY, United States]</td>\n",
       "      <td>NaN</td>\n",
       "      <td>4a9bcc2ff964a5203b3520e3</td>\n",
       "    </tr>\n",
       "    <tr>\n",
       "      <td>6</td>\n",
       "      <td>Takahachi</td>\n",
       "      <td>Sushi Restaurant</td>\n",
       "      <td>145 Duane St</td>\n",
       "      <td>btwn W Broadway &amp; Church St</td>\n",
       "      <td>40.716526</td>\n",
       "      <td>-74.008101</td>\n",
       "      <td>[{'label': 'display', 'lat': 40.71652647412374, 'lng': -74.00810108466207}, {'label': 'entrance', 'lat': 40.716508, 'lng': -74.007989}]</td>\n",
       "      <td>146</td>\n",
       "      <td>10013</td>\n",
       "      <td>US</td>\n",
       "      <td>New York</td>\n",
       "      <td>NY</td>\n",
       "      <td>United States</td>\n",
       "      <td>[145 Duane St (btwn W Broadway &amp; Church St), New York, NY 10013, United States]</td>\n",
       "      <td>NaN</td>\n",
       "      <td>4a8f2f39f964a520471420e3</td>\n",
       "    </tr>\n",
       "    <tr>\n",
       "      <td>7</td>\n",
       "      <td>Equinox Tribeca</td>\n",
       "      <td>Gym</td>\n",
       "      <td>54 Murray St</td>\n",
       "      <td>at W Broadway</td>\n",
       "      <td>40.714099</td>\n",
       "      <td>-74.009686</td>\n",
       "      <td>[{'label': 'display', 'lat': 40.71409860726041, 'lng': -74.0096857179283}]</td>\n",
       "      <td>154</td>\n",
       "      <td>10007</td>\n",
       "      <td>US</td>\n",
       "      <td>New York</td>\n",
       "      <td>NY</td>\n",
       "      <td>United States</td>\n",
       "      <td>[54 Murray St (at W Broadway), New York, NY 10007, United States]</td>\n",
       "      <td>NaN</td>\n",
       "      <td>4a6e331af964a52031d41fe3</td>\n",
       "    </tr>\n",
       "    <tr>\n",
       "      <td>8</td>\n",
       "      <td>The Class by Taryn Toomey</td>\n",
       "      <td>Gym / Fitness Center</td>\n",
       "      <td>22 Park Pl</td>\n",
       "      <td>NaN</td>\n",
       "      <td>40.712753</td>\n",
       "      <td>-74.008734</td>\n",
       "      <td>[{'label': 'display', 'lat': 40.71275251771485, 'lng': -74.00873355601571}, {'label': 'entrance', 'lat': 40.712781, 'lng': -74.008548}]</td>\n",
       "      <td>287</td>\n",
       "      <td>10007</td>\n",
       "      <td>US</td>\n",
       "      <td>New York</td>\n",
       "      <td>NY</td>\n",
       "      <td>United States</td>\n",
       "      <td>[22 Park Pl, New York, NY 10007, United States]</td>\n",
       "      <td>NaN</td>\n",
       "      <td>58a253c830ecc66c9e5b40a0</td>\n",
       "    </tr>\n",
       "    <tr>\n",
       "      <td>9</td>\n",
       "      <td>Four Seasons Hotel New York Downtown</td>\n",
       "      <td>Hotel</td>\n",
       "      <td>27 Barclay St</td>\n",
       "      <td>Broadway</td>\n",
       "      <td>40.712612</td>\n",
       "      <td>-74.009380</td>\n",
       "      <td>[{'label': 'display', 'lat': 40.71261246501983, 'lng': -74.00938032087628}]</td>\n",
       "      <td>306</td>\n",
       "      <td>10007</td>\n",
       "      <td>US</td>\n",
       "      <td>New York</td>\n",
       "      <td>NY</td>\n",
       "      <td>United States</td>\n",
       "      <td>[27 Barclay St (Broadway), New York, NY 10007, United States]</td>\n",
       "      <td>NaN</td>\n",
       "      <td>57c640ad498e74977f98372f</td>\n",
       "    </tr>\n",
       "  </tbody>\n",
       "</table>\n",
       "</div>"
      ],
      "text/plain": [
       "                                   name                     categories  \\\n",
       "0  Juice Press                           Vegetarian / Vegan Restaurant   \n",
       "1  Korin                                 Furniture / Home Store          \n",
       "2  Los Tacos No. 1                       Taco Place                      \n",
       "3  Takahachi Bakery                      Bakery                          \n",
       "4  Whole Foods Market                    Grocery Store                   \n",
       "5  Washington Market Park                Playground                      \n",
       "6  Takahachi                             Sushi Restaurant                \n",
       "7  Equinox Tribeca                       Gym                             \n",
       "8  The Class by Taryn Toomey             Gym / Fitness Center            \n",
       "9  Four Seasons Hotel New York Downtown  Hotel                           \n",
       "\n",
       "                address                     crossStreet        lat        lng  \\\n",
       "0  83 Murray St          btwn Greenwich St & W Broadway  40.714788 -74.011132   \n",
       "1  57 Warren St          Church St                       40.714824 -74.009404   \n",
       "2  136 Church St         NaN                             40.714267 -74.008756   \n",
       "3  25 Murray St          at Church St                    40.713653 -74.008804   \n",
       "4  270 Greenwich Street  at Warren St                    40.715579 -74.011368   \n",
       "5  Greenwich St          at Reade St                     40.717046 -74.011095   \n",
       "6  145 Duane St          btwn W Broadway & Church St     40.716526 -74.008101   \n",
       "7  54 Murray St          at W Broadway                   40.714099 -74.009686   \n",
       "8  22 Park Pl            NaN                             40.712753 -74.008734   \n",
       "9  27 Barclay St         Broadway                        40.712612 -74.009380   \n",
       "\n",
       "                                                                                                                            labeledLatLngs  \\\n",
       "0  [{'label': 'display', 'lat': 40.71478769908051, 'lng': -74.0111317502157}]                                                                \n",
       "1  [{'label': 'display', 'lat': 40.71482437714839, 'lng': -74.00940425461492}, {'label': 'entrance', 'lat': 40.714727, 'lng': -74.009399}]   \n",
       "2  [{'label': 'display', 'lat': 40.714267, 'lng': -74.008756}]                                                                               \n",
       "3  [{'label': 'display', 'lat': 40.713652845301894, 'lng': -74.0088038953017}, {'label': 'entrance', 'lat': 40.713716, 'lng': -74.008443}]   \n",
       "4  [{'label': 'display', 'lat': 40.715579155420606, 'lng': -74.01136823958119}]                                                              \n",
       "5  [{'label': 'display', 'lat': 40.71704598853704, 'lng': -74.01109457015991}]                                                               \n",
       "6  [{'label': 'display', 'lat': 40.71652647412374, 'lng': -74.00810108466207}, {'label': 'entrance', 'lat': 40.716508, 'lng': -74.007989}]   \n",
       "7  [{'label': 'display', 'lat': 40.71409860726041, 'lng': -74.0096857179283}]                                                                \n",
       "8  [{'label': 'display', 'lat': 40.71275251771485, 'lng': -74.00873355601571}, {'label': 'entrance', 'lat': 40.712781, 'lng': -74.008548}]   \n",
       "9  [{'label': 'display', 'lat': 40.71261246501983, 'lng': -74.00938032087628}]                                                               \n",
       "\n",
       "   distance postalCode  cc      city state        country  \\\n",
       "0  202       10007      US  New York  NY    United States   \n",
       "1  73        10007      US  New York  NY    United States   \n",
       "2  119       10007      US  New York  NY    United States   \n",
       "3  187       10007      US  New York  NY    United States   \n",
       "4  214       10007      US  New York  NY    United States   \n",
       "5  268       NaN        US  New York  NY    United States   \n",
       "6  146       10013      US  New York  NY    United States   \n",
       "7  154       10007      US  New York  NY    United States   \n",
       "8  287       10007      US  New York  NY    United States   \n",
       "9  306       10007      US  New York  NY    United States   \n",
       "\n",
       "                                                                     formattedAddress  \\\n",
       "0  [83 Murray St (btwn Greenwich St & W Broadway), New York, NY 10007, United States]   \n",
       "1  [57 Warren St (Church St), New York, NY 10007, United States]                        \n",
       "2  [136 Church St, New York, NY 10007, United States]                                   \n",
       "3  [25 Murray St (at Church St), New York, NY 10007, United States]                     \n",
       "4  [270 Greenwich Street (at Warren St), New York, NY 10007, United States]             \n",
       "5  [Greenwich St (at Reade St), New York, NY, United States]                            \n",
       "6  [145 Duane St (btwn W Broadway & Church St), New York, NY 10013, United States]      \n",
       "7  [54 Murray St (at W Broadway), New York, NY 10007, United States]                    \n",
       "8  [22 Park Pl, New York, NY 10007, United States]                                      \n",
       "9  [27 Barclay St (Broadway), New York, NY 10007, United States]                        \n",
       "\n",
       "  neighborhood                        id  \n",
       "0  NaN          54148bc6498ea7bb8c05b70a  \n",
       "1  Tribeca      4af5d65ff964a52091fd21e3  \n",
       "2  NaN          5d5f24ec09484500079aee00  \n",
       "3  NaN          4c154c9a77cea593c401d260  \n",
       "4  Tribeca      49bc3b0af964a52020541fe3  \n",
       "5  NaN          4a9bcc2ff964a5203b3520e3  \n",
       "6  NaN          4a8f2f39f964a520471420e3  \n",
       "7  NaN          4a6e331af964a52031d41fe3  \n",
       "8  NaN          58a253c830ecc66c9e5b40a0  \n",
       "9  NaN          57c640ad498e74977f98372f  "
      ]
     },
     "execution_count": 163,
     "metadata": {},
     "output_type": "execute_result"
    }
   ],
   "source": [
    "dataframe = json_normalize(items) # flatten JSON\n",
    "\n",
    "# filter columns\n",
    "filtered_columns = ['venue.name', 'venue.categories'] + [col for col in dataframe.columns if col.startswith('venue.location.')] + ['venue.id']\n",
    "dataframe_filtered = dataframe.loc[:, filtered_columns]\n",
    "\n",
    "# filter the category for each row\n",
    "dataframe_filtered['venue.categories'] = dataframe_filtered.apply(get_category_type, axis=1)\n",
    "\n",
    "# clean columns\n",
    "dataframe_filtered.columns = [col.split('.')[-1] for col in dataframe_filtered.columns]\n",
    "\n",
    "dataframe_filtered.head(10)"
   ]
  },
  {
   "cell_type": "markdown",
   "metadata": {
    "button": false,
    "deletable": true,
    "new_sheet": false,
    "run_control": {
     "read_only": false
    }
   },
   "source": [
    "#### Let's visualize these items on the map around our location"
   ]
  },
  {
   "cell_type": "code",
   "execution_count": 164,
   "metadata": {
    "button": false,
    "collapsed": false,
    "deletable": true,
    "jupyter": {
     "outputs_hidden": false
    },
    "new_sheet": false,
    "run_control": {
     "read_only": false
    }
   },
   "outputs": [
    {
     "data": {
      "text/html": [
       "<div style=\"width:100%;\"><div style=\"position:relative;width:100%;height:0;padding-bottom:60%;\"><iframe src=\"about:blank\" style=\"position:absolute;width:100%;height:100%;left:0;top:0;border:none !important;\" data-html=PCFET0NUWVBFIGh0bWw+CjxoZWFkPiAgICAKICAgIDxtZXRhIGh0dHAtZXF1aXY9ImNvbnRlbnQtdHlwZSIgY29udGVudD0idGV4dC9odG1sOyBjaGFyc2V0PVVURi04IiAvPgogICAgPHNjcmlwdD5MX1BSRUZFUl9DQU5WQVMgPSBmYWxzZTsgTF9OT19UT1VDSCA9IGZhbHNlOyBMX0RJU0FCTEVfM0QgPSBmYWxzZTs8L3NjcmlwdD4KICAgIDxzY3JpcHQgc3JjPSJodHRwczovL2Nkbi5qc2RlbGl2ci5uZXQvbnBtL2xlYWZsZXRAMS4yLjAvZGlzdC9sZWFmbGV0LmpzIj48L3NjcmlwdD4KICAgIDxzY3JpcHQgc3JjPSJodHRwczovL2FqYXguZ29vZ2xlYXBpcy5jb20vYWpheC9saWJzL2pxdWVyeS8xLjExLjEvanF1ZXJ5Lm1pbi5qcyI+PC9zY3JpcHQ+CiAgICA8c2NyaXB0IHNyYz0iaHR0cHM6Ly9tYXhjZG4uYm9vdHN0cmFwY2RuLmNvbS9ib290c3RyYXAvMy4yLjAvanMvYm9vdHN0cmFwLm1pbi5qcyI+PC9zY3JpcHQ+CiAgICA8c2NyaXB0IHNyYz0iaHR0cHM6Ly9jZG5qcy5jbG91ZGZsYXJlLmNvbS9hamF4L2xpYnMvTGVhZmxldC5hd2Vzb21lLW1hcmtlcnMvMi4wLjIvbGVhZmxldC5hd2Vzb21lLW1hcmtlcnMuanMiPjwvc2NyaXB0PgogICAgPGxpbmsgcmVsPSJzdHlsZXNoZWV0IiBocmVmPSJodHRwczovL2Nkbi5qc2RlbGl2ci5uZXQvbnBtL2xlYWZsZXRAMS4yLjAvZGlzdC9sZWFmbGV0LmNzcyIvPgogICAgPGxpbmsgcmVsPSJzdHlsZXNoZWV0IiBocmVmPSJodHRwczovL21heGNkbi5ib290c3RyYXBjZG4uY29tL2Jvb3RzdHJhcC8zLjIuMC9jc3MvYm9vdHN0cmFwLm1pbi5jc3MiLz4KICAgIDxsaW5rIHJlbD0ic3R5bGVzaGVldCIgaHJlZj0iaHR0cHM6Ly9tYXhjZG4uYm9vdHN0cmFwY2RuLmNvbS9ib290c3RyYXAvMy4yLjAvY3NzL2Jvb3RzdHJhcC10aGVtZS5taW4uY3NzIi8+CiAgICA8bGluayByZWw9InN0eWxlc2hlZXQiIGhyZWY9Imh0dHBzOi8vbWF4Y2RuLmJvb3RzdHJhcGNkbi5jb20vZm9udC1hd2Vzb21lLzQuNi4zL2Nzcy9mb250LWF3ZXNvbWUubWluLmNzcyIvPgogICAgPGxpbmsgcmVsPSJzdHlsZXNoZWV0IiBocmVmPSJodHRwczovL2NkbmpzLmNsb3VkZmxhcmUuY29tL2FqYXgvbGlicy9MZWFmbGV0LmF3ZXNvbWUtbWFya2Vycy8yLjAuMi9sZWFmbGV0LmF3ZXNvbWUtbWFya2Vycy5jc3MiLz4KICAgIDxsaW5rIHJlbD0ic3R5bGVzaGVldCIgaHJlZj0iaHR0cHM6Ly9yYXdnaXQuY29tL3B5dGhvbi12aXN1YWxpemF0aW9uL2ZvbGl1bS9tYXN0ZXIvZm9saXVtL3RlbXBsYXRlcy9sZWFmbGV0LmF3ZXNvbWUucm90YXRlLmNzcyIvPgogICAgPHN0eWxlPmh0bWwsIGJvZHkge3dpZHRoOiAxMDAlO2hlaWdodDogMTAwJTttYXJnaW46IDA7cGFkZGluZzogMDt9PC9zdHlsZT4KICAgIDxzdHlsZT4jbWFwIHtwb3NpdGlvbjphYnNvbHV0ZTt0b3A6MDtib3R0b206MDtyaWdodDowO2xlZnQ6MDt9PC9zdHlsZT4KICAgIAogICAgICAgICAgICA8c3R5bGU+ICNtYXBfMjNjM2M1NmUzY2ZmNDgwODlhYWU4NGFhNjQyMjM3ZGQgewogICAgICAgICAgICAgICAgcG9zaXRpb24gOiByZWxhdGl2ZTsKICAgICAgICAgICAgICAgIHdpZHRoIDogMTAwLjAlOwogICAgICAgICAgICAgICAgaGVpZ2h0OiAxMDAuMCU7CiAgICAgICAgICAgICAgICBsZWZ0OiAwLjAlOwogICAgICAgICAgICAgICAgdG9wOiAwLjAlOwogICAgICAgICAgICAgICAgfQogICAgICAgICAgICA8L3N0eWxlPgogICAgICAgIAo8L2hlYWQ+Cjxib2R5PiAgICAKICAgIAogICAgICAgICAgICA8ZGl2IGNsYXNzPSJmb2xpdW0tbWFwIiBpZD0ibWFwXzIzYzNjNTZlM2NmZjQ4MDg5YWFlODRhYTY0MjIzN2RkIiA+PC9kaXY+CiAgICAgICAgCjwvYm9keT4KPHNjcmlwdD4gICAgCiAgICAKCiAgICAgICAgICAgIAogICAgICAgICAgICAgICAgdmFyIGJvdW5kcyA9IG51bGw7CiAgICAgICAgICAgIAoKICAgICAgICAgICAgdmFyIG1hcF8yM2MzYzU2ZTNjZmY0ODA4OWFhZTg0YWE2NDIyMzdkZCA9IEwubWFwKAogICAgICAgICAgICAgICAgICAgICAgICAgICAgICAgICAgJ21hcF8yM2MzYzU2ZTNjZmY0ODA4OWFhZTg0YWE2NDIyMzdkZCcsCiAgICAgICAgICAgICAgICAgICAgICAgICAgICAgICAgICB7Y2VudGVyOiBbNDAuNzE1MzM3LC03NC4wMDg4NDhdLAogICAgICAgICAgICAgICAgICAgICAgICAgICAgICAgICAgem9vbTogMTUsCiAgICAgICAgICAgICAgICAgICAgICAgICAgICAgICAgICBtYXhCb3VuZHM6IGJvdW5kcywKICAgICAgICAgICAgICAgICAgICAgICAgICAgICAgICAgIGxheWVyczogW10sCiAgICAgICAgICAgICAgICAgICAgICAgICAgICAgICAgICB3b3JsZENvcHlKdW1wOiBmYWxzZSwKICAgICAgICAgICAgICAgICAgICAgICAgICAgICAgICAgIGNyczogTC5DUlMuRVBTRzM4NTcKICAgICAgICAgICAgICAgICAgICAgICAgICAgICAgICAgfSk7CiAgICAgICAgICAgIAogICAgICAgIAogICAgCiAgICAgICAgICAgIHZhciB0aWxlX2xheWVyXzkwNWRkNDI5ODRkMTQyNTJhODY1Y2M5Zjg1ZjBlNjYwID0gTC50aWxlTGF5ZXIoCiAgICAgICAgICAgICAgICAnaHR0cHM6Ly97c30udGlsZS5vcGVuc3RyZWV0bWFwLm9yZy97en0ve3h9L3t5fS5wbmcnLAogICAgICAgICAgICAgICAgewogICJhdHRyaWJ1dGlvbiI6IG51bGwsCiAgImRldGVjdFJldGluYSI6IGZhbHNlLAogICJtYXhab29tIjogMTgsCiAgIm1pblpvb20iOiAxLAogICJub1dyYXAiOiBmYWxzZSwKICAic3ViZG9tYWlucyI6ICJhYmMiCn0KICAgICAgICAgICAgICAgICkuYWRkVG8obWFwXzIzYzNjNTZlM2NmZjQ4MDg5YWFlODRhYTY0MjIzN2RkKTsKICAgICAgICAKICAgIAogICAgICAgICAgICB2YXIgY2lyY2xlX21hcmtlcl83OTY4YjI5Mjg5NjQ0ZmFmYWE1OWQxNjAxNzJjMTY2ZSA9IEwuY2lyY2xlTWFya2VyKAogICAgICAgICAgICAgICAgWzQwLjcxNTMzNywtNzQuMDA4ODQ4XSwKICAgICAgICAgICAgICAgIHsKICAiYnViYmxpbmdNb3VzZUV2ZW50cyI6IHRydWUsCiAgImNvbG9yIjogInJlZCIsCiAgImRhc2hBcnJheSI6IG51bGwsCiAgImRhc2hPZmZzZXQiOiBudWxsLAogICJmaWxsIjogdHJ1ZSwKICAiZmlsbENvbG9yIjogInJlZCIsCiAgImZpbGxPcGFjaXR5IjogMC42LAogICJmaWxsUnVsZSI6ICJldmVub2RkIiwKICAibGluZUNhcCI6ICJyb3VuZCIsCiAgImxpbmVKb2luIjogInJvdW5kIiwKICAib3BhY2l0eSI6IDEuMCwKICAicmFkaXVzIjogMTAsCiAgInN0cm9rZSI6IHRydWUsCiAgIndlaWdodCI6IDMKfQogICAgICAgICAgICAgICAgKS5hZGRUbyhtYXBfMjNjM2M1NmUzY2ZmNDgwODlhYWU4NGFhNjQyMjM3ZGQpOwogICAgICAgICAgICAKICAgIAogICAgICAgICAgICB2YXIgcG9wdXBfYzAxZjQwZWNjNzc4NDFjYWJkNTY3NjQxMWQxZjg4NjMgPSBMLnBvcHVwKHttYXhXaWR0aDogJzMwMCd9KTsKCiAgICAgICAgICAgIAogICAgICAgICAgICAgICAgdmFyIGh0bWxfOTc1M2M5OTQ0ZDM1NDc4ZGFiZjk3ODI5M2I2NmUwNzYgPSAkKCc8ZGl2IGlkPSJodG1sXzk3NTNjOTk0NGQzNTQ3OGRhYmY5NzgyOTNiNjZlMDc2IiBzdHlsZT0id2lkdGg6IDEwMC4wJTsgaGVpZ2h0OiAxMDAuMCU7Ij5FY2NvPC9kaXY+JylbMF07CiAgICAgICAgICAgICAgICBwb3B1cF9jMDFmNDBlY2M3Nzg0MWNhYmQ1Njc2NDExZDFmODg2My5zZXRDb250ZW50KGh0bWxfOTc1M2M5OTQ0ZDM1NDc4ZGFiZjk3ODI5M2I2NmUwNzYpOwogICAgICAgICAgICAKCiAgICAgICAgICAgIGNpcmNsZV9tYXJrZXJfNzk2OGIyOTI4OTY0NGZhZmFhNTlkMTYwMTcyYzE2NmUuYmluZFBvcHVwKHBvcHVwX2MwMWY0MGVjYzc3ODQxY2FiZDU2NzY0MTFkMWY4ODYzKTsKCiAgICAgICAgICAgIAogICAgICAgIAogICAgCiAgICAgICAgICAgIHZhciBjaXJjbGVfbWFya2VyX2FkNjU2MDA2YmYwODRjZmY5MWUzODZmOWVkNDA4ZmE2ID0gTC5jaXJjbGVNYXJrZXIoCiAgICAgICAgICAgICAgICBbNDAuNzE0Nzg3Njk5MDgwNTEsLTc0LjAxMTEzMTc1MDIxNTddLAogICAgICAgICAgICAgICAgewogICJidWJibGluZ01vdXNlRXZlbnRzIjogdHJ1ZSwKICAiY29sb3IiOiAiYmx1ZSIsCiAgImRhc2hBcnJheSI6IG51bGwsCiAgImRhc2hPZmZzZXQiOiBudWxsLAogICJmaWxsIjogdHJ1ZSwKICAiZmlsbENvbG9yIjogImJsdWUiLAogICJmaWxsT3BhY2l0eSI6IDAuNiwKICAiZmlsbFJ1bGUiOiAiZXZlbm9kZCIsCiAgImxpbmVDYXAiOiAicm91bmQiLAogICJsaW5lSm9pbiI6ICJyb3VuZCIsCiAgIm9wYWNpdHkiOiAxLjAsCiAgInJhZGl1cyI6IDUsCiAgInN0cm9rZSI6IHRydWUsCiAgIndlaWdodCI6IDMKfQogICAgICAgICAgICAgICAgKS5hZGRUbyhtYXBfMjNjM2M1NmUzY2ZmNDgwODlhYWU4NGFhNjQyMjM3ZGQpOwogICAgICAgICAgICAKICAgIAogICAgICAgICAgICB2YXIgcG9wdXBfMGI5YTFjMzhmNjkyNDYyOGEwMjBjMDRlZmQwNjc3NWMgPSBMLnBvcHVwKHttYXhXaWR0aDogJzMwMCd9KTsKCiAgICAgICAgICAgIAogICAgICAgICAgICAgICAgdmFyIGh0bWxfZTNkNmNjMDk3YmI5NDI4ZGExZjcxZTlhZGMwOGJmMWEgPSAkKCc8ZGl2IGlkPSJodG1sX2UzZDZjYzA5N2JiOTQyOGRhMWY3MWU5YWRjMDhiZjFhIiBzdHlsZT0id2lkdGg6IDEwMC4wJTsgaGVpZ2h0OiAxMDAuMCU7Ij5WZWdldGFyaWFuIC8gVmVnYW4gUmVzdGF1cmFudDwvZGl2PicpWzBdOwogICAgICAgICAgICAgICAgcG9wdXBfMGI5YTFjMzhmNjkyNDYyOGEwMjBjMDRlZmQwNjc3NWMuc2V0Q29udGVudChodG1sX2UzZDZjYzA5N2JiOTQyOGRhMWY3MWU5YWRjMDhiZjFhKTsKICAgICAgICAgICAgCgogICAgICAgICAgICBjaXJjbGVfbWFya2VyX2FkNjU2MDA2YmYwODRjZmY5MWUzODZmOWVkNDA4ZmE2LmJpbmRQb3B1cChwb3B1cF8wYjlhMWMzOGY2OTI0NjI4YTAyMGMwNGVmZDA2Nzc1Yyk7CgogICAgICAgICAgICAKICAgICAgICAKICAgIAogICAgICAgICAgICB2YXIgY2lyY2xlX21hcmtlcl8xMTUxNjU4ZDA3Y2M0NzhiODhlZjA3ODhiZjcwYWU5YSA9IEwuY2lyY2xlTWFya2VyKAogICAgICAgICAgICAgICAgWzQwLjcxNDgyNDM3NzE0ODM5LC03NC4wMDk0MDQyNTQ2MTQ5Ml0sCiAgICAgICAgICAgICAgICB7CiAgImJ1YmJsaW5nTW91c2VFdmVudHMiOiB0cnVlLAogICJjb2xvciI6ICJibHVlIiwKICAiZGFzaEFycmF5IjogbnVsbCwKICAiZGFzaE9mZnNldCI6IG51bGwsCiAgImZpbGwiOiB0cnVlLAogICJmaWxsQ29sb3IiOiAiYmx1ZSIsCiAgImZpbGxPcGFjaXR5IjogMC42LAogICJmaWxsUnVsZSI6ICJldmVub2RkIiwKICAibGluZUNhcCI6ICJyb3VuZCIsCiAgImxpbmVKb2luIjogInJvdW5kIiwKICAib3BhY2l0eSI6IDEuMCwKICAicmFkaXVzIjogNSwKICAic3Ryb2tlIjogdHJ1ZSwKICAid2VpZ2h0IjogMwp9CiAgICAgICAgICAgICAgICApLmFkZFRvKG1hcF8yM2MzYzU2ZTNjZmY0ODA4OWFhZTg0YWE2NDIyMzdkZCk7CiAgICAgICAgICAgIAogICAgCiAgICAgICAgICAgIHZhciBwb3B1cF82OWRiYjRmMGRmMjk0ODA0ODFiOTA4N2EwN2U5MDMwNSA9IEwucG9wdXAoe21heFdpZHRoOiAnMzAwJ30pOwoKICAgICAgICAgICAgCiAgICAgICAgICAgICAgICB2YXIgaHRtbF84ZWFiMTA1YjA5ZGQ0ZTc5YjkwNTE3MmVmYTgwZjVkYiA9ICQoJzxkaXYgaWQ9Imh0bWxfOGVhYjEwNWIwOWRkNGU3OWI5MDUxNzJlZmE4MGY1ZGIiIHN0eWxlPSJ3aWR0aDogMTAwLjAlOyBoZWlnaHQ6IDEwMC4wJTsiPkZ1cm5pdHVyZSAvIEhvbWUgU3RvcmU8L2Rpdj4nKVswXTsKICAgICAgICAgICAgICAgIHBvcHVwXzY5ZGJiNGYwZGYyOTQ4MDQ4MWI5MDg3YTA3ZTkwMzA1LnNldENvbnRlbnQoaHRtbF84ZWFiMTA1YjA5ZGQ0ZTc5YjkwNTE3MmVmYTgwZjVkYik7CiAgICAgICAgICAgIAoKICAgICAgICAgICAgY2lyY2xlX21hcmtlcl8xMTUxNjU4ZDA3Y2M0NzhiODhlZjA3ODhiZjcwYWU5YS5iaW5kUG9wdXAocG9wdXBfNjlkYmI0ZjBkZjI5NDgwNDgxYjkwODdhMDdlOTAzMDUpOwoKICAgICAgICAgICAgCiAgICAgICAgCiAgICAKICAgICAgICAgICAgdmFyIGNpcmNsZV9tYXJrZXJfNTM5NjU2NjM3ZjRkNDgyNzkwNmJhMWU1ZGYxZWJmMjUgPSBMLmNpcmNsZU1hcmtlcigKICAgICAgICAgICAgICAgIFs0MC43MTQyNjcsLTc0LjAwODc1Nl0sCiAgICAgICAgICAgICAgICB7CiAgImJ1YmJsaW5nTW91c2VFdmVudHMiOiB0cnVlLAogICJjb2xvciI6ICJibHVlIiwKICAiZGFzaEFycmF5IjogbnVsbCwKICAiZGFzaE9mZnNldCI6IG51bGwsCiAgImZpbGwiOiB0cnVlLAogICJmaWxsQ29sb3IiOiAiYmx1ZSIsCiAgImZpbGxPcGFjaXR5IjogMC42LAogICJmaWxsUnVsZSI6ICJldmVub2RkIiwKICAibGluZUNhcCI6ICJyb3VuZCIsCiAgImxpbmVKb2luIjogInJvdW5kIiwKICAib3BhY2l0eSI6IDEuMCwKICAicmFkaXVzIjogNSwKICAic3Ryb2tlIjogdHJ1ZSwKICAid2VpZ2h0IjogMwp9CiAgICAgICAgICAgICAgICApLmFkZFRvKG1hcF8yM2MzYzU2ZTNjZmY0ODA4OWFhZTg0YWE2NDIyMzdkZCk7CiAgICAgICAgICAgIAogICAgCiAgICAgICAgICAgIHZhciBwb3B1cF9lOWE5MmJmMjMyMDY0MTliYWVmMDQyM2JlYTFjOWNjMCA9IEwucG9wdXAoe21heFdpZHRoOiAnMzAwJ30pOwoKICAgICAgICAgICAgCiAgICAgICAgICAgICAgICB2YXIgaHRtbF82NDg1ZjBlYmM1ZWE0Njk0OTNjZTg2MjkzY2RiNTU1ZiA9ICQoJzxkaXYgaWQ9Imh0bWxfNjQ4NWYwZWJjNWVhNDY5NDkzY2U4NjI5M2NkYjU1NWYiIHN0eWxlPSJ3aWR0aDogMTAwLjAlOyBoZWlnaHQ6IDEwMC4wJTsiPlRhY28gUGxhY2U8L2Rpdj4nKVswXTsKICAgICAgICAgICAgICAgIHBvcHVwX2U5YTkyYmYyMzIwNjQxOWJhZWYwNDIzYmVhMWM5Y2MwLnNldENvbnRlbnQoaHRtbF82NDg1ZjBlYmM1ZWE0Njk0OTNjZTg2MjkzY2RiNTU1Zik7CiAgICAgICAgICAgIAoKICAgICAgICAgICAgY2lyY2xlX21hcmtlcl81Mzk2NTY2MzdmNGQ0ODI3OTA2YmExZTVkZjFlYmYyNS5iaW5kUG9wdXAocG9wdXBfZTlhOTJiZjIzMjA2NDE5YmFlZjA0MjNiZWExYzljYzApOwoKICAgICAgICAgICAgCiAgICAgICAgCiAgICAKICAgICAgICAgICAgdmFyIGNpcmNsZV9tYXJrZXJfY2Y4NjA3MDdkM2M1NDZhZWI5MmYzY2IwMTUyOTA4ZjUgPSBMLmNpcmNsZU1hcmtlcigKICAgICAgICAgICAgICAgIFs0MC43MTM2NTI4NDUzMDE4OTQsLTc0LjAwODgwMzg5NTMwMTddLAogICAgICAgICAgICAgICAgewogICJidWJibGluZ01vdXNlRXZlbnRzIjogdHJ1ZSwKICAiY29sb3IiOiAiYmx1ZSIsCiAgImRhc2hBcnJheSI6IG51bGwsCiAgImRhc2hPZmZzZXQiOiBudWxsLAogICJmaWxsIjogdHJ1ZSwKICAiZmlsbENvbG9yIjogImJsdWUiLAogICJmaWxsT3BhY2l0eSI6IDAuNiwKICAiZmlsbFJ1bGUiOiAiZXZlbm9kZCIsCiAgImxpbmVDYXAiOiAicm91bmQiLAogICJsaW5lSm9pbiI6ICJyb3VuZCIsCiAgIm9wYWNpdHkiOiAxLjAsCiAgInJhZGl1cyI6IDUsCiAgInN0cm9rZSI6IHRydWUsCiAgIndlaWdodCI6IDMKfQogICAgICAgICAgICAgICAgKS5hZGRUbyhtYXBfMjNjM2M1NmUzY2ZmNDgwODlhYWU4NGFhNjQyMjM3ZGQpOwogICAgICAgICAgICAKICAgIAogICAgICAgICAgICB2YXIgcG9wdXBfNmQ4NjgyMDk1ZmIyNDkyYzkzNDQxMGVjYTA0OTg2NDggPSBMLnBvcHVwKHttYXhXaWR0aDogJzMwMCd9KTsKCiAgICAgICAgICAgIAogICAgICAgICAgICAgICAgdmFyIGh0bWxfNjQ2NzgzMjEyMGNhNDZlZTkwYzIwY2JkYTVkMzlkYzMgPSAkKCc8ZGl2IGlkPSJodG1sXzY0Njc4MzIxMjBjYTQ2ZWU5MGMyMGNiZGE1ZDM5ZGMzIiBzdHlsZT0id2lkdGg6IDEwMC4wJTsgaGVpZ2h0OiAxMDAuMCU7Ij5CYWtlcnk8L2Rpdj4nKVswXTsKICAgICAgICAgICAgICAgIHBvcHVwXzZkODY4MjA5NWZiMjQ5MmM5MzQ0MTBlY2EwNDk4NjQ4LnNldENvbnRlbnQoaHRtbF82NDY3ODMyMTIwY2E0NmVlOTBjMjBjYmRhNWQzOWRjMyk7CiAgICAgICAgICAgIAoKICAgICAgICAgICAgY2lyY2xlX21hcmtlcl9jZjg2MDcwN2QzYzU0NmFlYjkyZjNjYjAxNTI5MDhmNS5iaW5kUG9wdXAocG9wdXBfNmQ4NjgyMDk1ZmIyNDkyYzkzNDQxMGVjYTA0OTg2NDgpOwoKICAgICAgICAgICAgCiAgICAgICAgCiAgICAKICAgICAgICAgICAgdmFyIGNpcmNsZV9tYXJrZXJfMGUwOWM5OTQ3MzVlNDQwNzk0MDVmMjA3ZWZiNGYyY2EgPSBMLmNpcmNsZU1hcmtlcigKICAgICAgICAgICAgICAgIFs0MC43MTU1NzkxNTU0MjA2MDYsLTc0LjAxMTM2ODIzOTU4MTE5XSwKICAgICAgICAgICAgICAgIHsKICAiYnViYmxpbmdNb3VzZUV2ZW50cyI6IHRydWUsCiAgImNvbG9yIjogImJsdWUiLAogICJkYXNoQXJyYXkiOiBudWxsLAogICJkYXNoT2Zmc2V0IjogbnVsbCwKICAiZmlsbCI6IHRydWUsCiAgImZpbGxDb2xvciI6ICJibHVlIiwKICAiZmlsbE9wYWNpdHkiOiAwLjYsCiAgImZpbGxSdWxlIjogImV2ZW5vZGQiLAogICJsaW5lQ2FwIjogInJvdW5kIiwKICAibGluZUpvaW4iOiAicm91bmQiLAogICJvcGFjaXR5IjogMS4wLAogICJyYWRpdXMiOiA1LAogICJzdHJva2UiOiB0cnVlLAogICJ3ZWlnaHQiOiAzCn0KICAgICAgICAgICAgICAgICkuYWRkVG8obWFwXzIzYzNjNTZlM2NmZjQ4MDg5YWFlODRhYTY0MjIzN2RkKTsKICAgICAgICAgICAgCiAgICAKICAgICAgICAgICAgdmFyIHBvcHVwXzBkNjNkYjU0ODJlNjQ2YWQ5ZDU4NTE5OWRlNTQwODgyID0gTC5wb3B1cCh7bWF4V2lkdGg6ICczMDAnfSk7CgogICAgICAgICAgICAKICAgICAgICAgICAgICAgIHZhciBodG1sX2MwOGVjOGY1N2UyOTQ4NDM5MzVmNmEzZDZhZGQzOGM1ID0gJCgnPGRpdiBpZD0iaHRtbF9jMDhlYzhmNTdlMjk0ODQzOTM1ZjZhM2Q2YWRkMzhjNSIgc3R5bGU9IndpZHRoOiAxMDAuMCU7IGhlaWdodDogMTAwLjAlOyI+R3JvY2VyeSBTdG9yZTwvZGl2PicpWzBdOwogICAgICAgICAgICAgICAgcG9wdXBfMGQ2M2RiNTQ4MmU2NDZhZDlkNTg1MTk5ZGU1NDA4ODIuc2V0Q29udGVudChodG1sX2MwOGVjOGY1N2UyOTQ4NDM5MzVmNmEzZDZhZGQzOGM1KTsKICAgICAgICAgICAgCgogICAgICAgICAgICBjaXJjbGVfbWFya2VyXzBlMDljOTk0NzM1ZTQ0MDc5NDA1ZjIwN2VmYjRmMmNhLmJpbmRQb3B1cChwb3B1cF8wZDYzZGI1NDgyZTY0NmFkOWQ1ODUxOTlkZTU0MDg4Mik7CgogICAgICAgICAgICAKICAgICAgICAKICAgIAogICAgICAgICAgICB2YXIgY2lyY2xlX21hcmtlcl8zY2Y4MGRmZjdlYzE0ZmQwOTAzNzVjMzM5YmY4MzJiYiA9IEwuY2lyY2xlTWFya2VyKAogICAgICAgICAgICAgICAgWzQwLjcxNzA0NTk4ODUzNzA0LC03NC4wMTEwOTQ1NzAxNTk5MV0sCiAgICAgICAgICAgICAgICB7CiAgImJ1YmJsaW5nTW91c2VFdmVudHMiOiB0cnVlLAogICJjb2xvciI6ICJibHVlIiwKICAiZGFzaEFycmF5IjogbnVsbCwKICAiZGFzaE9mZnNldCI6IG51bGwsCiAgImZpbGwiOiB0cnVlLAogICJmaWxsQ29sb3IiOiAiYmx1ZSIsCiAgImZpbGxPcGFjaXR5IjogMC42LAogICJmaWxsUnVsZSI6ICJldmVub2RkIiwKICAibGluZUNhcCI6ICJyb3VuZCIsCiAgImxpbmVKb2luIjogInJvdW5kIiwKICAib3BhY2l0eSI6IDEuMCwKICAicmFkaXVzIjogNSwKICAic3Ryb2tlIjogdHJ1ZSwKICAid2VpZ2h0IjogMwp9CiAgICAgICAgICAgICAgICApLmFkZFRvKG1hcF8yM2MzYzU2ZTNjZmY0ODA4OWFhZTg0YWE2NDIyMzdkZCk7CiAgICAgICAgICAgIAogICAgCiAgICAgICAgICAgIHZhciBwb3B1cF9jYzg4ODE1Y2M4YjA0OTQxYmNlZGI1MDA3NmNjMTdmOSA9IEwucG9wdXAoe21heFdpZHRoOiAnMzAwJ30pOwoKICAgICAgICAgICAgCiAgICAgICAgICAgICAgICB2YXIgaHRtbF8yMTE5OTZhZjIxMDU0YmEzOTA2NGY3ZTFiZDMzZDQwMSA9ICQoJzxkaXYgaWQ9Imh0bWxfMjExOTk2YWYyMTA1NGJhMzkwNjRmN2UxYmQzM2Q0MDEiIHN0eWxlPSJ3aWR0aDogMTAwLjAlOyBoZWlnaHQ6IDEwMC4wJTsiPlBsYXlncm91bmQ8L2Rpdj4nKVswXTsKICAgICAgICAgICAgICAgIHBvcHVwX2NjODg4MTVjYzhiMDQ5NDFiY2VkYjUwMDc2Y2MxN2Y5LnNldENvbnRlbnQoaHRtbF8yMTE5OTZhZjIxMDU0YmEzOTA2NGY3ZTFiZDMzZDQwMSk7CiAgICAgICAgICAgIAoKICAgICAgICAgICAgY2lyY2xlX21hcmtlcl8zY2Y4MGRmZjdlYzE0ZmQwOTAzNzVjMzM5YmY4MzJiYi5iaW5kUG9wdXAocG9wdXBfY2M4ODgxNWNjOGIwNDk0MWJjZWRiNTAwNzZjYzE3ZjkpOwoKICAgICAgICAgICAgCiAgICAgICAgCiAgICAKICAgICAgICAgICAgdmFyIGNpcmNsZV9tYXJrZXJfMzVkMzBmMWNlZTE4NDA2ZDlhZWM0Yjk0Yzk1ZDY4MTggPSBMLmNpcmNsZU1hcmtlcigKICAgICAgICAgICAgICAgIFs0MC43MTY1MjY0NzQxMjM3NCwtNzQuMDA4MTAxMDg0NjYyMDddLAogICAgICAgICAgICAgICAgewogICJidWJibGluZ01vdXNlRXZlbnRzIjogdHJ1ZSwKICAiY29sb3IiOiAiYmx1ZSIsCiAgImRhc2hBcnJheSI6IG51bGwsCiAgImRhc2hPZmZzZXQiOiBudWxsLAogICJmaWxsIjogdHJ1ZSwKICAiZmlsbENvbG9yIjogImJsdWUiLAogICJmaWxsT3BhY2l0eSI6IDAuNiwKICAiZmlsbFJ1bGUiOiAiZXZlbm9kZCIsCiAgImxpbmVDYXAiOiAicm91bmQiLAogICJsaW5lSm9pbiI6ICJyb3VuZCIsCiAgIm9wYWNpdHkiOiAxLjAsCiAgInJhZGl1cyI6IDUsCiAgInN0cm9rZSI6IHRydWUsCiAgIndlaWdodCI6IDMKfQogICAgICAgICAgICAgICAgKS5hZGRUbyhtYXBfMjNjM2M1NmUzY2ZmNDgwODlhYWU4NGFhNjQyMjM3ZGQpOwogICAgICAgICAgICAKICAgIAogICAgICAgICAgICB2YXIgcG9wdXBfNDgyODNlOTEzNzBjNGRlOTg2MjU0ZWMxNDE4OWYwY2YgPSBMLnBvcHVwKHttYXhXaWR0aDogJzMwMCd9KTsKCiAgICAgICAgICAgIAogICAgICAgICAgICAgICAgdmFyIGh0bWxfNGQxZTM2ODBlOGM1NDJmOTkzMGVlMDNmMzg3ODU4YjYgPSAkKCc8ZGl2IGlkPSJodG1sXzRkMWUzNjgwZThjNTQyZjk5MzBlZTAzZjM4Nzg1OGI2IiBzdHlsZT0id2lkdGg6IDEwMC4wJTsgaGVpZ2h0OiAxMDAuMCU7Ij5TdXNoaSBSZXN0YXVyYW50PC9kaXY+JylbMF07CiAgICAgICAgICAgICAgICBwb3B1cF80ODI4M2U5MTM3MGM0ZGU5ODYyNTRlYzE0MTg5ZjBjZi5zZXRDb250ZW50KGh0bWxfNGQxZTM2ODBlOGM1NDJmOTkzMGVlMDNmMzg3ODU4YjYpOwogICAgICAgICAgICAKCiAgICAgICAgICAgIGNpcmNsZV9tYXJrZXJfMzVkMzBmMWNlZTE4NDA2ZDlhZWM0Yjk0Yzk1ZDY4MTguYmluZFBvcHVwKHBvcHVwXzQ4MjgzZTkxMzcwYzRkZTk4NjI1NGVjMTQxODlmMGNmKTsKCiAgICAgICAgICAgIAogICAgICAgIAogICAgCiAgICAgICAgICAgIHZhciBjaXJjbGVfbWFya2VyXzgwMGM0MmZjMTJiNDQ5ZjRiMzQyNDNlNTFhMTQ5YzQ1ID0gTC5jaXJjbGVNYXJrZXIoCiAgICAgICAgICAgICAgICBbNDAuNzE0MDk4NjA3MjYwNDEsLTc0LjAwOTY4NTcxNzkyODNdLAogICAgICAgICAgICAgICAgewogICJidWJibGluZ01vdXNlRXZlbnRzIjogdHJ1ZSwKICAiY29sb3IiOiAiYmx1ZSIsCiAgImRhc2hBcnJheSI6IG51bGwsCiAgImRhc2hPZmZzZXQiOiBudWxsLAogICJmaWxsIjogdHJ1ZSwKICAiZmlsbENvbG9yIjogImJsdWUiLAogICJmaWxsT3BhY2l0eSI6IDAuNiwKICAiZmlsbFJ1bGUiOiAiZXZlbm9kZCIsCiAgImxpbmVDYXAiOiAicm91bmQiLAogICJsaW5lSm9pbiI6ICJyb3VuZCIsCiAgIm9wYWNpdHkiOiAxLjAsCiAgInJhZGl1cyI6IDUsCiAgInN0cm9rZSI6IHRydWUsCiAgIndlaWdodCI6IDMKfQogICAgICAgICAgICAgICAgKS5hZGRUbyhtYXBfMjNjM2M1NmUzY2ZmNDgwODlhYWU4NGFhNjQyMjM3ZGQpOwogICAgICAgICAgICAKICAgIAogICAgICAgICAgICB2YXIgcG9wdXBfYjFhODk5NDY4MjhlNGJlYzliYzBhYWZhNzU0YjZhOGUgPSBMLnBvcHVwKHttYXhXaWR0aDogJzMwMCd9KTsKCiAgICAgICAgICAgIAogICAgICAgICAgICAgICAgdmFyIGh0bWxfZjMyYTFhNDFkN2Q2NDVkNzlmNWJiMGMwNjk0NmU1ODcgPSAkKCc8ZGl2IGlkPSJodG1sX2YzMmExYTQxZDdkNjQ1ZDc5ZjViYjBjMDY5NDZlNTg3IiBzdHlsZT0id2lkdGg6IDEwMC4wJTsgaGVpZ2h0OiAxMDAuMCU7Ij5HeW08L2Rpdj4nKVswXTsKICAgICAgICAgICAgICAgIHBvcHVwX2IxYTg5OTQ2ODI4ZTRiZWM5YmMwYWFmYTc1NGI2YThlLnNldENvbnRlbnQoaHRtbF9mMzJhMWE0MWQ3ZDY0NWQ3OWY1YmIwYzA2OTQ2ZTU4Nyk7CiAgICAgICAgICAgIAoKICAgICAgICAgICAgY2lyY2xlX21hcmtlcl84MDBjNDJmYzEyYjQ0OWY0YjM0MjQzZTUxYTE0OWM0NS5iaW5kUG9wdXAocG9wdXBfYjFhODk5NDY4MjhlNGJlYzliYzBhYWZhNzU0YjZhOGUpOwoKICAgICAgICAgICAgCiAgICAgICAgCiAgICAKICAgICAgICAgICAgdmFyIGNpcmNsZV9tYXJrZXJfMGEwODA1NmE4YjJlNGFhMDhlYWM4MTliMWQ3MGFiNGIgPSBMLmNpcmNsZU1hcmtlcigKICAgICAgICAgICAgICAgIFs0MC43MTI3NTI1MTc3MTQ4NSwtNzQuMDA4NzMzNTU2MDE1NzFdLAogICAgICAgICAgICAgICAgewogICJidWJibGluZ01vdXNlRXZlbnRzIjogdHJ1ZSwKICAiY29sb3IiOiAiYmx1ZSIsCiAgImRhc2hBcnJheSI6IG51bGwsCiAgImRhc2hPZmZzZXQiOiBudWxsLAogICJmaWxsIjogdHJ1ZSwKICAiZmlsbENvbG9yIjogImJsdWUiLAogICJmaWxsT3BhY2l0eSI6IDAuNiwKICAiZmlsbFJ1bGUiOiAiZXZlbm9kZCIsCiAgImxpbmVDYXAiOiAicm91bmQiLAogICJsaW5lSm9pbiI6ICJyb3VuZCIsCiAgIm9wYWNpdHkiOiAxLjAsCiAgInJhZGl1cyI6IDUsCiAgInN0cm9rZSI6IHRydWUsCiAgIndlaWdodCI6IDMKfQogICAgICAgICAgICAgICAgKS5hZGRUbyhtYXBfMjNjM2M1NmUzY2ZmNDgwODlhYWU4NGFhNjQyMjM3ZGQpOwogICAgICAgICAgICAKICAgIAogICAgICAgICAgICB2YXIgcG9wdXBfYzQyYzdkM2I5YTUyNDcyNzhhMGEzOTY1NmM0N2VjM2QgPSBMLnBvcHVwKHttYXhXaWR0aDogJzMwMCd9KTsKCiAgICAgICAgICAgIAogICAgICAgICAgICAgICAgdmFyIGh0bWxfODk3YjRhMmYyMTRkNDRmNDgzNjEyYjA3ZmY5OGE2Y2EgPSAkKCc8ZGl2IGlkPSJodG1sXzg5N2I0YTJmMjE0ZDQ0ZjQ4MzYxMmIwN2ZmOThhNmNhIiBzdHlsZT0id2lkdGg6IDEwMC4wJTsgaGVpZ2h0OiAxMDAuMCU7Ij5HeW0gLyBGaXRuZXNzIENlbnRlcjwvZGl2PicpWzBdOwogICAgICAgICAgICAgICAgcG9wdXBfYzQyYzdkM2I5YTUyNDcyNzhhMGEzOTY1NmM0N2VjM2Quc2V0Q29udGVudChodG1sXzg5N2I0YTJmMjE0ZDQ0ZjQ4MzYxMmIwN2ZmOThhNmNhKTsKICAgICAgICAgICAgCgogICAgICAgICAgICBjaXJjbGVfbWFya2VyXzBhMDgwNTZhOGIyZTRhYTA4ZWFjODE5YjFkNzBhYjRiLmJpbmRQb3B1cChwb3B1cF9jNDJjN2QzYjlhNTI0NzI3OGEwYTM5NjU2YzQ3ZWMzZCk7CgogICAgICAgICAgICAKICAgICAgICAKICAgIAogICAgICAgICAgICB2YXIgY2lyY2xlX21hcmtlcl9jYWI3NDQyMGZlODM0NjA2YjM2ZmY4ZTBhYzQ5Nzk0MCA9IEwuY2lyY2xlTWFya2VyKAogICAgICAgICAgICAgICAgWzQwLjcxMjYxMjQ2NTAxOTgzLC03NC4wMDkzODAzMjA4NzYyOF0sCiAgICAgICAgICAgICAgICB7CiAgImJ1YmJsaW5nTW91c2VFdmVudHMiOiB0cnVlLAogICJjb2xvciI6ICJibHVlIiwKICAiZGFzaEFycmF5IjogbnVsbCwKICAiZGFzaE9mZnNldCI6IG51bGwsCiAgImZpbGwiOiB0cnVlLAogICJmaWxsQ29sb3IiOiAiYmx1ZSIsCiAgImZpbGxPcGFjaXR5IjogMC42LAogICJmaWxsUnVsZSI6ICJldmVub2RkIiwKICAibGluZUNhcCI6ICJyb3VuZCIsCiAgImxpbmVKb2luIjogInJvdW5kIiwKICAib3BhY2l0eSI6IDEuMCwKICAicmFkaXVzIjogNSwKICAic3Ryb2tlIjogdHJ1ZSwKICAid2VpZ2h0IjogMwp9CiAgICAgICAgICAgICAgICApLmFkZFRvKG1hcF8yM2MzYzU2ZTNjZmY0ODA4OWFhZTg0YWE2NDIyMzdkZCk7CiAgICAgICAgICAgIAogICAgCiAgICAgICAgICAgIHZhciBwb3B1cF9jOTA1MTliMzY0ZjI0ZDc3OTgwYzY4M2I0NTExMTk4NyA9IEwucG9wdXAoe21heFdpZHRoOiAnMzAwJ30pOwoKICAgICAgICAgICAgCiAgICAgICAgICAgICAgICB2YXIgaHRtbF81YWRjODQ4OWU4NzQ0NzBhYjE1ODhkM2I3YjRhYjUwOSA9ICQoJzxkaXYgaWQ9Imh0bWxfNWFkYzg0ODllODc0NDcwYWIxNTg4ZDNiN2I0YWI1MDkiIHN0eWxlPSJ3aWR0aDogMTAwLjAlOyBoZWlnaHQ6IDEwMC4wJTsiPkhvdGVsPC9kaXY+JylbMF07CiAgICAgICAgICAgICAgICBwb3B1cF9jOTA1MTliMzY0ZjI0ZDc3OTgwYzY4M2I0NTExMTk4Ny5zZXRDb250ZW50KGh0bWxfNWFkYzg0ODllODc0NDcwYWIxNTg4ZDNiN2I0YWI1MDkpOwogICAgICAgICAgICAKCiAgICAgICAgICAgIGNpcmNsZV9tYXJrZXJfY2FiNzQ0MjBmZTgzNDYwNmIzNmZmOGUwYWM0OTc5NDAuYmluZFBvcHVwKHBvcHVwX2M5MDUxOWIzNjRmMjRkNzc5ODBjNjgzYjQ1MTExOTg3KTsKCiAgICAgICAgICAgIAogICAgICAgIAogICAgCiAgICAgICAgICAgIHZhciBjaXJjbGVfbWFya2VyXzE1N2VlNjhiOTdmZTRjMWJhMmRlYzg5M2U3YzIzNmMzID0gTC5jaXJjbGVNYXJrZXIoCiAgICAgICAgICAgICAgICBbNDAuNzE3MDEwMTE0MDk5MDYsLTc0LjAwODA0MjQ0NTYyMjI1XSwKICAgICAgICAgICAgICAgIHsKICAiYnViYmxpbmdNb3VzZUV2ZW50cyI6IHRydWUsCiAgImNvbG9yIjogImJsdWUiLAogICJkYXNoQXJyYXkiOiBudWxsLAogICJkYXNoT2Zmc2V0IjogbnVsbCwKICAiZmlsbCI6IHRydWUsCiAgImZpbGxDb2xvciI6ICJibHVlIiwKICAiZmlsbE9wYWNpdHkiOiAwLjYsCiAgImZpbGxSdWxlIjogImV2ZW5vZGQiLAogICJsaW5lQ2FwIjogInJvdW5kIiwKICAibGluZUpvaW4iOiAicm91bmQiLAogICJvcGFjaXR5IjogMS4wLAogICJyYWRpdXMiOiA1LAogICJzdHJva2UiOiB0cnVlLAogICJ3ZWlnaHQiOiAzCn0KICAgICAgICAgICAgICAgICkuYWRkVG8obWFwXzIzYzNjNTZlM2NmZjQ4MDg5YWFlODRhYTY0MjIzN2RkKTsKICAgICAgICAgICAgCiAgICAKICAgICAgICAgICAgdmFyIHBvcHVwXzhmNzQ0NTliZDBhNDQ3ODU5YjAzYzc2Mzc4MDdlNjMyID0gTC5wb3B1cCh7bWF4V2lkdGg6ICczMDAnfSk7CgogICAgICAgICAgICAKICAgICAgICAgICAgICAgIHZhciBodG1sX2UyZmNmZjdjYjQ4MTRlZmRiNDg0NzJlZGE1NzdmOWYxID0gJCgnPGRpdiBpZD0iaHRtbF9lMmZjZmY3Y2I0ODE0ZWZkYjQ4NDcyZWRhNTc3ZjlmMSIgc3R5bGU9IndpZHRoOiAxMDAuMCU7IGhlaWdodDogMTAwLjAlOyI+RnJlbmNoIFJlc3RhdXJhbnQ8L2Rpdj4nKVswXTsKICAgICAgICAgICAgICAgIHBvcHVwXzhmNzQ0NTliZDBhNDQ3ODU5YjAzYzc2Mzc4MDdlNjMyLnNldENvbnRlbnQoaHRtbF9lMmZjZmY3Y2I0ODE0ZWZkYjQ4NDcyZWRhNTc3ZjlmMSk7CiAgICAgICAgICAgIAoKICAgICAgICAgICAgY2lyY2xlX21hcmtlcl8xNTdlZTY4Yjk3ZmU0YzFiYTJkZWM4OTNlN2MyMzZjMy5iaW5kUG9wdXAocG9wdXBfOGY3NDQ1OWJkMGE0NDc4NTliMDNjNzYzNzgwN2U2MzIpOwoKICAgICAgICAgICAgCiAgICAgICAgCiAgICAKICAgICAgICAgICAgdmFyIGNpcmNsZV9tYXJrZXJfODJkZGVlMjk5NTRhNDI2NGE2YjY2ODNhMzE4ZmE3MDYgPSBMLmNpcmNsZU1hcmtlcigKICAgICAgICAgICAgICAgIFs0MC43MTczOTQ0NTI5MTY1LC03NC4wMTAxMDMyNDYwNzEyNV0sCiAgICAgICAgICAgICAgICB7CiAgImJ1YmJsaW5nTW91c2VFdmVudHMiOiB0cnVlLAogICJjb2xvciI6ICJibHVlIiwKICAiZGFzaEFycmF5IjogbnVsbCwKICAiZGFzaE9mZnNldCI6IG51bGwsCiAgImZpbGwiOiB0cnVlLAogICJmaWxsQ29sb3IiOiAiYmx1ZSIsCiAgImZpbGxPcGFjaXR5IjogMC42LAogICJmaWxsUnVsZSI6ICJldmVub2RkIiwKICAibGluZUNhcCI6ICJyb3VuZCIsCiAgImxpbmVKb2luIjogInJvdW5kIiwKICAib3BhY2l0eSI6IDEuMCwKICAicmFkaXVzIjogNSwKICAic3Ryb2tlIjogdHJ1ZSwKICAid2VpZ2h0IjogMwp9CiAgICAgICAgICAgICAgICApLmFkZFRvKG1hcF8yM2MzYzU2ZTNjZmY0ODA4OWFhZTg0YWE2NDIyMzdkZCk7CiAgICAgICAgICAgIAogICAgCiAgICAgICAgICAgIHZhciBwb3B1cF82MDhjMTU1MWVhY2I0MzExODcxOGU3NTExMjg2MjhmNSA9IEwucG9wdXAoe21heFdpZHRoOiAnMzAwJ30pOwoKICAgICAgICAgICAgCiAgICAgICAgICAgICAgICB2YXIgaHRtbF82ZDA4M2FhNTIzOTA0ZjRmODY0OTk3NjFhNzYxMDE0OCA9ICQoJzxkaXYgaWQ9Imh0bWxfNmQwODNhYTUyMzkwNGY0Zjg2NDk5NzYxYTc2MTAxNDgiIHN0eWxlPSJ3aWR0aDogMTAwLjAlOyBoZWlnaHQ6IDEwMC4wJTsiPkNvZmZlZSBTaG9wPC9kaXY+JylbMF07CiAgICAgICAgICAgICAgICBwb3B1cF82MDhjMTU1MWVhY2I0MzExODcxOGU3NTExMjg2MjhmNS5zZXRDb250ZW50KGh0bWxfNmQwODNhYTUyMzkwNGY0Zjg2NDk5NzYxYTc2MTAxNDgpOwogICAgICAgICAgICAKCiAgICAgICAgICAgIGNpcmNsZV9tYXJrZXJfODJkZGVlMjk5NTRhNDI2NGE2YjY2ODNhMzE4ZmE3MDYuYmluZFBvcHVwKHBvcHVwXzYwOGMxNTUxZWFjYjQzMTE4NzE4ZTc1MTEyODYyOGY1KTsKCiAgICAgICAgICAgIAogICAgICAgIAogICAgCiAgICAgICAgICAgIHZhciBjaXJjbGVfbWFya2VyXzQ3ZTQ1YzMyMWI0MTRhOWRhNzRmY2VlNDE4YTg1Mjk4ID0gTC5jaXJjbGVNYXJrZXIoCiAgICAgICAgICAgICAgICBbNDAuNzE2ODAyMDMzNTc0MTI2LC03NC4wMTA4Nzk5OTM0Mzg3Ml0sCiAgICAgICAgICAgICAgICB7CiAgImJ1YmJsaW5nTW91c2VFdmVudHMiOiB0cnVlLAogICJjb2xvciI6ICJibHVlIiwKICAiZGFzaEFycmF5IjogbnVsbCwKICAiZGFzaE9mZnNldCI6IG51bGwsCiAgImZpbGwiOiB0cnVlLAogICJmaWxsQ29sb3IiOiAiYmx1ZSIsCiAgImZpbGxPcGFjaXR5IjogMC42LAogICJmaWxsUnVsZSI6ICJldmVub2RkIiwKICAibGluZUNhcCI6ICJyb3VuZCIsCiAgImxpbmVKb2luIjogInJvdW5kIiwKICAib3BhY2l0eSI6IDEuMCwKICAicmFkaXVzIjogNSwKICAic3Ryb2tlIjogdHJ1ZSwKICAid2VpZ2h0IjogMwp9CiAgICAgICAgICAgICAgICApLmFkZFRvKG1hcF8yM2MzYzU2ZTNjZmY0ODA4OWFhZTg0YWE2NDIyMzdkZCk7CiAgICAgICAgICAgIAogICAgCiAgICAgICAgICAgIHZhciBwb3B1cF84MDY5MjVkNDQyYjg0NDhmYjFmMjI0OGQ1MDNhYzYxMCA9IEwucG9wdXAoe21heFdpZHRoOiAnMzAwJ30pOwoKICAgICAgICAgICAgCiAgICAgICAgICAgICAgICB2YXIgaHRtbF9hNmYwZjc3MjBjN2U0OWE5OWQ4ZjYyNTY3ZDllZWJkYiA9ICQoJzxkaXYgaWQ9Imh0bWxfYTZmMGY3NzIwYzdlNDlhOTlkOGY2MjU2N2Q5ZWViZGIiIHN0eWxlPSJ3aWR0aDogMTAwLjAlOyBoZWlnaHQ6IDEwMC4wJTsiPkZhcm1lcnMgTWFya2V0PC9kaXY+JylbMF07CiAgICAgICAgICAgICAgICBwb3B1cF84MDY5MjVkNDQyYjg0NDhmYjFmMjI0OGQ1MDNhYzYxMC5zZXRDb250ZW50KGh0bWxfYTZmMGY3NzIwYzdlNDlhOTlkOGY2MjU2N2Q5ZWViZGIpOwogICAgICAgICAgICAKCiAgICAgICAgICAgIGNpcmNsZV9tYXJrZXJfNDdlNDVjMzIxYjQxNGE5ZGE3NGZjZWU0MThhODUyOTguYmluZFBvcHVwKHBvcHVwXzgwNjkyNWQ0NDJiODQ0OGZiMWYyMjQ4ZDUwM2FjNjEwKTsKCiAgICAgICAgICAgIAogICAgICAgIAogICAgCiAgICAgICAgICAgIHZhciBjaXJjbGVfbWFya2VyXzJmMTA2MWY5NTliMDRkOTY5ZDM0NGVhMmQ5MmFhOTVjID0gTC5jaXJjbGVNYXJrZXIoCiAgICAgICAgICAgICAgICBbNDAuNzE1MDQ1MTI1NTg5OTYsLTc0LjAxMTUwODcxMDI4MjFdLAogICAgICAgICAgICAgICAgewogICJidWJibGluZ01vdXNlRXZlbnRzIjogdHJ1ZSwKICAiY29sb3IiOiAiYmx1ZSIsCiAgImRhc2hBcnJheSI6IG51bGwsCiAgImRhc2hPZmZzZXQiOiBudWxsLAogICJmaWxsIjogdHJ1ZSwKICAiZmlsbENvbG9yIjogImJsdWUiLAogICJmaWxsT3BhY2l0eSI6IDAuNiwKICAiZmlsbFJ1bGUiOiAiZXZlbm9kZCIsCiAgImxpbmVDYXAiOiAicm91bmQiLAogICJsaW5lSm9pbiI6ICJyb3VuZCIsCiAgIm9wYWNpdHkiOiAxLjAsCiAgInJhZGl1cyI6IDUsCiAgInN0cm9rZSI6IHRydWUsCiAgIndlaWdodCI6IDMKfQogICAgICAgICAgICAgICAgKS5hZGRUbyhtYXBfMjNjM2M1NmUzY2ZmNDgwODlhYWU4NGFhNjQyMjM3ZGQpOwogICAgICAgICAgICAKICAgIAogICAgICAgICAgICB2YXIgcG9wdXBfNTM0MmUxYTk4YTY1NDY0ZTgzNjE0ZDFhYTU1YjQ1ZTYgPSBMLnBvcHVwKHttYXhXaWR0aDogJzMwMCd9KTsKCiAgICAgICAgICAgIAogICAgICAgICAgICAgICAgdmFyIGh0bWxfNjU5YzQ1ZTQ0ZDIwNDNmZjkxNjk4Mjk2MWQ4ZjIzMzggPSAkKCc8ZGl2IGlkPSJodG1sXzY1OWM0NWU0NGQyMDQzZmY5MTY5ODI5NjFkOGYyMzM4IiBzdHlsZT0id2lkdGg6IDEwMC4wJTsgaGVpZ2h0OiAxMDAuMCU7Ij5Db2ZmZWUgU2hvcDwvZGl2PicpWzBdOwogICAgICAgICAgICAgICAgcG9wdXBfNTM0MmUxYTk4YTY1NDY0ZTgzNjE0ZDFhYTU1YjQ1ZTYuc2V0Q29udGVudChodG1sXzY1OWM0NWU0NGQyMDQzZmY5MTY5ODI5NjFkOGYyMzM4KTsKICAgICAgICAgICAgCgogICAgICAgICAgICBjaXJjbGVfbWFya2VyXzJmMTA2MWY5NTliMDRkOTY5ZDM0NGVhMmQ5MmFhOTVjLmJpbmRQb3B1cChwb3B1cF81MzQyZTFhOThhNjU0NjRlODM2MTRkMWFhNTViNDVlNik7CgogICAgICAgICAgICAKICAgICAgICAKICAgIAogICAgICAgICAgICB2YXIgY2lyY2xlX21hcmtlcl83Zjc2ZmNlNWExZGI0Yjc1ODRiOThiMDk5Njk1OGM5YiA9IEwuY2lyY2xlTWFya2VyKAogICAgICAgICAgICAgICAgWzQwLjcxNjc1MTc2MTMwNzI0LC03NC4wMDU3MTE1MDg1NTQ1N10sCiAgICAgICAgICAgICAgICB7CiAgImJ1YmJsaW5nTW91c2VFdmVudHMiOiB0cnVlLAogICJjb2xvciI6ICJibHVlIiwKICAiZGFzaEFycmF5IjogbnVsbCwKICAiZGFzaE9mZnNldCI6IG51bGwsCiAgImZpbGwiOiB0cnVlLAogICJmaWxsQ29sb3IiOiAiYmx1ZSIsCiAgImZpbGxPcGFjaXR5IjogMC42LAogICJmaWxsUnVsZSI6ICJldmVub2RkIiwKICAibGluZUNhcCI6ICJyb3VuZCIsCiAgImxpbmVKb2luIjogInJvdW5kIiwKICAib3BhY2l0eSI6IDEuMCwKICAicmFkaXVzIjogNSwKICAic3Ryb2tlIjogdHJ1ZSwKICAid2VpZ2h0IjogMwp9CiAgICAgICAgICAgICAgICApLmFkZFRvKG1hcF8yM2MzYzU2ZTNjZmY0ODA4OWFhZTg0YWE2NDIyMzdkZCk7CiAgICAgICAgICAgIAogICAgCiAgICAgICAgICAgIHZhciBwb3B1cF8xNzcwMzQ2ZTY1ZTQ0NzNiODYyY2EzODc3YzRmYjc1MSA9IEwucG9wdXAoe21heFdpZHRoOiAnMzAwJ30pOwoKICAgICAgICAgICAgCiAgICAgICAgICAgICAgICB2YXIgaHRtbF82ODBiOWZjMmNlYmY0ZjYwODQxM2VmOGU5OTQyNmIyYiA9ICQoJzxkaXYgaWQ9Imh0bWxfNjgwYjlmYzJjZWJmNGY2MDg0MTNlZjhlOTk0MjZiMmIiIHN0eWxlPSJ3aWR0aDogMTAwLjAlOyBoZWlnaHQ6IDEwMC4wJTsiPk1vbGVjdWxhciBHYXN0cm9ub215IFJlc3RhdXJhbnQ8L2Rpdj4nKVswXTsKICAgICAgICAgICAgICAgIHBvcHVwXzE3NzAzNDZlNjVlNDQ3M2I4NjJjYTM4NzdjNGZiNzUxLnNldENvbnRlbnQoaHRtbF82ODBiOWZjMmNlYmY0ZjYwODQxM2VmOGU5OTQyNmIyYik7CiAgICAgICAgICAgIAoKICAgICAgICAgICAgY2lyY2xlX21hcmtlcl83Zjc2ZmNlNWExZGI0Yjc1ODRiOThiMDk5Njk1OGM5Yi5iaW5kUG9wdXAocG9wdXBfMTc3MDM0NmU2NWU0NDczYjg2MmNhMzg3N2M0ZmI3NTEpOwoKICAgICAgICAgICAgCiAgICAgICAgCiAgICAKICAgICAgICAgICAgdmFyIGNpcmNsZV9tYXJrZXJfOTJmMzMzN2I5YzYxNGU3M2JmOWU3NTkzOGFkYWNhMzUgPSBMLmNpcmNsZU1hcmtlcigKICAgICAgICAgICAgICAgIFs0MC43MTcxNzI3NTgwMTE2OCwtNzQuMDA5MzI4NjkxMjUxMTddLAogICAgICAgICAgICAgICAgewogICJidWJibGluZ01vdXNlRXZlbnRzIjogdHJ1ZSwKICAiY29sb3IiOiAiYmx1ZSIsCiAgImRhc2hBcnJheSI6IG51bGwsCiAgImRhc2hPZmZzZXQiOiBudWxsLAogICJmaWxsIjogdHJ1ZSwKICAiZmlsbENvbG9yIjogImJsdWUiLAogICJmaWxsT3BhY2l0eSI6IDAuNiwKICAiZmlsbFJ1bGUiOiAiZXZlbm9kZCIsCiAgImxpbmVDYXAiOiAicm91bmQiLAogICJsaW5lSm9pbiI6ICJyb3VuZCIsCiAgIm9wYWNpdHkiOiAxLjAsCiAgInJhZGl1cyI6IDUsCiAgInN0cm9rZSI6IHRydWUsCiAgIndlaWdodCI6IDMKfQogICAgICAgICAgICAgICAgKS5hZGRUbyhtYXBfMjNjM2M1NmUzY2ZmNDgwODlhYWU4NGFhNjQyMjM3ZGQpOwogICAgICAgICAgICAKICAgIAogICAgICAgICAgICB2YXIgcG9wdXBfYzNkMzdiMmM4ZTQxNGQyYWExMzg0ODZhMWY0OWRkOGQgPSBMLnBvcHVwKHttYXhXaWR0aDogJzMwMCd9KTsKCiAgICAgICAgICAgIAogICAgICAgICAgICAgICAgdmFyIGh0bWxfZTI0Y2E4NmI2MTQyNDJlNmEwNDljNDJhYWMwZDQ2MTIgPSAkKCc8ZGl2IGlkPSJodG1sX2UyNGNhODZiNjE0MjQyZTZhMDQ5YzQyYWFjMGQ0NjEyIiBzdHlsZT0id2lkdGg6IDEwMC4wJTsgaGVpZ2h0OiAxMDAuMCU7Ij5QYXJrPC9kaXY+JylbMF07CiAgICAgICAgICAgICAgICBwb3B1cF9jM2QzN2IyYzhlNDE0ZDJhYTEzODQ4NmExZjQ5ZGQ4ZC5zZXRDb250ZW50KGh0bWxfZTI0Y2E4NmI2MTQyNDJlNmEwNDljNDJhYWMwZDQ2MTIpOwogICAgICAgICAgICAKCiAgICAgICAgICAgIGNpcmNsZV9tYXJrZXJfOTJmMzMzN2I5YzYxNGU3M2JmOWU3NTkzOGFkYWNhMzUuYmluZFBvcHVwKHBvcHVwX2MzZDM3YjJjOGU0MTRkMmFhMTM4NDg2YTFmNDlkZDhkKTsKCiAgICAgICAgICAgIAogICAgICAgIAogICAgCiAgICAgICAgICAgIHZhciBjaXJjbGVfbWFya2VyXzIxOWVmMThiNGNiMDQzNTBhZDBlM2MzMTE1MGVjMTA4ID0gTC5jaXJjbGVNYXJrZXIoCiAgICAgICAgICAgICAgICBbNDAuNzEyMTM3MjQzNDM2OTgsLTc0LjAwODM5NDU3Njg1MDA1XSwKICAgICAgICAgICAgICAgIHsKICAiYnViYmxpbmdNb3VzZUV2ZW50cyI6IHRydWUsCiAgImNvbG9yIjogImJsdWUiLAogICJkYXNoQXJyYXkiOiBudWxsLAogICJkYXNoT2Zmc2V0IjogbnVsbCwKICAiZmlsbCI6IHRydWUsCiAgImZpbGxDb2xvciI6ICJibHVlIiwKICAiZmlsbE9wYWNpdHkiOiAwLjYsCiAgImZpbGxSdWxlIjogImV2ZW5vZGQiLAogICJsaW5lQ2FwIjogInJvdW5kIiwKICAibGluZUpvaW4iOiAicm91bmQiLAogICJvcGFjaXR5IjogMS4wLAogICJyYWRpdXMiOiA1LAogICJzdHJva2UiOiB0cnVlLAogICJ3ZWlnaHQiOiAzCn0KICAgICAgICAgICAgICAgICkuYWRkVG8obWFwXzIzYzNjNTZlM2NmZjQ4MDg5YWFlODRhYTY0MjIzN2RkKTsKICAgICAgICAgICAgCiAgICAKICAgICAgICAgICAgdmFyIHBvcHVwXzIyYjRmYmIxNGQ5MjRjNjQ5OGE4NjAyNTBiYWI5NjJiID0gTC5wb3B1cCh7bWF4V2lkdGg6ICczMDAnfSk7CgogICAgICAgICAgICAKICAgICAgICAgICAgICAgIHZhciBodG1sXzg0Y2Q2NGU5M2ZjZTQyNGY4MTAyNmY1YzRmY2Q3ZDE4ID0gJCgnPGRpdiBpZD0iaHRtbF84NGNkNjRlOTNmY2U0MjRmODEwMjZmNWM0ZmNkN2QxOCIgc3R5bGU9IndpZHRoOiAxMDAuMCU7IGhlaWdodDogMTAwLjAlOyI+Q29mZmVlIFNob3A8L2Rpdj4nKVswXTsKICAgICAgICAgICAgICAgIHBvcHVwXzIyYjRmYmIxNGQ5MjRjNjQ5OGE4NjAyNTBiYWI5NjJiLnNldENvbnRlbnQoaHRtbF84NGNkNjRlOTNmY2U0MjRmODEwMjZmNWM0ZmNkN2QxOCk7CiAgICAgICAgICAgIAoKICAgICAgICAgICAgY2lyY2xlX21hcmtlcl8yMTllZjE4YjRjYjA0MzUwYWQwZTNjMzExNTBlYzEwOC5iaW5kUG9wdXAocG9wdXBfMjJiNGZiYjE0ZDkyNGM2NDk4YTg2MDI1MGJhYjk2MmIpOwoKICAgICAgICAgICAgCiAgICAgICAgCiAgICAKICAgICAgICAgICAgdmFyIGNpcmNsZV9tYXJrZXJfODViYzE1OGY2ZjgyNGRlZTg3ZTRlZGU4Y2I0OTAwNjcgPSBMLmNpcmNsZU1hcmtlcigKICAgICAgICAgICAgICAgIFs0MC43MTYxNzgxOTkwNjI0MSwtNzQuMDEzMDA3MzgzNzU5OV0sCiAgICAgICAgICAgICAgICB7CiAgImJ1YmJsaW5nTW91c2VFdmVudHMiOiB0cnVlLAogICJjb2xvciI6ICJibHVlIiwKICAiZGFzaEFycmF5IjogbnVsbCwKICAiZGFzaE9mZnNldCI6IG51bGwsCiAgImZpbGwiOiB0cnVlLAogICJmaWxsQ29sb3IiOiAiYmx1ZSIsCiAgImZpbGxPcGFjaXR5IjogMC42LAogICJmaWxsUnVsZSI6ICJldmVub2RkIiwKICAibGluZUNhcCI6ICJyb3VuZCIsCiAgImxpbmVKb2luIjogInJvdW5kIiwKICAib3BhY2l0eSI6IDEuMCwKICAicmFkaXVzIjogNSwKICAic3Ryb2tlIjogdHJ1ZSwKICAid2VpZ2h0IjogMwp9CiAgICAgICAgICAgICAgICApLmFkZFRvKG1hcF8yM2MzYzU2ZTNjZmY0ODA4OWFhZTg0YWE2NDIyMzdkZCk7CiAgICAgICAgICAgIAogICAgCiAgICAgICAgICAgIHZhciBwb3B1cF9kYjk5OTBiMDU0YjE0MTg5ODYxMWY2ZTBjM2Y5YmYxNiA9IEwucG9wdXAoe21heFdpZHRoOiAnMzAwJ30pOwoKICAgICAgICAgICAgCiAgICAgICAgICAgICAgICB2YXIgaHRtbF9iMTJiYzBkY2UzNGQ0MWI1ODJkYjgyMmRkMDI5M2RlMSA9ICQoJzxkaXYgaWQ9Imh0bWxfYjEyYmMwZGNlMzRkNDFiNTgyZGI4MjJkZDAyOTNkZTEiIHN0eWxlPSJ3aWR0aDogMTAwLjAlOyBoZWlnaHQ6IDEwMC4wJTsiPkN5Y2xlIFN0dWRpbzwvZGl2PicpWzBdOwogICAgICAgICAgICAgICAgcG9wdXBfZGI5OTkwYjA1NGIxNDE4OTg2MTFmNmUwYzNmOWJmMTYuc2V0Q29udGVudChodG1sX2IxMmJjMGRjZTM0ZDQxYjU4MmRiODIyZGQwMjkzZGUxKTsKICAgICAgICAgICAgCgogICAgICAgICAgICBjaXJjbGVfbWFya2VyXzg1YmMxNThmNmY4MjRkZWU4N2U0ZWRlOGNiNDkwMDY3LmJpbmRQb3B1cChwb3B1cF9kYjk5OTBiMDU0YjE0MTg5ODYxMWY2ZTBjM2Y5YmYxNik7CgogICAgICAgICAgICAKICAgICAgICAKICAgIAogICAgICAgICAgICB2YXIgY2lyY2xlX21hcmtlcl85MTQ1NTA4ODliYmU0MjQzODJmZTFlMDUyNTRlMTlmMiA9IEwuY2lyY2xlTWFya2VyKAogICAgICAgICAgICAgICAgWzQwLjcxMjQxNTA4NTQ5NjkyLC03NC4wMDY3MjQyMjc2NzgyMl0sCiAgICAgICAgICAgICAgICB7CiAgImJ1YmJsaW5nTW91c2VFdmVudHMiOiB0cnVlLAogICJjb2xvciI6ICJibHVlIiwKICAiZGFzaEFycmF5IjogbnVsbCwKICAiZGFzaE9mZnNldCI6IG51bGwsCiAgImZpbGwiOiB0cnVlLAogICJmaWxsQ29sb3IiOiAiYmx1ZSIsCiAgImZpbGxPcGFjaXR5IjogMC42LAogICJmaWxsUnVsZSI6ICJldmVub2RkIiwKICAibGluZUNhcCI6ICJyb3VuZCIsCiAgImxpbmVKb2luIjogInJvdW5kIiwKICAib3BhY2l0eSI6IDEuMCwKICAicmFkaXVzIjogNSwKICAic3Ryb2tlIjogdHJ1ZSwKICAid2VpZ2h0IjogMwp9CiAgICAgICAgICAgICAgICApLmFkZFRvKG1hcF8yM2MzYzU2ZTNjZmY0ODA4OWFhZTg0YWE2NDIyMzdkZCk7CiAgICAgICAgICAgIAogICAgCiAgICAgICAgICAgIHZhciBwb3B1cF85ZjgwMDI2M2M4YWE0N2YyYTJjNmM2MzY1NzZhMTY2ZiA9IEwucG9wdXAoe21heFdpZHRoOiAnMzAwJ30pOwoKICAgICAgICAgICAgCiAgICAgICAgICAgICAgICB2YXIgaHRtbF8zMThjODQzZDEwMmU0YTZlODE3NTI5N2M3NmEzNGQ2MSA9ICQoJzxkaXYgaWQ9Imh0bWxfMzE4Yzg0M2QxMDJlNGE2ZTgxNzUyOTdjNzZhMzRkNjEiIHN0eWxlPSJ3aWR0aDogMTAwLjAlOyBoZWlnaHQ6IDEwMC4wJTsiPlBhcms8L2Rpdj4nKVswXTsKICAgICAgICAgICAgICAgIHBvcHVwXzlmODAwMjYzYzhhYTQ3ZjJhMmM2YzYzNjU3NmExNjZmLnNldENvbnRlbnQoaHRtbF8zMThjODQzZDEwMmU0YTZlODE3NTI5N2M3NmEzNGQ2MSk7CiAgICAgICAgICAgIAoKICAgICAgICAgICAgY2lyY2xlX21hcmtlcl85MTQ1NTA4ODliYmU0MjQzODJmZTFlMDUyNTRlMTlmMi5iaW5kUG9wdXAocG9wdXBfOWY4MDAyNjNjOGFhNDdmMmEyYzZjNjM2NTc2YTE2NmYpOwoKICAgICAgICAgICAgCiAgICAgICAgCiAgICAKICAgICAgICAgICAgdmFyIGNpcmNsZV9tYXJrZXJfYzcxNjQzYzU5YzYyNDFhOTg2MzNjNjNiOTAwNTRjNWUgPSBMLmNpcmNsZU1hcmtlcigKICAgICAgICAgICAgICAgIFs0MC43MTc1OTM5NDkwNTMyLC03NC4wMTIxOTgwMTQ1NzYyN10sCiAgICAgICAgICAgICAgICB7CiAgImJ1YmJsaW5nTW91c2VFdmVudHMiOiB0cnVlLAogICJjb2xvciI6ICJibHVlIiwKICAiZGFzaEFycmF5IjogbnVsbCwKICAiZGFzaE9mZnNldCI6IG51bGwsCiAgImZpbGwiOiB0cnVlLAogICJmaWxsQ29sb3IiOiAiYmx1ZSIsCiAgImZpbGxPcGFjaXR5IjogMC42LAogICJmaWxsUnVsZSI6ICJldmVub2RkIiwKICAibGluZUNhcCI6ICJyb3VuZCIsCiAgImxpbmVKb2luIjogInJvdW5kIiwKICAib3BhY2l0eSI6IDEuMCwKICAicmFkaXVzIjogNSwKICAic3Ryb2tlIjogdHJ1ZSwKICAid2VpZ2h0IjogMwp9CiAgICAgICAgICAgICAgICApLmFkZFRvKG1hcF8yM2MzYzU2ZTNjZmY0ODA4OWFhZTg0YWE2NDIyMzdkZCk7CiAgICAgICAgICAgIAogICAgCiAgICAgICAgICAgIHZhciBwb3B1cF9hYWI5N2Y3NTAyODA0NTJjYjkwZDg2MTViZmNhMWViMyA9IEwucG9wdXAoe21heFdpZHRoOiAnMzAwJ30pOwoKICAgICAgICAgICAgCiAgICAgICAgICAgICAgICB2YXIgaHRtbF9lNjMxYmIyM2RlOWY0YzkzOTk2ZjZhZDYwMWQ5ZDdkZCA9ICQoJzxkaXYgaWQ9Imh0bWxfZTYzMWJiMjNkZTlmNGM5Mzk5NmY2YWQ2MDFkOWQ3ZGQiIHN0eWxlPSJ3aWR0aDogMTAwLjAlOyBoZWlnaHQ6IDEwMC4wJTsiPlBlcmZvcm1pbmcgQXJ0cyBWZW51ZTwvZGl2PicpWzBdOwogICAgICAgICAgICAgICAgcG9wdXBfYWFiOTdmNzUwMjgwNDUyY2I5MGQ4NjE1YmZjYTFlYjMuc2V0Q29udGVudChodG1sX2U2MzFiYjIzZGU5ZjRjOTM5OTZmNmFkNjAxZDlkN2RkKTsKICAgICAgICAgICAgCgogICAgICAgICAgICBjaXJjbGVfbWFya2VyX2M3MTY0M2M1OWM2MjQxYTk4NjMzYzYzYjkwMDU0YzVlLmJpbmRQb3B1cChwb3B1cF9hYWI5N2Y3NTAyODA0NTJjYjkwZDg2MTViZmNhMWViMyk7CgogICAgICAgICAgICAKICAgICAgICAKICAgIAogICAgICAgICAgICB2YXIgY2lyY2xlX21hcmtlcl84MWMzMmM4OWQzMDY0MDMxOGY2NDRkMzZkOWFkNDcxNyA9IEwuY2lyY2xlTWFya2VyKAogICAgICAgICAgICAgICAgWzQwLjcxMzA2OTQxMTE2ODcxLC03NC4wMTMxMzMwNDkwMTEyM10sCiAgICAgICAgICAgICAgICB7CiAgImJ1YmJsaW5nTW91c2VFdmVudHMiOiB0cnVlLAogICJjb2xvciI6ICJibHVlIiwKICAiZGFzaEFycmF5IjogbnVsbCwKICAiZGFzaE9mZnNldCI6IG51bGwsCiAgImZpbGwiOiB0cnVlLAogICJmaWxsQ29sb3IiOiAiYmx1ZSIsCiAgImZpbGxPcGFjaXR5IjogMC42LAogICJmaWxsUnVsZSI6ICJldmVub2RkIiwKICAibGluZUNhcCI6ICJyb3VuZCIsCiAgImxpbmVKb2luIjogInJvdW5kIiwKICAib3BhY2l0eSI6IDEuMCwKICAicmFkaXVzIjogNSwKICAic3Ryb2tlIjogdHJ1ZSwKICAid2VpZ2h0IjogMwp9CiAgICAgICAgICAgICAgICApLmFkZFRvKG1hcF8yM2MzYzU2ZTNjZmY0ODA4OWFhZTg0YWE2NDIyMzdkZCk7CiAgICAgICAgICAgIAogICAgCiAgICAgICAgICAgIHZhciBwb3B1cF8wMjJlMjAzYTlmZTk0MDYyYjE0OGE3MDlhMTgyMTkzYyA9IEwucG9wdXAoe21heFdpZHRoOiAnMzAwJ30pOwoKICAgICAgICAgICAgCiAgICAgICAgICAgICAgICB2YXIgaHRtbF9jNWU3MDA4MTY2ZmE0MDY4YTNiZTg4YjczYjI3MDkwZCA9ICQoJzxkaXYgaWQ9Imh0bWxfYzVlNzAwODE2NmZhNDA2OGEzYmU4OGI3M2IyNzA5MGQiIHN0eWxlPSJ3aWR0aDogMTAwLjAlOyBoZWlnaHQ6IDEwMC4wJTsiPkJ1aWxkaW5nPC9kaXY+JylbMF07CiAgICAgICAgICAgICAgICBwb3B1cF8wMjJlMjAzYTlmZTk0MDYyYjE0OGE3MDlhMTgyMTkzYy5zZXRDb250ZW50KGh0bWxfYzVlNzAwODE2NmZhNDA2OGEzYmU4OGI3M2IyNzA5MGQpOwogICAgICAgICAgICAKCiAgICAgICAgICAgIGNpcmNsZV9tYXJrZXJfODFjMzJjODlkMzA2NDAzMThmNjQ0ZDM2ZDlhZDQ3MTcuYmluZFBvcHVwKHBvcHVwXzAyMmUyMDNhOWZlOTQwNjJiMTQ4YTcwOWExODIxOTNjKTsKCiAgICAgICAgICAgIAogICAgICAgIAogICAgCiAgICAgICAgICAgIHZhciBjaXJjbGVfbWFya2VyXzEwYjQxNDUyYTg1ZTQ0YTNhZDkyNDFiZGM1ZjYwZWZmID0gTC5jaXJjbGVNYXJrZXIoCiAgICAgICAgICAgICAgICBbNDAuNzE3NDc1LC03NC4wMDQ5MTNdLAogICAgICAgICAgICAgICAgewogICJidWJibGluZ01vdXNlRXZlbnRzIjogdHJ1ZSwKICAiY29sb3IiOiAiYmx1ZSIsCiAgImRhc2hBcnJheSI6IG51bGwsCiAgImRhc2hPZmZzZXQiOiBudWxsLAogICJmaWxsIjogdHJ1ZSwKICAiZmlsbENvbG9yIjogImJsdWUiLAogICJmaWxsT3BhY2l0eSI6IDAuNiwKICAiZmlsbFJ1bGUiOiAiZXZlbm9kZCIsCiAgImxpbmVDYXAiOiAicm91bmQiLAogICJsaW5lSm9pbiI6ICJyb3VuZCIsCiAgIm9wYWNpdHkiOiAxLjAsCiAgInJhZGl1cyI6IDUsCiAgInN0cm9rZSI6IHRydWUsCiAgIndlaWdodCI6IDMKfQogICAgICAgICAgICAgICAgKS5hZGRUbyhtYXBfMjNjM2M1NmUzY2ZmNDgwODlhYWU4NGFhNjQyMjM3ZGQpOwogICAgICAgICAgICAKICAgIAogICAgICAgICAgICB2YXIgcG9wdXBfYzA2ZDQ4NGY1Zjc3NDgxNDg4YmU4NWFiYTJhZDExMDYgPSBMLnBvcHVwKHttYXhXaWR0aDogJzMwMCd9KTsKCiAgICAgICAgICAgIAogICAgICAgICAgICAgICAgdmFyIGh0bWxfNDE1OWE1ZDk4MTM3NDc3MDg1Njc0N2Q4MzMwZjcxZGUgPSAkKCc8ZGl2IGlkPSJodG1sXzQxNTlhNWQ5ODEzNzQ3NzA4NTY3NDdkODMzMGY3MWRlIiBzdHlsZT0id2lkdGg6IDEwMC4wJTsgaGVpZ2h0OiAxMDAuMCU7Ij5HZW5lcmFsIEVudGVydGFpbm1lbnQ8L2Rpdj4nKVswXTsKICAgICAgICAgICAgICAgIHBvcHVwX2MwNmQ0ODRmNWY3NzQ4MTQ4OGJlODVhYmEyYWQxMTA2LnNldENvbnRlbnQoaHRtbF80MTU5YTVkOTgxMzc0NzcwODU2NzQ3ZDgzMzBmNzFkZSk7CiAgICAgICAgICAgIAoKICAgICAgICAgICAgY2lyY2xlX21hcmtlcl8xMGI0MTQ1MmE4NWU0NGEzYWQ5MjQxYmRjNWY2MGVmZi5iaW5kUG9wdXAocG9wdXBfYzA2ZDQ4NGY1Zjc3NDgxNDg4YmU4NWFiYTJhZDExMDYpOwoKICAgICAgICAgICAgCiAgICAgICAgCiAgICAKICAgICAgICAgICAgdmFyIGNpcmNsZV9tYXJrZXJfNDRhYzgxMmI5NDY2NDU5MTlhZTE0N2Y3NWVlYzNiZTcgPSBMLmNpcmNsZU1hcmtlcigKICAgICAgICAgICAgICAgIFs0MC43MTQ5ODk3NTMwNjY1MiwtNzQuMDA1NTI5NzU4MjYyNzhdLAogICAgICAgICAgICAgICAgewogICJidWJibGluZ01vdXNlRXZlbnRzIjogdHJ1ZSwKICAiY29sb3IiOiAiYmx1ZSIsCiAgImRhc2hBcnJheSI6IG51bGwsCiAgImRhc2hPZmZzZXQiOiBudWxsLAogICJmaWxsIjogdHJ1ZSwKICAiZmlsbENvbG9yIjogImJsdWUiLAogICJmaWxsT3BhY2l0eSI6IDAuNiwKICAiZmlsbFJ1bGUiOiAiZXZlbm9kZCIsCiAgImxpbmVDYXAiOiAicm91bmQiLAogICJsaW5lSm9pbiI6ICJyb3VuZCIsCiAgIm9wYWNpdHkiOiAxLjAsCiAgInJhZGl1cyI6IDUsCiAgInN0cm9rZSI6IHRydWUsCiAgIndlaWdodCI6IDMKfQogICAgICAgICAgICAgICAgKS5hZGRUbyhtYXBfMjNjM2M1NmUzY2ZmNDgwODlhYWU4NGFhNjQyMjM3ZGQpOwogICAgICAgICAgICAKICAgIAogICAgICAgICAgICB2YXIgcG9wdXBfODdlODQ2NWM1MzA4NGY1NmIxZWYzNTk1ZWIxZDMyNGQgPSBMLnBvcHVwKHttYXhXaWR0aDogJzMwMCd9KTsKCiAgICAgICAgICAgIAogICAgICAgICAgICAgICAgdmFyIGh0bWxfNDFlY2RkMjBiNTAwNDAzMTljMTMwZGU5MjY1NjI2NjAgPSAkKCc8ZGl2IGlkPSJodG1sXzQxZWNkZDIwYjUwMDQwMzE5YzEzMGRlOTI2NTYyNjYwIiBzdHlsZT0id2lkdGg6IDEwMC4wJTsgaGVpZ2h0OiAxMDAuMCU7Ij5Nb251bWVudCAvIExhbmRtYXJrPC9kaXY+JylbMF07CiAgICAgICAgICAgICAgICBwb3B1cF84N2U4NDY1YzUzMDg0ZjU2YjFlZjM1OTVlYjFkMzI0ZC5zZXRDb250ZW50KGh0bWxfNDFlY2RkMjBiNTAwNDAzMTljMTMwZGU5MjY1NjI2NjApOwogICAgICAgICAgICAKCiAgICAgICAgICAgIGNpcmNsZV9tYXJrZXJfNDRhYzgxMmI5NDY2NDU5MTlhZTE0N2Y3NWVlYzNiZTcuYmluZFBvcHVwKHBvcHVwXzg3ZTg0NjVjNTMwODRmNTZiMWVmMzU5NWViMWQzMjRkKTsKCiAgICAgICAgICAgIAogICAgICAgIAogICAgCiAgICAgICAgICAgIHZhciBjaXJjbGVfbWFya2VyXzY1MmM1OGVkNzcxYTQyZmY4NTExMTJiYTM2NGVkNzg2ID0gTC5jaXJjbGVNYXJrZXIoCiAgICAgICAgICAgICAgICBbNDAuNzE4MTQxNDExNjQxMjM0LC03NC4wMDQ5NDEyMTIzNDg0Nl0sCiAgICAgICAgICAgICAgICB7CiAgImJ1YmJsaW5nTW91c2VFdmVudHMiOiB0cnVlLAogICJjb2xvciI6ICJibHVlIiwKICAiZGFzaEFycmF5IjogbnVsbCwKICAiZGFzaE9mZnNldCI6IG51bGwsCiAgImZpbGwiOiB0cnVlLAogICJmaWxsQ29sb3IiOiAiYmx1ZSIsCiAgImZpbGxPcGFjaXR5IjogMC42LAogICJmaWxsUnVsZSI6ICJldmVub2RkIiwKICAibGluZUNhcCI6ICJyb3VuZCIsCiAgImxpbmVKb2luIjogInJvdW5kIiwKICAib3BhY2l0eSI6IDEuMCwKICAicmFkaXVzIjogNSwKICAic3Ryb2tlIjogdHJ1ZSwKICAid2VpZ2h0IjogMwp9CiAgICAgICAgICAgICAgICApLmFkZFRvKG1hcF8yM2MzYzU2ZTNjZmY0ODA4OWFhZTg0YWE2NDIyMzdkZCk7CiAgICAgICAgICAgIAogICAgCiAgICAgICAgICAgIHZhciBwb3B1cF9hZjM4YzcwZWYwNWU0MDUwOTU5MWYxMTdjOGFiN2MwYSA9IEwucG9wdXAoe21heFdpZHRoOiAnMzAwJ30pOwoKICAgICAgICAgICAgCiAgICAgICAgICAgICAgICB2YXIgaHRtbF8xNGRkMmZmNjg5NmE0YWZjOGUxODJiZDJiMWQ1NWNkYyA9ICQoJzxkaXYgaWQ9Imh0bWxfMTRkZDJmZjY4OTZhNGFmYzhlMTgyYmQyYjFkNTVjZGMiIHN0eWxlPSJ3aWR0aDogMTAwLjAlOyBoZWlnaHQ6IDEwMC4wJTsiPlNwYTwvZGl2PicpWzBdOwogICAgICAgICAgICAgICAgcG9wdXBfYWYzOGM3MGVmMDVlNDA1MDk1OTFmMTE3YzhhYjdjMGEuc2V0Q29udGVudChodG1sXzE0ZGQyZmY2ODk2YTRhZmM4ZTE4MmJkMmIxZDU1Y2RjKTsKICAgICAgICAgICAgCgogICAgICAgICAgICBjaXJjbGVfbWFya2VyXzY1MmM1OGVkNzcxYTQyZmY4NTExMTJiYTM2NGVkNzg2LmJpbmRQb3B1cChwb3B1cF9hZjM4YzcwZWYwNWU0MDUwOTU5MWYxMTdjOGFiN2MwYSk7CgogICAgICAgICAgICAKICAgICAgICAKICAgIAogICAgICAgICAgICB2YXIgY2lyY2xlX21hcmtlcl80OWJmZjhlOWRmZTU0YTEwOWY4ZDBiOTg5ODdmYTA4NyA9IEwuY2lyY2xlTWFya2VyKAogICAgICAgICAgICAgICAgWzQwLjcxOTI1Njk5NDI1NjAxLC03NC4wMDgzODkxMzkyODU3NF0sCiAgICAgICAgICAgICAgICB7CiAgImJ1YmJsaW5nTW91c2VFdmVudHMiOiB0cnVlLAogICJjb2xvciI6ICJibHVlIiwKICAiZGFzaEFycmF5IjogbnVsbCwKICAiZGFzaE9mZnNldCI6IG51bGwsCiAgImZpbGwiOiB0cnVlLAogICJmaWxsQ29sb3IiOiAiYmx1ZSIsCiAgImZpbGxPcGFjaXR5IjogMC42LAogICJmaWxsUnVsZSI6ICJldmVub2RkIiwKICAibGluZUNhcCI6ICJyb3VuZCIsCiAgImxpbmVKb2luIjogInJvdW5kIiwKICAib3BhY2l0eSI6IDEuMCwKICAicmFkaXVzIjogNSwKICAic3Ryb2tlIjogdHJ1ZSwKICAid2VpZ2h0IjogMwp9CiAgICAgICAgICAgICAgICApLmFkZFRvKG1hcF8yM2MzYzU2ZTNjZmY0ODA4OWFhZTg0YWE2NDIyMzdkZCk7CiAgICAgICAgICAgIAogICAgCiAgICAgICAgICAgIHZhciBwb3B1cF82N2ViZjFmZDk2Mzk0MGU5YmVhYTgzYjZhNmE2ZjExMSA9IEwucG9wdXAoe21heFdpZHRoOiAnMzAwJ30pOwoKICAgICAgICAgICAgCiAgICAgICAgICAgICAgICB2YXIgaHRtbF83MmYyMzdkODg1ODU0NzY3YjRjY2Y3OGEyZDZiYTk0MyA9ICQoJzxkaXYgaWQ9Imh0bWxfNzJmMjM3ZDg4NTg1NDc2N2I0Y2NmNzhhMmQ2YmE5NDMiIHN0eWxlPSJ3aWR0aDogMTAwLjAlOyBoZWlnaHQ6IDEwMC4wJTsiPk1lbidzIFN0b3JlPC9kaXY+JylbMF07CiAgICAgICAgICAgICAgICBwb3B1cF82N2ViZjFmZDk2Mzk0MGU5YmVhYTgzYjZhNmE2ZjExMS5zZXRDb250ZW50KGh0bWxfNzJmMjM3ZDg4NTg1NDc2N2I0Y2NmNzhhMmQ2YmE5NDMpOwogICAgICAgICAgICAKCiAgICAgICAgICAgIGNpcmNsZV9tYXJrZXJfNDliZmY4ZTlkZmU1NGExMDlmOGQwYjk4OTg3ZmEwODcuYmluZFBvcHVwKHBvcHVwXzY3ZWJmMWZkOTYzOTQwZTliZWFhODNiNmE2YTZmMTExKTsKCiAgICAgICAgICAgIAogICAgICAgIAogICAgCiAgICAgICAgICAgIHZhciBjaXJjbGVfbWFya2VyXzkwMzBmOTIwNTk5OTQ2ZjVhZDBmMDE5YTZmNjhjYTg2ID0gTC5jaXJjbGVNYXJrZXIoCiAgICAgICAgICAgICAgICBbNDAuNzExNDQ3NzI4NzU0NCwtNzQuMDA2ODAxNTcwMzIwMDVdLAogICAgICAgICAgICAgICAgewogICJidWJibGluZ01vdXNlRXZlbnRzIjogdHJ1ZSwKICAiY29sb3IiOiAiYmx1ZSIsCiAgImRhc2hBcnJheSI6IG51bGwsCiAgImRhc2hPZmZzZXQiOiBudWxsLAogICJmaWxsIjogdHJ1ZSwKICAiZmlsbENvbG9yIjogImJsdWUiLAogICJmaWxsT3BhY2l0eSI6IDAuNiwKICAiZmlsbFJ1bGUiOiAiZXZlbm9kZCIsCiAgImxpbmVDYXAiOiAicm91bmQiLAogICJsaW5lSm9pbiI6ICJyb3VuZCIsCiAgIm9wYWNpdHkiOiAxLjAsCiAgInJhZGl1cyI6IDUsCiAgInN0cm9rZSI6IHRydWUsCiAgIndlaWdodCI6IDMKfQogICAgICAgICAgICAgICAgKS5hZGRUbyhtYXBfMjNjM2M1NmUzY2ZmNDgwODlhYWU4NGFhNjQyMjM3ZGQpOwogICAgICAgICAgICAKICAgIAogICAgICAgICAgICB2YXIgcG9wdXBfOGQ5YjY4N2I2YjFlNGIzMmJkYjA3OWI0OGQ4ODJiNTUgPSBMLnBvcHVwKHttYXhXaWR0aDogJzMwMCd9KTsKCiAgICAgICAgICAgIAogICAgICAgICAgICAgICAgdmFyIGh0bWxfMGI1NzQxNGY5MjU1NDRlN2ExMTIyMDRkNTU3ZWU4YjUgPSAkKCc8ZGl2IGlkPSJodG1sXzBiNTc0MTRmOTI1NTQ0ZTdhMTEyMjA0ZDU1N2VlOGI1IiBzdHlsZT0id2lkdGg6IDEwMC4wJTsgaGVpZ2h0OiAxMDAuMCU7Ij5Ib3RlbCBCYXI8L2Rpdj4nKVswXTsKICAgICAgICAgICAgICAgIHBvcHVwXzhkOWI2ODdiNmIxZTRiMzJiZGIwNzliNDhkODgyYjU1LnNldENvbnRlbnQoaHRtbF8wYjU3NDE0ZjkyNTU0NGU3YTExMjIwNGQ1NTdlZThiNSk7CiAgICAgICAgICAgIAoKICAgICAgICAgICAgY2lyY2xlX21hcmtlcl85MDMwZjkyMDU5OTk0NmY1YWQwZjAxOWE2ZjY4Y2E4Ni5iaW5kUG9wdXAocG9wdXBfOGQ5YjY4N2I2YjFlNGIzMmJkYjA3OWI0OGQ4ODJiNTUpOwoKICAgICAgICAgICAgCiAgICAgICAgCiAgICAKICAgICAgICAgICAgdmFyIGNpcmNsZV9tYXJrZXJfNjZlMjRhNGU2ZjhiNGZiYWExMDlmOTYxMzQ3NjRiOTUgPSBMLmNpcmNsZU1hcmtlcigKICAgICAgICAgICAgICAgIFs0MC43MTM5MjMxNjMyNDY2OSwtNzQuMDA1NjYxNDkyMDQ1MV0sCiAgICAgICAgICAgICAgICB7CiAgImJ1YmJsaW5nTW91c2VFdmVudHMiOiB0cnVlLAogICJjb2xvciI6ICJibHVlIiwKICAiZGFzaEFycmF5IjogbnVsbCwKICAiZGFzaE9mZnNldCI6IG51bGwsCiAgImZpbGwiOiB0cnVlLAogICJmaWxsQ29sb3IiOiAiYmx1ZSIsCiAgImZpbGxPcGFjaXR5IjogMC42LAogICJmaWxsUnVsZSI6ICJldmVub2RkIiwKICAibGluZUNhcCI6ICJyb3VuZCIsCiAgImxpbmVKb2luIjogInJvdW5kIiwKICAib3BhY2l0eSI6IDEuMCwKICAicmFkaXVzIjogNSwKICAic3Ryb2tlIjogdHJ1ZSwKICAid2VpZ2h0IjogMwp9CiAgICAgICAgICAgICAgICApLmFkZFRvKG1hcF8yM2MzYzU2ZTNjZmY0ODA4OWFhZTg0YWE2NDIyMzdkZCk7CiAgICAgICAgICAgIAogICAgCiAgICAgICAgICAgIHZhciBwb3B1cF80NWUwMzQ4YTk5ZmY0NmUyYTI0NzVhMGZkN2VhMDJiYSA9IEwucG9wdXAoe21heFdpZHRoOiAnMzAwJ30pOwoKICAgICAgICAgICAgCiAgICAgICAgICAgICAgICB2YXIgaHRtbF9kYzliOTM3Zjc4NjE0Y2E2YmZmZTgyYjA1MTcyMjg4NSA9ICQoJzxkaXYgaWQ9Imh0bWxfZGM5YjkzN2Y3ODYxNGNhNmJmZmU4MmIwNTE3MjI4ODUiIHN0eWxlPSJ3aWR0aDogMTAwLjAlOyBoZWlnaHQ6IDEwMC4wJTsiPkRhbmNlIFN0dWRpbzwvZGl2PicpWzBdOwogICAgICAgICAgICAgICAgcG9wdXBfNDVlMDM0OGE5OWZmNDZlMmEyNDc1YTBmZDdlYTAyYmEuc2V0Q29udGVudChodG1sX2RjOWI5MzdmNzg2MTRjYTZiZmZlODJiMDUxNzIyODg1KTsKICAgICAgICAgICAgCgogICAgICAgICAgICBjaXJjbGVfbWFya2VyXzY2ZTI0YTRlNmY4YjRmYmFhMTA5Zjk2MTM0NzY0Yjk1LmJpbmRQb3B1cChwb3B1cF80NWUwMzQ4YTk5ZmY0NmUyYTI0NzVhMGZkN2VhMDJiYSk7CgogICAgICAgICAgICAKICAgICAgICAKICAgIAogICAgICAgICAgICB2YXIgY2lyY2xlX21hcmtlcl8wMjZlOTkyZmI3NDk0ODBkYWU5ZDQ3YzdmNmE0NjViOSA9IEwuY2lyY2xlTWFya2VyKAogICAgICAgICAgICAgICAgWzQwLjcxMTgyMTY1NzQyMDUzNiwtNzQuMDExNjMyNDc4MzkzNTVdLAogICAgICAgICAgICAgICAgewogICJidWJibGluZ01vdXNlRXZlbnRzIjogdHJ1ZSwKICAiY29sb3IiOiAiYmx1ZSIsCiAgImRhc2hBcnJheSI6IG51bGwsCiAgImRhc2hPZmZzZXQiOiBudWxsLAogICJmaWxsIjogdHJ1ZSwKICAiZmlsbENvbG9yIjogImJsdWUiLAogICJmaWxsT3BhY2l0eSI6IDAuNiwKICAiZmlsbFJ1bGUiOiAiZXZlbm9kZCIsCiAgImxpbmVDYXAiOiAicm91bmQiLAogICJsaW5lSm9pbiI6ICJyb3VuZCIsCiAgIm9wYWNpdHkiOiAxLjAsCiAgInJhZGl1cyI6IDUsCiAgInN0cm9rZSI6IHRydWUsCiAgIndlaWdodCI6IDMKfQogICAgICAgICAgICAgICAgKS5hZGRUbyhtYXBfMjNjM2M1NmUzY2ZmNDgwODlhYWU4NGFhNjQyMjM3ZGQpOwogICAgICAgICAgICAKICAgIAogICAgICAgICAgICB2YXIgcG9wdXBfYWExZjU1M2E2ZDBiNGY5Y2I4ZDIyZTBiNTgxNzU0YzYgPSBMLnBvcHVwKHttYXhXaWR0aDogJzMwMCd9KTsKCiAgICAgICAgICAgIAogICAgICAgICAgICAgICAgdmFyIGh0bWxfMGNhZDlmMGY3NmE3NDg4OGE1NzAyZjY0MWEwY2ZjOTEgPSAkKCc8ZGl2IGlkPSJodG1sXzBjYWQ5ZjBmNzZhNzQ4ODhhNTcwMmY2NDFhMGNmYzkxIiBzdHlsZT0id2lkdGg6IDEwMC4wJTsgaGVpZ2h0OiAxMDAuMCU7Ij5QbGF6YTwvZGl2PicpWzBdOwogICAgICAgICAgICAgICAgcG9wdXBfYWExZjU1M2E2ZDBiNGY5Y2I4ZDIyZTBiNTgxNzU0YzYuc2V0Q29udGVudChodG1sXzBjYWQ5ZjBmNzZhNzQ4ODhhNTcwMmY2NDFhMGNmYzkxKTsKICAgICAgICAgICAgCgogICAgICAgICAgICBjaXJjbGVfbWFya2VyXzAyNmU5OTJmYjc0OTQ4MGRhZTlkNDdjN2Y2YTQ2NWI5LmJpbmRQb3B1cChwb3B1cF9hYTFmNTUzYTZkMGI0ZjljYjhkMjJlMGI1ODE3NTRjNik7CgogICAgICAgICAgICAKICAgICAgICAKICAgIAogICAgICAgICAgICB2YXIgY2lyY2xlX21hcmtlcl81NTYwYWNlZTE1NTI0YzQyOTFlOTEyYmIxNDU5ZjNkZiA9IEwuY2lyY2xlTWFya2VyKAogICAgICAgICAgICAgICAgWzQwLjcxMjA3NzI2MjgyMDkyLC03NC4wMTMxODY2OTMxOTE1M10sCiAgICAgICAgICAgICAgICB7CiAgImJ1YmJsaW5nTW91c2VFdmVudHMiOiB0cnVlLAogICJjb2xvciI6ICJibHVlIiwKICAiZGFzaEFycmF5IjogbnVsbCwKICAiZGFzaE9mZnNldCI6IG51bGwsCiAgImZpbGwiOiB0cnVlLAogICJmaWxsQ29sb3IiOiAiYmx1ZSIsCiAgImZpbGxPcGFjaXR5IjogMC42LAogICJmaWxsUnVsZSI6ICJldmVub2RkIiwKICAibGluZUNhcCI6ICJyb3VuZCIsCiAgImxpbmVKb2luIjogInJvdW5kIiwKICAib3BhY2l0eSI6IDEuMCwKICAicmFkaXVzIjogNSwKICAic3Ryb2tlIjogdHJ1ZSwKICAid2VpZ2h0IjogMwp9CiAgICAgICAgICAgICAgICApLmFkZFRvKG1hcF8yM2MzYzU2ZTNjZmY0ODA4OWFhZTg0YWE2NDIyMzdkZCk7CiAgICAgICAgICAgIAogICAgCiAgICAgICAgICAgIHZhciBwb3B1cF81OTdmMjdlZjViNGY0MmI2YjBjNTEzNWRiOGU1NWUwNSA9IEwucG9wdXAoe21heFdpZHRoOiAnMzAwJ30pOwoKICAgICAgICAgICAgCiAgICAgICAgICAgICAgICB2YXIgaHRtbF84OTg3NGZkNDJhMWI0MDE5YmYyOTQxZWIzNzVhMjMyZiA9ICQoJzxkaXYgaWQ9Imh0bWxfODk4NzRmZDQyYTFiNDAxOWJmMjk0MWViMzc1YTIzMmYiIHN0eWxlPSJ3aWR0aDogMTAwLjAlOyBoZWlnaHQ6IDEwMC4wJTsiPk1lbW9yaWFsIFNpdGU8L2Rpdj4nKVswXTsKICAgICAgICAgICAgICAgIHBvcHVwXzU5N2YyN2VmNWI0ZjQyYjZiMGM1MTM1ZGI4ZTU1ZTA1LnNldENvbnRlbnQoaHRtbF84OTg3NGZkNDJhMWI0MDE5YmYyOTQxZWIzNzVhMjMyZik7CiAgICAgICAgICAgIAoKICAgICAgICAgICAgY2lyY2xlX21hcmtlcl81NTYwYWNlZTE1NTI0YzQyOTFlOTEyYmIxNDU5ZjNkZi5iaW5kUG9wdXAocG9wdXBfNTk3ZjI3ZWY1YjRmNDJiNmIwYzUxMzVkYjhlNTVlMDUpOwoKICAgICAgICAgICAgCiAgICAgICAgCiAgICAKICAgICAgICAgICAgdmFyIGNpcmNsZV9tYXJrZXJfNzlmYTY3NjlkN2YwNDVhZGIzZGRiNWVjYzc1MmVkNzEgPSBMLmNpcmNsZU1hcmtlcigKICAgICAgICAgICAgICAgIFs0MC43MTExNzI1LC03NC4wMDY3MDE3XSwKICAgICAgICAgICAgICAgIHsKICAiYnViYmxpbmdNb3VzZUV2ZW50cyI6IHRydWUsCiAgImNvbG9yIjogImJsdWUiLAogICJkYXNoQXJyYXkiOiBudWxsLAogICJkYXNoT2Zmc2V0IjogbnVsbCwKICAiZmlsbCI6IHRydWUsCiAgImZpbGxDb2xvciI6ICJibHVlIiwKICAiZmlsbE9wYWNpdHkiOiAwLjYsCiAgImZpbGxSdWxlIjogImV2ZW5vZGQiLAogICJsaW5lQ2FwIjogInJvdW5kIiwKICAibGluZUpvaW4iOiAicm91bmQiLAogICJvcGFjaXR5IjogMS4wLAogICJyYWRpdXMiOiA1LAogICJzdHJva2UiOiB0cnVlLAogICJ3ZWlnaHQiOiAzCn0KICAgICAgICAgICAgICAgICkuYWRkVG8obWFwXzIzYzNjNTZlM2NmZjQ4MDg5YWFlODRhYTY0MjIzN2RkKTsKICAgICAgICAgICAgCiAgICAKICAgICAgICAgICAgdmFyIHBvcHVwX2E4NjA0ZDU5MzAzMzRjYTY5NmJlYzg4NWI3YTE0ZGQwID0gTC5wb3B1cCh7bWF4V2lkdGg6ICczMDAnfSk7CgogICAgICAgICAgICAKICAgICAgICAgICAgICAgIHZhciBodG1sXzA2NTUyZTllZmYyYjRlZjU4ZGZkMTk1NzE4ZDhkMjdkID0gJCgnPGRpdiBpZD0iaHRtbF8wNjU1MmU5ZWZmMmI0ZWY1OGRmZDE5NTcxOGQ4ZDI3ZCIgc3R5bGU9IndpZHRoOiAxMDAuMCU7IGhlaWdodDogMTAwLjAlOyI+SG90ZWw8L2Rpdj4nKVswXTsKICAgICAgICAgICAgICAgIHBvcHVwX2E4NjA0ZDU5MzAzMzRjYTY5NmJlYzg4NWI3YTE0ZGQwLnNldENvbnRlbnQoaHRtbF8wNjU1MmU5ZWZmMmI0ZWY1OGRmZDE5NTcxOGQ4ZDI3ZCk7CiAgICAgICAgICAgIAoKICAgICAgICAgICAgY2lyY2xlX21hcmtlcl83OWZhNjc2OWQ3ZjA0NWFkYjNkZGI1ZWNjNzUyZWQ3MS5iaW5kUG9wdXAocG9wdXBfYTg2MDRkNTkzMDMzNGNhNjk2YmVjODg1YjdhMTRkZDApOwoKICAgICAgICAgICAgCiAgICAgICAgCjwvc2NyaXB0Pg== onload=\"this.contentDocument.open();this.contentDocument.write(atob(this.getAttribute('data-html')));this.contentDocument.close();\" allowfullscreen webkitallowfullscreen mozallowfullscreen></iframe></div></div>"
      ],
      "text/plain": [
       "<folium.folium.Map at 0x1db9ca49cc8>"
      ]
     },
     "execution_count": 164,
     "metadata": {},
     "output_type": "execute_result"
    }
   ],
   "source": [
    "venues_map = folium.Map(location=[latitude, longitude], zoom_start=15) # generate map centred around Ecco\n",
    "\n",
    "\n",
    "# add Ecco as a red circle mark\n",
    "folium.features.CircleMarker(\n",
    "    [latitude, longitude],\n",
    "    radius=10,\n",
    "    popup='Ecco',\n",
    "    fill=True,\n",
    "    color='red',\n",
    "    fill_color='red',\n",
    "    fill_opacity=0.6\n",
    "    ).add_to(venues_map)\n",
    "\n",
    "\n",
    "# add popular spots to the map as blue circle markers\n",
    "for lat, lng, label in zip(dataframe_filtered.lat, dataframe_filtered.lng, dataframe_filtered.categories):\n",
    "    folium.features.CircleMarker(\n",
    "        [lat, lng],\n",
    "        radius=5,\n",
    "        popup=label,\n",
    "        fill=True,\n",
    "        color='blue',\n",
    "        fill_color='blue',\n",
    "        fill_opacity=0.6\n",
    "        ).add_to(venues_map)\n",
    "\n",
    "# display map\n",
    "venues_map"
   ]
  },
  {
   "cell_type": "markdown",
   "metadata": {
    "button": false,
    "deletable": true,
    "new_sheet": false,
    "run_control": {
     "read_only": false
    }
   },
   "source": [
    "   "
   ]
  },
  {
   "cell_type": "markdown",
   "metadata": {
    "button": false,
    "deletable": true,
    "new_sheet": false,
    "run_control": {
     "read_only": false
    }
   },
   "source": [
    "<a id=\"item5\"></a>"
   ]
  },
  {
   "cell_type": "markdown",
   "metadata": {
    "button": false,
    "deletable": true,
    "new_sheet": false,
    "run_control": {
     "read_only": false
    }
   },
   "source": [
    "## 5. Explore Trending Venues\n",
    "> `https://api.foursquare.com/v2/venues/`**trending**`?client_id=`**CLIENT_ID**`&client_secret=`**CLIENT_SECRET**`&ll=`**LATITUDE**`,`**LONGITUDE**`&v=`**VERSION**"
   ]
  },
  {
   "cell_type": "markdown",
   "metadata": {
    "button": false,
    "deletable": true,
    "new_sheet": false,
    "run_control": {
     "read_only": false
    }
   },
   "source": [
    "#### Now, instead of simply exploring the area around Ecco, you are interested in knowing the venues that are trending at the time you are done with your lunch, meaning the places with the highest foot traffic. So let's do that and get the trending venues around Ecco."
   ]
  },
  {
   "cell_type": "code",
   "execution_count": null,
   "metadata": {
    "button": false,
    "collapsed": false,
    "deletable": true,
    "jupyter": {
     "outputs_hidden": false
    },
    "new_sheet": false,
    "run_control": {
     "read_only": false
    }
   },
   "outputs": [],
   "source": [
    "# define URL\n",
    "url = 'https://api.foursquare.com/v2/venues/trending?client_id={}&client_secret={}&ll={},{}&v={}'.format(CLIENT_ID, CLIENT_SECRET, latitude, longitude, VERSION)\n",
    "\n",
    "# send GET request and get trending venues\n",
    "results = requests.get(url).json()\n",
    "results"
   ]
  },
  {
   "cell_type": "markdown",
   "metadata": {
    "button": false,
    "deletable": true,
    "new_sheet": false,
    "run_control": {
     "read_only": false
    }
   },
   "source": [
    "### Check if any venues are trending at this time"
   ]
  },
  {
   "cell_type": "code",
   "execution_count": null,
   "metadata": {
    "button": false,
    "collapsed": true,
    "deletable": true,
    "jupyter": {
     "outputs_hidden": true
    },
    "new_sheet": false,
    "run_control": {
     "read_only": false
    }
   },
   "outputs": [],
   "source": [
    "if len(results['response']['venues']) == 0:\n",
    "    trending_venues_df = 'No trending venues are available at the moment!'\n",
    "    \n",
    "else:\n",
    "    trending_venues = results['response']['venues']\n",
    "    trending_venues_df = json_normalize(trending_venues)\n",
    "\n",
    "    # filter columns\n",
    "    columns_filtered = ['name', 'categories'] + ['location.distance', 'location.city', 'location.postalCode', 'location.state', 'location.country', 'location.lat', 'location.lng']\n",
    "    trending_venues_df = trending_venues_df.loc[:, columns_filtered]\n",
    "\n",
    "    # filter the category for each row\n",
    "    trending_venues_df['categories'] = trending_venues_df.apply(get_category_type, axis=1)"
   ]
  },
  {
   "cell_type": "code",
   "execution_count": null,
   "metadata": {
    "button": false,
    "collapsed": false,
    "deletable": true,
    "jupyter": {
     "outputs_hidden": false
    },
    "new_sheet": false,
    "run_control": {
     "read_only": false
    }
   },
   "outputs": [],
   "source": [
    "# display trending venues\n",
    "trending_venues_df"
   ]
  },
  {
   "cell_type": "markdown",
   "metadata": {
    "button": false,
    "deletable": true,
    "new_sheet": false,
    "run_control": {
     "read_only": false
    }
   },
   "source": [
    "Now, depending on when you run the above code, you might get different venues since the venues with the highest foot traffic are fetched live. "
   ]
  },
  {
   "cell_type": "markdown",
   "metadata": {
    "button": false,
    "deletable": true,
    "new_sheet": false,
    "run_control": {
     "read_only": false
    }
   },
   "source": [
    "### Visualize trending venues"
   ]
  },
  {
   "cell_type": "code",
   "execution_count": null,
   "metadata": {
    "button": false,
    "collapsed": false,
    "deletable": true,
    "jupyter": {
     "outputs_hidden": false
    },
    "new_sheet": false,
    "run_control": {
     "read_only": false
    }
   },
   "outputs": [],
   "source": [
    "if len(results['response']['venues']) == 0:\n",
    "    venues_map = 'Cannot generate visual as no trending venues are available at the moment!'\n",
    "\n",
    "else:\n",
    "    venues_map = folium.Map(location=[latitude, longitude], zoom_start=15) # generate map centred around Ecco\n",
    "\n",
    "\n",
    "    # add Ecco as a red circle mark\n",
    "    folium.features.CircleMarker(\n",
    "        [latitude, longitude],\n",
    "        radius=10,\n",
    "        popup='Ecco',\n",
    "        fill=True,\n",
    "        color='red',\n",
    "        fill_color='red',\n",
    "        fill_opacity=0.6\n",
    "    ).add_to(venues_map)\n",
    "\n",
    "\n",
    "    # add the trending venues as blue circle markers\n",
    "    for lat, lng, label in zip(trending_venues_df['location.lat'], trending_venues_df['location.lng'], trending_venues_df['name']):\n",
    "        folium.features.CircleMarker(\n",
    "            [lat, lng],\n",
    "            radius=5,\n",
    "            poup=label,\n",
    "            fill=True,\n",
    "            color='blue',\n",
    "            fill_color='blue',\n",
    "            fill_opacity=0.6\n",
    "        ).add_to(venues_map)"
   ]
  },
  {
   "cell_type": "code",
   "execution_count": null,
   "metadata": {
    "button": false,
    "collapsed": false,
    "deletable": true,
    "jupyter": {
     "outputs_hidden": false
    },
    "new_sheet": false,
    "run_control": {
     "read_only": false
    }
   },
   "outputs": [],
   "source": [
    "# display map\n",
    "venues_map"
   ]
  },
  {
   "cell_type": "markdown",
   "metadata": {
    "button": false,
    "deletable": true,
    "new_sheet": false,
    "run_control": {
     "read_only": false
    }
   },
   "source": [
    "<a id=\"item6\"></a>"
   ]
  },
  {
   "cell_type": "markdown",
   "metadata": {
    "button": false,
    "deletable": true,
    "new_sheet": false,
    "run_control": {
     "read_only": false
    }
   },
   "source": [
    "   "
   ]
  },
  {
   "cell_type": "markdown",
   "metadata": {
    "button": false,
    "deletable": true,
    "new_sheet": false,
    "run_control": {
     "read_only": false
    }
   },
   "source": [
    "### Thank you for completing this lab!\n",
    "\n",
    "This notebook was created by [Alex Aklson](https://www.linkedin.com/in/aklson/). I hope you found this lab interesting and educational. Feel free to contact me if you have any questions!"
   ]
  },
  {
   "cell_type": "markdown",
   "metadata": {
    "button": false,
    "deletable": true,
    "new_sheet": false,
    "run_control": {
     "read_only": false
    }
   },
   "source": [
    "This notebook is part of a course on **Coursera** called *Applied Data Science Capstone*. If you accessed this notebook outside the course, you can take this course online by clicking [here](http://cocl.us/DP0701EN_Coursera_Week2_LAB1)."
   ]
  },
  {
   "cell_type": "markdown",
   "metadata": {
    "button": false,
    "deletable": true,
    "new_sheet": false,
    "run_control": {
     "read_only": false
    }
   },
   "source": [
    "<hr>\n",
    "Copyright &copy; 2018 [Cognitive Class](https://cognitiveclass.ai/?utm_source=bducopyrightlink&utm_medium=dswb&utm_campaign=bdu). This notebook and its source code are released under the terms of the [MIT License](https://bigdatauniversity.com/mit-license/)."
   ]
  }
 ],
 "metadata": {
  "kernelspec": {
   "display_name": "Python 3",
   "language": "python",
   "name": "python3"
  },
  "language_info": {
   "codemirror_mode": {
    "name": "ipython",
    "version": 3
   },
   "file_extension": ".py",
   "mimetype": "text/x-python",
   "name": "python",
   "nbconvert_exporter": "python",
   "pygments_lexer": "ipython3",
   "version": "3.7.4"
  },
  "widgets": {
   "state": {},
   "version": "1.1.2"
  }
 },
 "nbformat": 4,
 "nbformat_minor": 4
}
